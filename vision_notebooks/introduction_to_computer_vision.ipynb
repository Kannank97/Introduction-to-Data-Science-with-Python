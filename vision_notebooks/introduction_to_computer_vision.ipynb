{
  "nbformat": 4,
  "nbformat_minor": 0,
  "metadata": {
    "colab": {
      "name": "vision",
      "provenance": [],
      "collapsed_sections": []
    },
    "kernelspec": {
      "name": "python3",
      "display_name": "Python 3"
    },
    "language_info": {
      "name": "python"
    }
  },
  "cells": [
    {
      "cell_type": "markdown",
      "metadata": {
        "id": "YLNGW22-lOYv"
      },
      "source": [
        "# **What is Computer Vision**\n",
        "\n",
        "Two definitions of computer vision:\n",
        "\n",
        "**Computer vision can be defined as\n",
        "a scientific field that extracts information out of digital images**. The type of\n",
        "information gained from an image can vary from identification, space\n",
        "measurements for navigation, or augmented reality applications.\n",
        "<br> <br>\n",
        "Another way to define computer vision is through its applications.\n",
        "\n",
        "**Computer vision is building algorithms that can understand the content\n",
        "of images and use it for other applications**.\n",
        "\n",
        "\n",
        "<center>\n",
        "<img src=\"https://i.imgur.com/kPyXqOP.png\"> <br>\n",
        "Computer vision at\n",
        "the intersection of multiple\n",
        "scientific fields\n",
        "</center>\n",
        "\n",
        "<font size=\"1\">Source: Computer Vision: Foundation and Applications by Ranjay Krishna - Stanford University\n"
      ]
    },
    {
      "cell_type": "markdown",
      "metadata": {
        "id": "MM3XTRZFLSFC"
      },
      "source": [
        " <center>\n",
        " <img src=\"https://i.imgur.com/vmPJvQJ.png\"><center>\n",
        "\n",
        " <font size=\"1\">Source: Lecture'1: Introductionto Computer Vision by Prof. FeiBFei Li\n",
        "Stanford Vision Lab\n",
        "\n"
      ]
    },
    {
      "cell_type": "markdown",
      "metadata": {
        "id": "r1QD2_khN2QK"
      },
      "source": [
        "<center>\n",
        "<img src=\"https://i.imgur.com/bLju6gy.png\"></center>\n",
        "\n",
        " <font size=\"1\">Source: Lecture'1: Introductionto Computer Vision by Prof. FeiBFei Li\n",
        "Stanford Vision Lab"
      ]
    },
    {
      "cell_type": "markdown",
      "metadata": {
        "id": "E9qfgEIfUMSW"
      },
      "source": [
        "<h1>Why Computer Vision Matter</h1>\n",
        "\n",
        "\n",
        "<center>\n",
        "<img src=\"https://i.imgur.com/oKVvY5M.png2\">\n",
        "</center>"
      ]
    },
    {
      "cell_type": "markdown",
      "metadata": {
        "id": "19MIfcFkng7a"
      },
      "source": [
        "# **How is computer vision used today?**"
      ]
    },
    {
      "cell_type": "markdown",
      "metadata": {
        "id": "8bDHgRMNo8aE"
      },
      "source": [
        "<h1>Optical character recognition (OCR)</h1>\n",
        "\n",
        "Technology to convert scanned docs to text\n",
        "\n",
        "<center>\n",
        "<img src=\"https://i.imgur.com/Doocv8r.png\"><br>\n",
        "License plate readers\n",
        "</center>\n",
        "\n"
      ]
    },
    {
      "cell_type": "markdown",
      "metadata": {
        "id": "PyFL7J36YRdr"
      },
      "source": [
        "<h1> Face detection</h1>\n",
        "\n",
        "<center>\n",
        "<img src=\"https://i.imgur.com/37DIND1.png\"><br>\n",
        "</center>\n"
      ]
    },
    {
      "cell_type": "markdown",
      "metadata": {
        "id": "CsvjHYaNYRXD"
      },
      "source": [
        "<h1>Face analysis and recognition</h1>\n",
        "\n",
        "<center>\n",
        "<img src=\"https://i.imgur.com/RSxdapm.png\">\n",
        "</center>"
      ]
    },
    {
      "cell_type": "markdown",
      "metadata": {
        "id": "13YvD2iqZRLV"
      },
      "source": [
        "<h1>Login without a password</h1>\n",
        "\n",
        "<center>\n",
        "<img src=\"https://i.imgur.com/p39Feyn.png\">\n",
        "</center>"
      ]
    },
    {
      "cell_type": "markdown",
      "metadata": {
        "id": "6o0LGU0caCb2"
      },
      "source": [
        "<h1>Special effects: shape capture</h1>\n",
        "\n",
        "<center>\n",
        "<img src=\"https://i.imgur.com/2gl7tnY.png\">\n",
        "</center>"
      ]
    },
    {
      "cell_type": "markdown",
      "metadata": {
        "id": "ILBgNeRXaCku"
      },
      "source": [
        "<h1>Special effects: motion capture</h1>\n",
        "\n",
        "<center>\n",
        "<img src=\"https://i.imgur.com/fvFL0C9.png\">\n",
        "</center>"
      ]
    },
    {
      "cell_type": "markdown",
      "metadata": {
        "id": "9tlPJSA_aCt-"
      },
      "source": [
        "<h1>3D face tracking with consumer cameras</h1>\n",
        "\n",
        "<center>\n",
        "<img src=\"https://i.imgur.com/QTzIFQe.png\">\n",
        "</center>"
      ]
    },
    {
      "cell_type": "markdown",
      "metadata": {
        "id": "M9oJ5P7paC4E"
      },
      "source": [
        "<h1>Image synthesis</h1>\n",
        "\n",
        "<center>\n",
        "<img src=\"https://i.imgur.com/ULW8fxT.png\">\n",
        "</center>"
      ]
    },
    {
      "cell_type": "markdown",
      "metadata": {
        "id": "tmw6L4NBb01d"
      },
      "source": [
        "<h1>Smart Cars</h1>\n",
        "\n",
        "<center>\n",
        "<img src=\"https://i.imgur.com/ZGbRVlh.png\">\n",
        "</center>"
      ]
    },
    {
      "cell_type": "markdown",
      "metadata": {
        "id": "xLm5oI6ib0vn"
      },
      "source": [
        "<h1>Self Driving Cars</h1>\n",
        "\n",
        "<center>\n",
        "<img src=\"https://upload.wikimedia.org/wikipedia/commons/thumb/d/d3/Waymo_Chrysler_Pacifica_in_Los_Altos%2C_2017.jpg/1280px-Waymo_Chrysler_Pacifica_in_Los_Altos%2C_2017.jpg\">\n",
        "</center>"
      ]
    },
    {
      "cell_type": "markdown",
      "metadata": {
        "id": "9r8OFeY2mgVm"
      },
      "source": [
        "# **Challenges**\n",
        "\n",
        "<center>\n",
        "<img src=\"https://i.imgur.com/DEklcEf.png\"></center>"
      ]
    },
    {
      "cell_type": "markdown",
      "metadata": {
        "id": "AJdmshPZmy6s"
      },
      "source": [
        "<center><img src=\"https://i.imgur.com/Kyue7jm.png\"></center>"
      ]
    }
  ]
}