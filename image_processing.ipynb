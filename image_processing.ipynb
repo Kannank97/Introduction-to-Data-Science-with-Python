{
  "nbformat": 4,
  "nbformat_minor": 0,
  "metadata": {
    "colab": {
      "name": "image_processing",
      "provenance": [],
      "collapsed_sections": [
        "1peauNei7FPt",
        "ExiddWSMZ_YS",
        "5UVlzxXojSRy",
        "lkIntz82rax1",
        "Sf4TBpvH9YqI",
        "tYuWtvP39nWv",
        "M3fhbJspClL5"
      ]
    },
    "kernelspec": {
      "name": "python3",
      "display_name": "Python 3"
    },
    "language_info": {
      "name": "python"
    }
  },
  "cells": [
    {
      "cell_type": "markdown",
      "metadata": {
        "id": "m_eHPt4V0wxK"
      },
      "source": [
        "# **Image Processing**"
      ]
    },
    {
      "cell_type": "markdown",
      "metadata": {
        "id": "1peauNei7FPt"
      },
      "source": [
        "## **Point Operators**\n",
        "\n",
        "The simplest kind of image processing transforms are point operators, where each output pixel value depends on only the corresponding input pixel value (plus some globally collected information or parameters)"
      ]
    },
    {
      "cell_type": "markdown",
      "metadata": {
        "id": "E8sx171T7oTE"
      },
      "source": [
        "### **Pixel Transforms**\n",
        "\n",
        "Pixel transforms are applying a funtion over each pixel value in the images.\n",
        "It can be a linear function with a gain and bias, which are used in brightness and contrast control, or can be a non-linear function which are used in gamma corrections in digital cameras\n"
      ]
    },
    {
      "cell_type": "markdown",
      "metadata": {
        "id": "JbFnGjoY7oEo"
      },
      "source": [
        "### **Color transforms**\n",
        "\n",
        "Brightening a picture by adding a constant value to all three color channels created undesired side effects like affecting its hue and saturation.\n",
        "\n",
        "chromaticity coordinates or even simpler color ratios\n",
        "can first be computed and then used after manipulating (e.g., brightening) the luminance Y to re-compute a valid RGB image with the same hue and saturation."
      ]
    },
    {
      "cell_type": "markdown",
      "metadata": {
        "id": "3CjLqIgwnlNp"
      },
      "source": [
        "### **Compositing and matting**\n",
        "\n",
        "The process of extracting the object from the original image is often called matting. \n",
        "<br>\n",
        "The process of inserting it into another image (without visible artifacts) is called compositing.\n",
        "<br><br>\n",
        "\n",
        "<center><img src=\"https://i.imgur.com/MSxkURR.png\"></center>\n",
        "\n",
        "(a) Original Image\n",
        "(b) alpha-matted color image\n",
        "(c) alpha channel \n",
        "(d) Composited image"
      ]
    },
    {
      "cell_type": "markdown",
      "metadata": {
        "id": "oGBCVKLPpULi"
      },
      "source": [
        "### **Histogram equalization**\n",
        "\n",
        "How can be determine the best values for brightness and gain controls?\n",
        "\n",
        "The answer is to plot the histogram of the individual color channels and luminance values. From this distribution, we can compute relevant statistics\n",
        "such as the minimum, maximum, and average intensity values\n",
        "\n",
        "<br>\n",
        "Example: Histogram equalization\n",
        "<center><img src=\"https://i.imgur.com/y8H8jBT.png\">\n",
        "<img src=\"https://i.imgur.com/Q0CRBg8.png\"></center>\n",
        "\n",
        "\n"
      ]
    },
    {
      "cell_type": "markdown",
      "metadata": {
        "id": "ExiddWSMZ_YS"
      },
      "source": [
        "## **Linear Filtering**\n",
        "\n",
        "Neighborhood operator or local operator, which uses a collection of pixel values in the vicinity of a given pixel to determine its final output value.\n",
        "\n",
        "In addition to performing local tone adjustment, neighborhood operators can be used to filter images to add soft blur, sharpen details, accentuate edges, or remove noise."
      ]
    },
    {
      "cell_type": "markdown",
      "metadata": {
        "id": "-tzQru1Iewz6"
      },
      "source": [
        "### **1. Seperable Filtering**\n",
        "\n",
        "The process of performing convolution operation can be sped up by a convolution kernel which is called seperable.\n",
        "\n",
        "### **2. Band-pass and steerable filters**\n",
        "\n",
        "Band-pass filters filter out both low and high frequencies which kernel can be created by first smoothing the image with a Guassian filter and then taking the first or second derivatives."
      ]
    },
    {
      "cell_type": "markdown",
      "metadata": {
        "id": "5UVlzxXojSRy"
      },
      "source": [
        "## **More neighborhood operators**\n",
        "\n",
        "\n",
        "\n",
        "\n",
        "\n",
        "\n"
      ]
    },
    {
      "cell_type": "markdown",
      "metadata": {
        "id": "HinLkjNrqPEl"
      },
      "source": [
        "### **1. Non-linear filtering**\n",
        "\n",
        "Consider an image with 'shot noise', noise with occasioanlly large pixel values. Using a linear filter such as regular blurring with gaussian filter will only turn those large values into softer spots.\n",
        "\n",
        "**Median filtering**\n",
        "<br>\n",
        "Selects the median value from each pixel’s neighborhood. Since the shot\n",
        "noise value usually lies well outside the true values in the neighborhood, the median filter is able to filter away such bad pixels."
      ]
    },
    {
      "cell_type": "markdown",
      "metadata": {
        "id": "CVr8l1F2qRJt"
      },
      "source": [
        "### **2. Bilateral filtering**\n",
        "\n",
        "In the bilateral filter, the output pixel value depends on a weighted combination of neighboring pixel values. The idea is to simply reject (in a soft way) pixels whose values differ too much from the central pixel value."
      ]
    },
    {
      "cell_type": "markdown",
      "metadata": {
        "id": "uuRGmzljqTYs"
      },
      "source": [
        "### **Binary image processing**\n",
        "\n",
        "Binary images are thresholded grey scale image with pixel value either 0 or 1.\n",
        "<br>\n",
        "#### **Morphology**\n",
        "we first convolve the binary image with a binary structuring element and then select a binary output value depending on the thresholded result of the convolution.\n",
        "<br>\n",
        "Examples are **dilation, erosion, majority, opening, closing**\n",
        "<br>\n",
        "\n",
        "### **Distance Transforms**\n",
        "\n",
        "Also known as distance map or distance field, is a derived representation of a digital image.\n",
        "<br>\n",
        "The map labels each pixel of the image with the distance to the nearest obstacle pixel. A most common type of obstacle pixel is a boundary pixel in a binary image."
      ]
    },
    {
      "cell_type": "markdown",
      "metadata": {
        "id": "lkIntz82rax1"
      },
      "source": [
        "## **Fourier Transforms**"
      ]
    },
    {
      "cell_type": "markdown",
      "metadata": {
        "id": "P1qyn6uE5QJg"
      },
      "source": [
        "Is used to decompose an image into its sine and cosine components. The output of the transformation represents the image in the Fourier or frequency domain, while the input image is the spatial domain equivalent.\n",
        "\n",
        "The **Fast Fourier Transforms** is used to perform large-kernel operation in time that is independent of the kernel size."
      ]
    },
    {
      "cell_type": "markdown",
      "metadata": {
        "id": "2kXGT9tX7nKo"
      },
      "source": [
        "### **Two-dimensional Fourier transforms**\n",
        "\n",
        "#### **Wiener filtering***\n",
        "The fourier tranform can be sued to analyze the frequency spectrum of a whole class of image.<br>\n",
        "\n",
        "This linear filtering technique assumes that if noise is present in the system, then it is considered to be additive white Gaussian noise (AWGN). (*Not used in practice today)"
      ]
    },
    {
      "cell_type": "markdown",
      "metadata": {
        "id": "NvgIDyUm9DYJ"
      },
      "source": [
        "#### **Discrete cosine transform**\n",
        "\n",
        "The discrete cosine transform (DCT) is a variant of the Fourier transform particularly well suited to compressing images in a block-wise fashion.\n",
        "\n",
        "The DCT is widely used in today’s image and video compression algorithms."
      ]
    },
    {
      "cell_type": "markdown",
      "metadata": {
        "id": "Sf4TBpvH9YqI"
      },
      "source": [
        "## **Pyramids and wavelets**\n",
        "\n",
        "We may need to alter the resolution of an image for speeding up an processing alogorithm or to match the resolution of a printer or a screen.\n"
      ]
    },
    {
      "cell_type": "markdown",
      "metadata": {
        "id": "tYuWtvP39nWv"
      },
      "source": [
        "### **Interpolation**\n",
        "\n",
        "Image interpolation (or upsample) occurs when you resize or distort your image from one pixel grid to another.\n",
        "<br>\n",
        "\n",
        "Works by using known data to estimate values at unknown points. Common methods can be grouped into two categories:\n",
        "\n",
        "#### **Adaptive methods**\n",
        "\n",
        "Adaptive methods change depending on what they are interpolating. Examples include many proprietary algorithms in licensed software such as: Qimage, PhotoZoom Pro and Genuine Fractals.\n",
        "\n",
        "#### **Non-adaptive methods**\n",
        "Non-adaptive methods treat all pixels equally and examples are nearest neighbor, bilinear, bicubic, spline, sinc, lanczos etc.\n",
        "\n",
        "\n",
        "\n"
      ]
    },
    {
      "cell_type": "markdown",
      "metadata": {
        "id": "dMiH8vEcARbg"
      },
      "source": [
        "A camera performs an optical zoom by moving the zoom lens so that it increases the magnification of light. However, a digital zoom degrades quality by simply interpolating the image. Even though the photo with digital zoom contains the same number of pixels, the detail is clearly far less than with optical zoom."
      ]
    },
    {
      "cell_type": "markdown",
      "metadata": {
        "id": "LiB-Cbu1AWzB"
      },
      "source": [
        "### **Decimation**\n",
        "\n",
        "Reducing resolution of an image (downsampling). This is done by convolving the image with a low-pass filter and then keep every rth sample. Some examples of decimations filters are Direct subsampling, Block averaging, Sinc function.\n",
        "\n",
        "Applications include Image compression, Limited bandwidth image transmission etc.\n"
      ]
    },
    {
      "cell_type": "markdown",
      "metadata": {
        "id": "M3fhbJspClL5"
      },
      "source": [
        "### **Multi-resolution representations**\n",
        "\n",
        "Consider a task of finding a face in an image, since we don't know what is the size of the face in an image, we can construct a pyramid of differently sized images and scan each one for possible faces.\n"
      ]
    },
    {
      "cell_type": "markdown",
      "metadata": {
        "id": "2cDDgYT3EEni"
      },
      "source": [
        "#### **Laplacian pyramid**\n",
        "To construct the pyramid, we first blur and subsample the original image by a factor of two and store this in the next level of the pyramid. Also known as an *octave pyramid*.\n",
        "\n",
        "Image pyramids are extremely useful for performing multi-scale editing operations such as blending images while maintaining details."
      ]
    },
    {
      "cell_type": "markdown",
      "metadata": {
        "id": "gWFO-z3mEFi7"
      },
      "source": [
        "### **Wavelets**\n",
        "\n",
        "Wavelets provide a smooth way to decompose a signal into frequency components without blocking and are closely related to pyramids.\n",
        "\n",
        "Continuous Wavelet Transform, Inverse continuous wavelet transform, Discrete Wavelet Transform are three main methods of wavelets transforms.\n",
        "\n",
        "Application of wavelets include De-noising, Compression and Image fusion.\n",
        "\n"
      ]
    },
    {
      "cell_type": "markdown",
      "metadata": {
        "id": "Yf6Ox5SdF3l5"
      },
      "source": [
        "## **Geometric transformations**"
      ]
    },
    {
      "cell_type": "markdown",
      "metadata": {
        "id": "edmCMfB7F__L"
      },
      "source": [
        "### **Parametric transformations**\n",
        "\n",
        "Parametric transformations apply a global deformation to an image, where the behavior of the transformation is controlled by a small number of parameters.\n",
        "\n",
        "#### **MIP-mapping**\n",
        "\n",
        "A MIP-map is a standard image pyramid, where each level is prefiltered with a high-quality filter rather than a poorer quality approximation. \n",
        "\n",
        "Computer graphics rendering APIs, such as OpenGL and Direct3D, have parameters that can be used to select which variant of MIP-mapping should be used, depending on the desired tradeoff between speed and quality.\n",
        "\n",
        "#### **Anisotropic filtering**\n",
        "\n",
        "An alternative approach to filtering oriented textures, which is sometimes implemented in graphics hardware (GPUs), is to use anisotropic filtering.\n",
        "\n",
        "#### **Multi-pass transforms**\n",
        "\n",
        "The advantage of using a series of one-dimensional transforms is that they are much more efficient (in terms of basic arithmetic operations) than large, non-separable, two-dimensional filter kernels.\n",
        "\n",
        "\n"
      ]
    },
    {
      "cell_type": "markdown",
      "metadata": {
        "id": "MrYe1pjtId5r"
      },
      "source": [
        "### **Mesh-based warping**\n",
        "\n",
        "For example, changing the appearance of a face from a frown to a smile, what is needed in this case is to curve the corners of the mouth upwards while leaving the rest of the face intact. To perform such a transformation, different amounts of motion are required in different parts of the image.\n",
        "\n",
        "The mesh-warping algorithm relates features with nonuniform mesh in the source and destination images, i.e.,  the images are broken up into small regions that are mapped onto each other for the morph.\n"
      ]
    },
    {
      "cell_type": "markdown",
      "metadata": {
        "id": "ftW6RQOUJkAy"
      },
      "source": [
        "---"
      ]
    }
  ]
}