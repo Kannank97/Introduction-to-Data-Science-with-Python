{
 "cells": [
  {
   "cell_type": "markdown",
   "id": "a34617df",
   "metadata": {
    "slideshow": {
     "slide_type": "slide"
    }
   },
   "source": [
    "<p style = \"font-size : 100px; color : #532e1c ; font-family : 'Times New Roman'; border-radius: 5px 5px;\"><strong>Practical Introduction to Data Science with Python</strong></p><br/><br/>  \n",
    "<br/>\n",
    "<br/><br/>\n",
    "<p style = \"font-size : 20px; text-align : center;color : #532e1c ; font-family : 'Times New Roman'; border-radius: 5px 5px;\"><strong>Anand S Menon, Kannan K, 06-07-2021</strong></p> "
   ]
  },
  {
   "cell_type": "markdown",
   "id": "d85bac21",
   "metadata": {},
   "source": [
    "## Kannan profile"
   ]
  },
  {
   "cell_type": "markdown",
   "id": "891471fd",
   "metadata": {
    "slideshow": {
     "slide_type": "slide"
    }
   },
   "source": [
    "<img style=\"float: center;  border:5px; width:100%\" src = https://i.imgur.com/9jUL0pv.png> "
   ]
  },
  {
   "cell_type": "markdown",
   "id": "6d884875",
   "metadata": {
    "slideshow": {
     "slide_type": "slide"
    }
   },
   "source": [
    "<p style = \"font-size : 35px; color : #532e1c ; font-family : 'Times New Roman'; border-radius: 5px 5px;\"><strong>Agenda</strong></p><br/>\n",
    "\n",
    "### 1. Introduction to Data Science\n",
    "    1.1 What is Data Science ?\n",
    "    1.2 Why do we need Data Science ?\n",
    "    1.3 Brief Overview of Topics\n",
    "        1.3.1 Big Data Analytics\n",
    "        1.3.2 Machine Learning & Deep Learning\n"
   ]
  },
  {
   "cell_type": "markdown",
   "id": "e9f055e9",
   "metadata": {
    "slideshow": {
     "slide_type": "subslide"
    }
   },
   "source": [
    "### 2. Pythonic way of Data Science\n",
    "    2.1 Brief Intro to Python Programming Language\n",
    "    2.2 Python for Data Science\n",
    "    2.3 Data Processing, Statistical analysis and Visualization\n",
    "        2.3.1 numpy, pandas, scipy\n",
    "        2.3.2 matplotlib, seaborn, plotly\n",
    "    2.4 Model Building Frameworks\n",
    "        2.4.1 Scikit Learn, Tensorflow, Pytorch"
   ]
  },
  {
   "cell_type": "markdown",
   "id": "b553ff9b",
   "metadata": {
    "slideshow": {
     "slide_type": "subslide"
    }
   },
   "source": [
    "### 3. Approaching a Tabular(Structured) Problem \n",
    "    3.1 Understanding the Problem\n",
    "    3.2 Exploratory Data Analysis\n",
    "    3.2 Data Preprocessing\n",
    "    3.3 Feature Engineering\n",
    "    3.4 Model Building and Inference\n"
   ]
  },
  {
   "cell_type": "markdown",
   "id": "6c5cc163",
   "metadata": {
    "slideshow": {
     "slide_type": "subslide"
    }
   },
   "source": [
    "### 4. Approaching a Text (NLP) Problem \n",
    "    4.1 Importance of solving NLP problems\n",
    "    4.2 Applications of NLP\n",
    "    4.3 Intro to NLP\n",
    "    4.4 NLP using python\n",
    "    4.5 Approaching real life NLP problem"
   ]
  },
  {
   "cell_type": "markdown",
   "id": "a2179102",
   "metadata": {
    "slideshow": {
     "slide_type": "subslide"
    }
   },
   "source": [
    "### 4. Approaching a Vision(Unstructured) Problem "
   ]
  },
  {
   "cell_type": "markdown",
   "id": "4c9f5e7f",
   "metadata": {
    "slideshow": {
     "slide_type": "slide"
    }
   },
   "source": [
    "<p style = \"font-size : 45px; color : #532e1c ; font-family : 'Times New Roman'; border-radius: 5px 5px;\"><strong>1.1 What is Data Science?</strong></p><br/>\n",
    "\n",
    "\n",
    "<p style = \"font-size : 30px; font-family : 'Times New Roman'; border-radius: 5px 5px;\"><i><strong>\"Data science is an interdisciplinary field that uses scientific methods, processes, algorithms and systems to extract knowledge and insights from structured and unstructured data, and apply knowledge and actionable insights from data across a broad range of application domains. Data science is related to data mining, machine learning and big data.\" - Wikipedia</strong></i></p><br/>\n"
   ]
  },
  {
   "cell_type": "markdown",
   "id": "b1474823",
   "metadata": {
    "slideshow": {
     "slide_type": "subslide"
    }
   },
   "source": [
    "<p style = \"font-size : 25px;font-family : 'Times New Roman'; border-radius: 5px 5px;\"><strong>In a very simple term it is a combination of different fields like computer science, maths, statistics, domain knowledge ..etc, which works together in order to fetch, process and evaluate huge amount of data for better bussiness decision making.</strong></p><br/>\n",
    "\n",
    "<img style=\"float: center; height:50%; width:70%\" src = https://i.imgur.com/nHov1p7.jpg>\n",
    "credits:https://www.kdnuggets.com/"
   ]
  },
  {
   "cell_type": "markdown",
   "id": "15402732",
   "metadata": {
    "slideshow": {
     "slide_type": "slide"
    }
   },
   "source": [
    "<p style = \"font-size : 45px; color : #532e1c ; font-family : 'Times New Roman'; border-radius: 5px 5px;\"><strong>1.2 Why do we need Data Science?</strong></p><br/>\n",
    "\n",
    "\n",
    "<p style = \"font-size : 30px; color : #b81c11 ; font-family : 'Times New Roman'; border-radius: 5px 5px;\"><strong>Now that's a billion dollar question </strong></p>\n",
    "\n",
    "<p style = \"font-size : 30px;font-family : 'Times New Roman'; border-radius: 5px 5px;\"><strong> </strong>The answer to that question is very simple. Data Science would help companies in saving billions of dollar, Data Science is all about data and making sense of data will reduce the horrors of uncertainty for organizations. </p><br/>\n",
    "\n",
    "<p style = \"font-size : 30px;color : #09802b ;font-family : 'Times New Roman'; border-radius: 5px 5px;\">Did you know that Southwest Airlines, at one point, was able to save $100 million by leveraging data? They could reduce their planes’ idle time that waited at the tarmac and drive a change in utilizing their resources. In short, today, it is not possible for any business to imagine a world without data</p><br/>\n",
    "\n",
    "\n"
   ]
  },
  {
   "cell_type": "markdown",
   "id": "e03cd9e6",
   "metadata": {
    "slideshow": {
     "slide_type": "subslide"
    }
   },
   "source": [
    "<p style = \"font-size : 35px; color : #532e1c ; font-family : 'Times New Roman'; border-radius: 5px 5px;\"><strong>Data Explosion</strong></p><br/>\n",
    "<p style = \"font-size : 25px;font-family : 'Times New Roman'; border-radius: 5px 5px;\"><strong> </strong>Data is growing at pace we have not imagined before</p>\n",
    "\n",
    "<img style=\"float: center; height:40%; width:100%\" src = https://i.imgur.com/8KzKFs2.jpg> "
   ]
  },
  {
   "cell_type": "markdown",
   "id": "310e89e2",
   "metadata": {
    "slideshow": {
     "slide_type": "subslide"
    }
   },
   "source": [
    "<p style = \"font-size : 40px; color : #532e1c ; font-family : 'Times New Roman'; border-radius: 5px 5px;\"><strong>Data statistics facts as of 2021</strong></p>\n",
    "\n",
    "<p style = \"font-size : 30px; font-family : 'Times New Roman'; border-radius: 5px 5px;\"><i><strong>\"Google gets over 3.5 billion searches daily.\"</strong></i></p>\n",
    "\n",
    "<p style = \"font-size : 30px; font-family : 'Times New Roman'; border-radius: 5px 5px;\"><i><strong>\"WhatsApp users exchange up to 65 billion messages daily.\"</strong></i></p>\n",
    "\n",
    "<p style = \"font-size : 30px; font-family : 'Times New Roman'; border-radius: 5px 5px;\"><i><strong>\"In 2020, every person generated 1.7 megabytes per second\"</strong></i></p>\n",
    "\n",
    "<p style = \"font-size : 30px; font-family : 'Times New Roman'; border-radius: 5px 5px;\"><i><strong>\"80-90% of the data we generate today is unstructured.\"</strong></i></p>\n",
    "\n",
    "<p style = \"font-size : 30px; font-family : 'Times New Roman'; border-radius: 5px 5px;\"><i><strong>\"On average, 500 million tweets are shared every day. This can be further broken down to 6,000 tweets per second, 350,000 tweets per minute, and around 200 billion tweets every year.\"</strong></i></p><br/>\n",
    "\n",
    "\n",
    "<p style = \"font-size : 25px; font-family : 'Times New Roman'; border-radius: 5px 5px;\"><strong>The above facts clearly states the importance of data and ways to ingest, validate, process data which comes the data scince umberalla </strong></p>\n"
   ]
  },
  {
   "cell_type": "markdown",
   "id": "f91cdba8",
   "metadata": {},
   "source": [
    "## 3.Pythonic way of data science"
   ]
  },
  {
   "cell_type": "markdown",
   "id": "d94d2871",
   "metadata": {
    "slideshow": {
     "slide_type": "slide"
    }
   },
   "source": [
    "<p style = \"font-size : 35px; color : #532e1c ; font-family : 'Times New Roman'; border-radius: 5px 5px;\"><strong>3. Approaching a Tabular Problem</strong></p><br/>\n",
    "<p style = \"font-size : 25px;font-family : 'Times New Roman'; border-radius: 5px 5px;\"><strong> </strong>Titanic  Survivor Prediction Challenge</p>\n",
    "\n",
    "<img style=\"float: center; height:45%; width:100%\" src = https://i.imgur.com/VcupefA.jpg>\n",
    "credits: https://wallpapersafari.com"
   ]
  },
  {
   "cell_type": "markdown",
   "id": "1f9dca13",
   "metadata": {
    "slideshow": {
     "slide_type": "slide"
    }
   },
   "source": [
    "<p style = \"font-size : 35px; color : #532e1c ; font-family : 'Times New Roman'; border-radius: 5px 5px;\"><strong>Problem Statment</strong></p><br/>\n",
    "\n",
    "<p style = \"font-size : 26px; color : #00000 ; font-family : 'Times New Roman';\">This challenge is kind of a \"hello world\" program in the whole data Science and Machine Learning community.The task is simple: use machine learning to create a model that predicts which passengers survived the Titanic shipwreck. .In this challenge, we  build a predictive model that answers the question: “what sorts of people were more likely to survive?” using passenger data (ie name, age, gender, socio-economic class, etc).<br/><br/> While there was some element of luck involved in surviving, it seems some groups of people were more likely to survive than others.  </strong></p>"
   ]
  },
  {
   "cell_type": "markdown",
   "id": "exact-peninsula",
   "metadata": {
    "papermill": {
     "duration": 0.098282,
     "end_time": "2021-05-19T14:07:57.257046",
     "exception": false,
     "start_time": "2021-05-19T14:07:57.158764",
     "status": "completed"
    },
    "slideshow": {
     "slide_type": "slide"
    },
    "tags": []
   },
   "source": [
    "<p style = \"font-size : 30px; color : #532e1c ; font-family : 'Times New Roman'; text-align : center; border-radius: 5px 5px;\"><strong>Table of Contents</strong></p> <br/>\n",
    "\n",
    "<p style = \"font-size : 25px; font-family : 'Times New Roman'; border-radius: 5px 5px;\"><strong>1. Data Description</strong></p>\n",
    "<p style = \"font-size : 25px; font-family : 'Times New Roman'; border-radius: 5px 5px;\"><strong>2. Exploratory Data Analysis</strong></p>\n",
    "<p style = \"font-size : 25px; font-family : 'Times New Roman'; border-radius: 5px 5px;\"><strong>3. Findings From EDA</strong></p>\n",
    "<p style = \"font-size : 25px; font-family : 'Times New Roman'; border-radius: 5px 5px;\"><strong>4. Data Preprocessing</strong></p>\n",
    "<p style = \"font-size : 25px; font-family : 'Times New Roman'; border-radius: 5px 5px;\"><strong>5. Data Modeling and evaluation</strong></p>\n",
    "<p style = \"font-size : 20px; font-family : 'Times New Roman'; border-radius: 5px 5px;\"><strong>* Logistic Regression<br/>* Gradient Boosting Classifier<br/>* XgBoost<br/>* SGB Classifier</strong></p>\n",
    "<p style = \"font-size : 25px; font-family : 'Times New Roman'; border-radius: 5px 5px;\"><strong>6. Models Comparison</strong></p>\n"
   ]
  },
  {
   "cell_type": "markdown",
   "id": "legal-network",
   "metadata": {
    "papermill": {
     "duration": 0.09873,
     "end_time": "2021-05-19T14:07:57.455074",
     "exception": false,
     "start_time": "2021-05-19T14:07:57.356344",
     "status": "completed"
    },
    "slideshow": {
     "slide_type": "slide"
    },
    "tags": []
   },
   "source": [
    "<p style = \"font-size : 35px; color : #532e1c ; font-family : 'Times New Roman'; text-align : center; border-radius: 5px 5px;\"><strong>Data Description</strong></p> <br/>\n",
    "\n",
    "<ul>\n",
    "    <li style = \"; font-size : 20px; font-family : 'Times New Roman';\">Survival : 0 = No, 1 = Yes</li>\n",
    "    <li style = \"; font-size : 20px; font-family : 'Times New Roman';\">pclass(Ticket Class) : 1 = 1st, 2 = 2nd, 3 = 3rd</li>\n",
    "    <li style = \"; font-size : 20px; font-family : 'Times New Roman';\">Sex(Gender) : Male, Female</li>\n",
    "    <li style = \"; font-size : 20px; font-family : 'Times New Roman';\">Age : Age in years</li>\n",
    "    <li style = \"; font-size : 20px; font-family : 'Times New Roman';\">SibSp : Number of siblings/spouses abroad the titanic</li>\n",
    "    <li style = \"; font-size : 20px; font-family : 'Times New Roman';\">Parch : Number of parents/children abrod the titanic</li>\n",
    "    <li style = \"; font-size : 20px; font-family : 'Times New Roman';\">Ticket : Ticket Number</li>\n",
    "    <li style = \"; font-size : 20px; font-family : 'Times New Roman';\">Fare : Passenger fare</li>\n",
    "    <li style = \"; font-size : 20px; font-family : 'Times New Roman';\">Cabin : Cabin Number</li>\n",
    "    <li style = \"; font-size : 20px; font-family : 'Times New Roman';\">Embarked : Port of Embarkation, C = Cherbourg, Q = Queenstown, S = Southampton</li>\n",
    "</ul>"
   ]
  },
  {
   "cell_type": "code",
   "execution_count": 2,
   "id": "cardiac-environment",
   "metadata": {
    "execution": {
     "iopub.execute_input": "2021-05-19T14:07:57.663692Z",
     "iopub.status.busy": "2021-05-19T14:07:57.663108Z",
     "iopub.status.idle": "2021-05-19T14:07:58.439813Z",
     "shell.execute_reply": "2021-05-19T14:07:58.439195Z"
    },
    "papermill": {
     "duration": 0.884349,
     "end_time": "2021-05-19T14:07:58.439994",
     "exception": false,
     "start_time": "2021-05-19T14:07:57.555645",
     "status": "completed"
    },
    "slideshow": {
     "slide_type": "slide"
    },
    "tags": []
   },
   "outputs": [],
   "source": [
    "import pandas as pd\n",
    "import numpy as np\n",
    "import matplotlib.pyplot as plt\n",
    "import seaborn as sns\n",
    "\n",
    "import warnings\n",
    "warnings.filterwarnings('ignore')\n",
    "\n",
    "plt.style.use('fivethirtyeight')\n",
    "%matplotlib inline"
   ]
  },
  {
   "cell_type": "code",
   "execution_count": 3,
   "id": "crude-humanitarian",
   "metadata": {
    "execution": {
     "iopub.execute_input": "2021-05-19T14:07:58.654824Z",
     "iopub.status.busy": "2021-05-19T14:07:58.654308Z",
     "iopub.status.idle": "2021-05-19T14:07:58.668669Z",
     "shell.execute_reply": "2021-05-19T14:07:58.668231Z"
    },
    "papermill": {
     "duration": 0.12592,
     "end_time": "2021-05-19T14:07:58.668772",
     "exception": false,
     "start_time": "2021-05-19T14:07:58.542852",
     "status": "completed"
    },
    "slideshow": {
     "slide_type": "slide"
    },
    "tags": []
   },
   "outputs": [],
   "source": [
    "#loading a CSV file using pandas dataframe\n",
    "\n",
    "train_df = pd.read_csv('./inputs/tab/train.csv')"
   ]
  },
  {
   "cell_type": "code",
   "execution_count": 88,
   "id": "brief-programming",
   "metadata": {
    "execution": {
     "iopub.execute_input": "2021-05-19T14:07:58.807701Z",
     "iopub.status.busy": "2021-05-19T14:07:58.801634Z",
     "iopub.status.idle": "2021-05-19T14:07:58.832021Z",
     "shell.execute_reply": "2021-05-19T14:07:58.832363Z"
    },
    "papermill": {
     "duration": 0.098226,
     "end_time": "2021-05-19T14:07:58.832498",
     "exception": false,
     "start_time": "2021-05-19T14:07:58.734272",
     "status": "completed"
    },
    "slideshow": {
     "slide_type": "slide"
    },
    "tags": []
   },
   "outputs": [
    {
     "data": {
      "text/html": [
       "<div>\n",
       "<style scoped>\n",
       "    .dataframe tbody tr th:only-of-type {\n",
       "        vertical-align: middle;\n",
       "    }\n",
       "\n",
       "    .dataframe tbody tr th {\n",
       "        vertical-align: top;\n",
       "    }\n",
       "\n",
       "    .dataframe thead th {\n",
       "        text-align: right;\n",
       "    }\n",
       "</style>\n",
       "<table border=\"1\" class=\"dataframe\">\n",
       "  <thead>\n",
       "    <tr style=\"text-align: right;\">\n",
       "      <th></th>\n",
       "      <th>PassengerId</th>\n",
       "      <th>Survived</th>\n",
       "      <th>Pclass</th>\n",
       "      <th>Name</th>\n",
       "      <th>Sex</th>\n",
       "      <th>Age</th>\n",
       "      <th>SibSp</th>\n",
       "      <th>Parch</th>\n",
       "      <th>Ticket</th>\n",
       "      <th>Fare</th>\n",
       "      <th>Cabin</th>\n",
       "      <th>Embarked</th>\n",
       "    </tr>\n",
       "  </thead>\n",
       "  <tbody>\n",
       "    <tr>\n",
       "      <th>0</th>\n",
       "      <td>1</td>\n",
       "      <td>0</td>\n",
       "      <td>3</td>\n",
       "      <td>Braund, Mr. Owen Harris</td>\n",
       "      <td>male</td>\n",
       "      <td>22.0</td>\n",
       "      <td>1</td>\n",
       "      <td>0</td>\n",
       "      <td>A/5 21171</td>\n",
       "      <td>7.2500</td>\n",
       "      <td>NaN</td>\n",
       "      <td>S</td>\n",
       "    </tr>\n",
       "    <tr>\n",
       "      <th>1</th>\n",
       "      <td>2</td>\n",
       "      <td>1</td>\n",
       "      <td>1</td>\n",
       "      <td>Cumings, Mrs. John Bradley (Florence Briggs Th...</td>\n",
       "      <td>female</td>\n",
       "      <td>38.0</td>\n",
       "      <td>1</td>\n",
       "      <td>0</td>\n",
       "      <td>PC 17599</td>\n",
       "      <td>71.2833</td>\n",
       "      <td>C85</td>\n",
       "      <td>C</td>\n",
       "    </tr>\n",
       "    <tr>\n",
       "      <th>2</th>\n",
       "      <td>3</td>\n",
       "      <td>1</td>\n",
       "      <td>3</td>\n",
       "      <td>Heikkinen, Miss. Laina</td>\n",
       "      <td>female</td>\n",
       "      <td>26.0</td>\n",
       "      <td>0</td>\n",
       "      <td>0</td>\n",
       "      <td>STON/O2. 3101282</td>\n",
       "      <td>7.9250</td>\n",
       "      <td>NaN</td>\n",
       "      <td>S</td>\n",
       "    </tr>\n",
       "    <tr>\n",
       "      <th>3</th>\n",
       "      <td>4</td>\n",
       "      <td>1</td>\n",
       "      <td>1</td>\n",
       "      <td>Futrelle, Mrs. Jacques Heath (Lily May Peel)</td>\n",
       "      <td>female</td>\n",
       "      <td>35.0</td>\n",
       "      <td>1</td>\n",
       "      <td>0</td>\n",
       "      <td>113803</td>\n",
       "      <td>53.1000</td>\n",
       "      <td>C123</td>\n",
       "      <td>S</td>\n",
       "    </tr>\n",
       "    <tr>\n",
       "      <th>4</th>\n",
       "      <td>5</td>\n",
       "      <td>0</td>\n",
       "      <td>3</td>\n",
       "      <td>Allen, Mr. William Henry</td>\n",
       "      <td>male</td>\n",
       "      <td>35.0</td>\n",
       "      <td>0</td>\n",
       "      <td>0</td>\n",
       "      <td>373450</td>\n",
       "      <td>8.0500</td>\n",
       "      <td>NaN</td>\n",
       "      <td>S</td>\n",
       "    </tr>\n",
       "  </tbody>\n",
       "</table>\n",
       "</div>"
      ],
      "text/plain": [
       "   PassengerId  Survived  Pclass  \\\n",
       "0            1         0       3   \n",
       "1            2         1       1   \n",
       "2            3         1       3   \n",
       "3            4         1       1   \n",
       "4            5         0       3   \n",
       "\n",
       "                                                Name     Sex   Age  SibSp  \\\n",
       "0                            Braund, Mr. Owen Harris    male  22.0      1   \n",
       "1  Cumings, Mrs. John Bradley (Florence Briggs Th...  female  38.0      1   \n",
       "2                             Heikkinen, Miss. Laina  female  26.0      0   \n",
       "3       Futrelle, Mrs. Jacques Heath (Lily May Peel)  female  35.0      1   \n",
       "4                           Allen, Mr. William Henry    male  35.0      0   \n",
       "\n",
       "   Parch            Ticket     Fare Cabin Embarked  \n",
       "0      0         A/5 21171   7.2500   NaN        S  \n",
       "1      0          PC 17599  71.2833   C85        C  \n",
       "2      0  STON/O2. 3101282   7.9250   NaN        S  \n",
       "3      0            113803  53.1000  C123        S  \n",
       "4      0            373450   8.0500   NaN        S  "
      ]
     },
     "execution_count": 88,
     "metadata": {},
     "output_type": "execute_result"
    }
   ],
   "source": [
    "train_df.head()"
   ]
  },
  {
   "cell_type": "code",
   "execution_count": 89,
   "id": "growing-feelings",
   "metadata": {
    "execution": {
     "iopub.execute_input": "2021-05-19T14:07:58.969748Z",
     "iopub.status.busy": "2021-05-19T14:07:58.969314Z",
     "iopub.status.idle": "2021-05-19T14:07:59.002179Z",
     "shell.execute_reply": "2021-05-19T14:07:59.001772Z"
    },
    "papermill": {
     "duration": 0.102772,
     "end_time": "2021-05-19T14:07:59.002280",
     "exception": false,
     "start_time": "2021-05-19T14:07:58.899508",
     "status": "completed"
    },
    "slideshow": {
     "slide_type": "slide"
    },
    "tags": []
   },
   "outputs": [
    {
     "data": {
      "text/html": [
       "<div>\n",
       "<style scoped>\n",
       "    .dataframe tbody tr th:only-of-type {\n",
       "        vertical-align: middle;\n",
       "    }\n",
       "\n",
       "    .dataframe tbody tr th {\n",
       "        vertical-align: top;\n",
       "    }\n",
       "\n",
       "    .dataframe thead th {\n",
       "        text-align: right;\n",
       "    }\n",
       "</style>\n",
       "<table border=\"1\" class=\"dataframe\">\n",
       "  <thead>\n",
       "    <tr style=\"text-align: right;\">\n",
       "      <th></th>\n",
       "      <th>PassengerId</th>\n",
       "      <th>Survived</th>\n",
       "      <th>Pclass</th>\n",
       "      <th>Age</th>\n",
       "      <th>SibSp</th>\n",
       "      <th>Parch</th>\n",
       "      <th>Fare</th>\n",
       "    </tr>\n",
       "  </thead>\n",
       "  <tbody>\n",
       "    <tr>\n",
       "      <th>count</th>\n",
       "      <td>891.000000</td>\n",
       "      <td>891.000000</td>\n",
       "      <td>891.000000</td>\n",
       "      <td>714.000000</td>\n",
       "      <td>891.000000</td>\n",
       "      <td>891.000000</td>\n",
       "      <td>891.000000</td>\n",
       "    </tr>\n",
       "    <tr>\n",
       "      <th>mean</th>\n",
       "      <td>446.000000</td>\n",
       "      <td>0.383838</td>\n",
       "      <td>2.308642</td>\n",
       "      <td>29.699118</td>\n",
       "      <td>0.523008</td>\n",
       "      <td>0.381594</td>\n",
       "      <td>32.204208</td>\n",
       "    </tr>\n",
       "    <tr>\n",
       "      <th>std</th>\n",
       "      <td>257.353842</td>\n",
       "      <td>0.486592</td>\n",
       "      <td>0.836071</td>\n",
       "      <td>14.526497</td>\n",
       "      <td>1.102743</td>\n",
       "      <td>0.806057</td>\n",
       "      <td>49.693429</td>\n",
       "    </tr>\n",
       "    <tr>\n",
       "      <th>min</th>\n",
       "      <td>1.000000</td>\n",
       "      <td>0.000000</td>\n",
       "      <td>1.000000</td>\n",
       "      <td>0.420000</td>\n",
       "      <td>0.000000</td>\n",
       "      <td>0.000000</td>\n",
       "      <td>0.000000</td>\n",
       "    </tr>\n",
       "    <tr>\n",
       "      <th>25%</th>\n",
       "      <td>223.500000</td>\n",
       "      <td>0.000000</td>\n",
       "      <td>2.000000</td>\n",
       "      <td>20.125000</td>\n",
       "      <td>0.000000</td>\n",
       "      <td>0.000000</td>\n",
       "      <td>7.910400</td>\n",
       "    </tr>\n",
       "    <tr>\n",
       "      <th>50%</th>\n",
       "      <td>446.000000</td>\n",
       "      <td>0.000000</td>\n",
       "      <td>3.000000</td>\n",
       "      <td>28.000000</td>\n",
       "      <td>0.000000</td>\n",
       "      <td>0.000000</td>\n",
       "      <td>14.454200</td>\n",
       "    </tr>\n",
       "    <tr>\n",
       "      <th>75%</th>\n",
       "      <td>668.500000</td>\n",
       "      <td>1.000000</td>\n",
       "      <td>3.000000</td>\n",
       "      <td>38.000000</td>\n",
       "      <td>1.000000</td>\n",
       "      <td>0.000000</td>\n",
       "      <td>31.000000</td>\n",
       "    </tr>\n",
       "    <tr>\n",
       "      <th>max</th>\n",
       "      <td>891.000000</td>\n",
       "      <td>1.000000</td>\n",
       "      <td>3.000000</td>\n",
       "      <td>80.000000</td>\n",
       "      <td>8.000000</td>\n",
       "      <td>6.000000</td>\n",
       "      <td>512.329200</td>\n",
       "    </tr>\n",
       "  </tbody>\n",
       "</table>\n",
       "</div>"
      ],
      "text/plain": [
       "       PassengerId    Survived      Pclass         Age       SibSp  \\\n",
       "count   891.000000  891.000000  891.000000  714.000000  891.000000   \n",
       "mean    446.000000    0.383838    2.308642   29.699118    0.523008   \n",
       "std     257.353842    0.486592    0.836071   14.526497    1.102743   \n",
       "min       1.000000    0.000000    1.000000    0.420000    0.000000   \n",
       "25%     223.500000    0.000000    2.000000   20.125000    0.000000   \n",
       "50%     446.000000    0.000000    3.000000   28.000000    0.000000   \n",
       "75%     668.500000    1.000000    3.000000   38.000000    1.000000   \n",
       "max     891.000000    1.000000    3.000000   80.000000    8.000000   \n",
       "\n",
       "            Parch        Fare  \n",
       "count  891.000000  891.000000  \n",
       "mean     0.381594   32.204208  \n",
       "std      0.806057   49.693429  \n",
       "min      0.000000    0.000000  \n",
       "25%      0.000000    7.910400  \n",
       "50%      0.000000   14.454200  \n",
       "75%      0.000000   31.000000  \n",
       "max      6.000000  512.329200  "
      ]
     },
     "execution_count": 89,
     "metadata": {},
     "output_type": "execute_result"
    }
   ],
   "source": [
    "train_df.describe()"
   ]
  },
  {
   "cell_type": "code",
   "execution_count": 90,
   "id": "least-native",
   "metadata": {
    "execution": {
     "iopub.execute_input": "2021-05-19T14:07:59.283610Z",
     "iopub.status.busy": "2021-05-19T14:07:59.283183Z",
     "iopub.status.idle": "2021-05-19T14:07:59.299024Z",
     "shell.execute_reply": "2021-05-19T14:07:59.299406Z"
    },
    "papermill": {
     "duration": 0.085522,
     "end_time": "2021-05-19T14:07:59.299547",
     "exception": false,
     "start_time": "2021-05-19T14:07:59.214025",
     "status": "completed"
    },
    "slideshow": {
     "slide_type": "slide"
    },
    "tags": []
   },
   "outputs": [
    {
     "name": "stdout",
     "output_type": "stream",
     "text": [
      "<class 'pandas.core.frame.DataFrame'>\n",
      "RangeIndex: 891 entries, 0 to 890\n",
      "Data columns (total 12 columns):\n",
      " #   Column       Non-Null Count  Dtype  \n",
      "---  ------       --------------  -----  \n",
      " 0   PassengerId  891 non-null    int64  \n",
      " 1   Survived     891 non-null    int64  \n",
      " 2   Pclass       891 non-null    int64  \n",
      " 3   Name         891 non-null    object \n",
      " 4   Sex          891 non-null    object \n",
      " 5   Age          714 non-null    float64\n",
      " 6   SibSp        891 non-null    int64  \n",
      " 7   Parch        891 non-null    int64  \n",
      " 8   Ticket       891 non-null    object \n",
      " 9   Fare         891 non-null    float64\n",
      " 10  Cabin        204 non-null    object \n",
      " 11  Embarked     889 non-null    object \n",
      "dtypes: float64(2), int64(5), object(5)\n",
      "memory usage: 83.7+ KB\n"
     ]
    }
   ],
   "source": [
    "train_df.info()"
   ]
  },
  {
   "cell_type": "code",
   "execution_count": 91,
   "id": "difficult-graduation",
   "metadata": {
    "execution": {
     "iopub.execute_input": "2021-05-19T14:07:59.437540Z",
     "iopub.status.busy": "2021-05-19T14:07:59.437091Z",
     "iopub.status.idle": "2021-05-19T14:07:59.445367Z",
     "shell.execute_reply": "2021-05-19T14:07:59.445002Z"
    },
    "papermill": {
     "duration": 0.077892,
     "end_time": "2021-05-19T14:07:59.445467",
     "exception": false,
     "start_time": "2021-05-19T14:07:59.367575",
     "status": "completed"
    },
    "slideshow": {
     "slide_type": "slide"
    },
    "tags": []
   },
   "outputs": [
    {
     "data": {
      "text/plain": [
       "PassengerId      0\n",
       "Survived         0\n",
       "Pclass           0\n",
       "Name             0\n",
       "Sex              0\n",
       "Age            177\n",
       "SibSp            0\n",
       "Parch            0\n",
       "Ticket           0\n",
       "Fare             0\n",
       "Cabin          687\n",
       "Embarked         2\n",
       "dtype: int64"
      ]
     },
     "execution_count": 91,
     "metadata": {},
     "output_type": "execute_result"
    }
   ],
   "source": [
    "# Checking for null values\n",
    "train_df.isna().sum()"
   ]
  },
  {
   "cell_type": "markdown",
   "id": "abroad-planner",
   "metadata": {
    "papermill": {
     "duration": 0.066897,
     "end_time": "2021-05-19T14:07:59.580266",
     "exception": false,
     "start_time": "2021-05-19T14:07:59.513369",
     "status": "completed"
    },
    "slideshow": {
     "slide_type": "slide"
    },
    "tags": []
   },
   "source": [
    "<a id = '2.0'></a>\n",
    "<p style = \"font-size : 35px; color : #532e1c ; font-family : 'Times New Roman';\"><strong>Exploratory Data Analysis (EDA)</strong></p> "
   ]
  },
  {
   "cell_type": "code",
   "execution_count": 92,
   "id": "muslim-choice",
   "metadata": {
    "execution": {
     "iopub.execute_input": "2021-05-19T14:07:59.718588Z",
     "iopub.status.busy": "2021-05-19T14:07:59.718152Z",
     "iopub.status.idle": "2021-05-19T14:08:00.528732Z",
     "shell.execute_reply": "2021-05-19T14:08:00.529096Z"
    },
    "papermill": {
     "duration": 0.881894,
     "end_time": "2021-05-19T14:08:00.529225",
     "exception": false,
     "start_time": "2021-05-19T14:07:59.647331",
     "status": "completed"
    },
    "slideshow": {
     "slide_type": "slide"
    },
    "tags": []
   },
   "outputs": [
    {
     "data": {
      "image/png": "[encoded data removed]",
      "text/plain": [
       "<Figure size 1800x720 with 3 Axes>"
      ]
     },
     "metadata": {
      "needs_background": "light"
     },
     "output_type": "display_data"
    }
   ],
   "source": [
    "# visualizing null values\n",
    "\n",
    "import missingno as msno\n",
    "\n",
    "msno.bar(train_df)\n",
    "plt.show()"
   ]
  },
  {
   "cell_type": "code",
   "execution_count": 7,
   "id": "contemporary-baker",
   "metadata": {
    "execution": {
     "iopub.execute_input": "2021-05-19T14:08:00.667813Z",
     "iopub.status.busy": "2021-05-19T14:08:00.667394Z",
     "iopub.status.idle": "2021-05-19T14:08:00.975656Z",
     "shell.execute_reply": "2021-05-19T14:08:00.976126Z"
    },
    "papermill": {
     "duration": 0.378582,
     "end_time": "2021-05-19T14:08:00.976255",
     "exception": false,
     "start_time": "2021-05-19T14:08:00.597673",
     "status": "completed"
    },
    "slideshow": {
     "slide_type": "slide"
    },
    "tags": []
   },
   "outputs": [
    {
     "data": {
      "image/png": "[encoded data removed]",
      "text/plain": [
       "<Figure size 1296x576 with 2 Axes>"
      ]
     },
     "metadata": {
      "needs_background": "light"
     },
     "output_type": "display_data"
    }
   ],
   "source": [
    "# Correlation and mulitcolinarity\n",
    "\n",
    "plt.figure(figsize = (18, 8))\n",
    "\n",
    "corr = train_df.corr()\n",
    "\n",
    "sns.heatmap(corr, annot = True, fmt = '.2f', linewidths = 1, annot_kws = {'size' : 15})\n",
    "plt.show()"
   ]
  },
  {
   "cell_type": "markdown",
   "id": "functional-republican",
   "metadata": {
    "papermill": {
     "duration": 0.069434,
     "end_time": "2021-05-19T14:08:01.256086",
     "exception": false,
     "start_time": "2021-05-19T14:08:01.186652",
     "status": "completed"
    },
    "slideshow": {
     "slide_type": "slide"
    },
    "tags": []
   },
   "source": [
    "<p style = \"font-size : 35px; color : #532e1c ; font-family : 'Times New Roman'; border-radius: 5px 5px;\"><strong>Survived Column - Target</strong></p><br/>"
   ]
  },
  {
   "cell_type": "code",
   "execution_count": 8,
   "id": "caring-irish",
   "metadata": {
    "execution": {
     "iopub.execute_input": "2021-05-19T14:08:01.398982Z",
     "iopub.status.busy": "2021-05-19T14:08:01.398534Z",
     "iopub.status.idle": "2021-05-19T14:08:01.516340Z",
     "shell.execute_reply": "2021-05-19T14:08:01.516769Z"
    },
    "papermill": {
     "duration": 0.190554,
     "end_time": "2021-05-19T14:08:01.516919",
     "exception": false,
     "start_time": "2021-05-19T14:08:01.326365",
     "status": "completed"
    },
    "slideshow": {
     "slide_type": "subslide"
    },
    "tags": []
   },
   "outputs": [
    {
     "data": {
      "image/png": "[encoded data removed]",
      "text/plain": [
       "<Figure size 864x504 with 1 Axes>"
      ]
     },
     "metadata": {
      "needs_background": "light"
     },
     "output_type": "display_data"
    }
   ],
   "source": [
    "plt.figure(figsize = (12, 7))\n",
    "\n",
    "sns.countplot(y = 'Survived', data = train_df)\n",
    "plt.show()"
   ]
  },
  {
   "cell_type": "code",
   "execution_count": 93,
   "id": "renewable-apparel",
   "metadata": {
    "execution": {
     "iopub.execute_input": "2021-05-19T14:08:01.660335Z",
     "iopub.status.busy": "2021-05-19T14:08:01.659911Z",
     "iopub.status.idle": "2021-05-19T14:08:01.786932Z",
     "shell.execute_reply": "2021-05-19T14:08:01.786549Z"
    },
    "papermill": {
     "duration": 0.199188,
     "end_time": "2021-05-19T14:08:01.787035",
     "exception": false,
     "start_time": "2021-05-19T14:08:01.587847",
     "status": "completed"
    },
    "slideshow": {
     "slide_type": "subslide"
    },
    "tags": []
   },
   "outputs": [
    {
     "data": {
      "image/png": "[encoded data removed]",
      "text/plain": [
       "<Figure size 500x500 with 1 Axes>"
      ]
     },
     "metadata": {},
     "output_type": "display_data"
    }
   ],
   "source": [
    "values = train_df['Survived'].value_counts()\n",
    "labels = ['Not Survived', 'Survived']\n",
    "\n",
    "fig, ax = plt.subplots(figsize = (5, 5), dpi = 100)\n",
    "explode = (0, 0.06)\n",
    "\n",
    "patches, texts, autotexts = ax.pie(values, labels = labels, autopct = '%1.2f%%', shadow = True,\n",
    "                                   startangle = 90, explode = explode)\n",
    "\n",
    "plt.setp(texts, color = 'grey')\n",
    "plt.setp(autotexts, size = 12, color = 'white')\n",
    "autotexts[1].set_color('black')\n",
    "plt.show()"
   ]
  },
  {
   "cell_type": "markdown",
   "id": "selective-investing",
   "metadata": {
    "papermill": {
     "duration": 0.07013,
     "end_time": "2021-05-19T14:08:01.927411",
     "exception": false,
     "start_time": "2021-05-19T14:08:01.857281",
     "status": "completed"
    },
    "slideshow": {
     "slide_type": "slide"
    },
    "tags": []
   },
   "source": [
    "<p style = \"font-size : 35px; color : #532e1c ; font-family : 'Times New Roman'; border-radius: 5px 5px;\"><strong>pclass Column</strong></p><br/>"
   ]
  },
  {
   "cell_type": "code",
   "execution_count": 94,
   "id": "narrative-validation",
   "metadata": {
    "execution": {
     "iopub.execute_input": "2021-05-19T14:08:02.077802Z",
     "iopub.status.busy": "2021-05-19T14:08:02.077135Z",
     "iopub.status.idle": "2021-05-19T14:08:02.079866Z",
     "shell.execute_reply": "2021-05-19T14:08:02.080375Z"
    },
    "papermill": {
     "duration": 0.081457,
     "end_time": "2021-05-19T14:08:02.080524",
     "exception": false,
     "start_time": "2021-05-19T14:08:01.999067",
     "status": "completed"
    },
    "slideshow": {
     "slide_type": "slide"
    },
    "tags": []
   },
   "outputs": [
    {
     "data": {
      "text/plain": [
       "3    491\n",
       "1    216\n",
       "2    184\n",
       "Name: Pclass, dtype: int64"
      ]
     },
     "execution_count": 94,
     "metadata": {},
     "output_type": "execute_result"
    }
   ],
   "source": [
    "train_df.Pclass.value_counts()"
   ]
  },
  {
   "cell_type": "code",
   "execution_count": 95,
   "id": "accredited-garlic",
   "metadata": {
    "execution": {
     "iopub.execute_input": "2021-05-19T14:08:02.298537Z",
     "iopub.status.busy": "2021-05-19T14:08:02.297748Z",
     "iopub.status.idle": "2021-05-19T14:08:02.305355Z",
     "shell.execute_reply": "2021-05-19T14:08:02.304839Z"
    },
    "papermill": {
     "duration": 0.117418,
     "end_time": "2021-05-19T14:08:02.305476",
     "exception": false,
     "start_time": "2021-05-19T14:08:02.188058",
     "status": "completed"
    },
    "slideshow": {
     "slide_type": "slide"
    },
    "tags": []
   },
   "outputs": [
    {
     "data": {
      "text/plain": [
       "Pclass  Survived\n",
       "1       0            80\n",
       "        1           136\n",
       "2       0            97\n",
       "        1            87\n",
       "3       0           372\n",
       "        1           119\n",
       "Name: Survived, dtype: int64"
      ]
     },
     "execution_count": 95,
     "metadata": {},
     "output_type": "execute_result"
    }
   ],
   "source": [
    "train_df.groupby(['Pclass', 'Survived'])['Survived'].count()"
   ]
  },
  {
   "cell_type": "code",
   "execution_count": 96,
   "id": "administrative-blogger",
   "metadata": {
    "execution": {
     "iopub.execute_input": "2021-05-19T14:08:02.517775Z",
     "iopub.status.busy": "2021-05-19T14:08:02.517163Z",
     "iopub.status.idle": "2021-05-19T14:08:02.749045Z",
     "shell.execute_reply": "2021-05-19T14:08:02.748420Z"
    },
    "papermill": {
     "duration": 0.341842,
     "end_time": "2021-05-19T14:08:02.749169",
     "exception": false,
     "start_time": "2021-05-19T14:08:02.407327",
     "status": "completed"
    },
    "slideshow": {
     "slide_type": "slide"
    },
    "tags": []
   },
   "outputs": [
    {
     "data": {
      "image/png": "[encoded data removed]",
      "text/plain": [
       "<Figure size 1152x576 with 1 Axes>"
      ]
     },
     "metadata": {
      "needs_background": "light"
     },
     "output_type": "display_data"
    }
   ],
   "source": [
    "plt.figure(figsize = (16, 8))\n",
    "\n",
    "sns.countplot('Pclass', hue = 'Survived', data = train_df)\n",
    "plt.show()"
   ]
  },
  {
   "cell_type": "code",
   "execution_count": 97,
   "id": "associate-colorado",
   "metadata": {
    "execution": {
     "iopub.execute_input": "2021-05-19T14:08:02.987043Z",
     "iopub.status.busy": "2021-05-19T14:08:02.985056Z",
     "iopub.status.idle": "2021-05-19T14:08:03.080904Z",
     "shell.execute_reply": "2021-05-19T14:08:03.081279Z"
    },
    "papermill": {
     "duration": 0.223682,
     "end_time": "2021-05-19T14:08:03.081435",
     "exception": false,
     "start_time": "2021-05-19T14:08:02.857753",
     "status": "completed"
    },
    "slideshow": {
     "slide_type": "slide"
    },
    "tags": []
   },
   "outputs": [
    {
     "data": {
      "image/png": "[encoded data removed]",
      "text/plain": [
       "<Figure size 500x600 with 1 Axes>"
      ]
     },
     "metadata": {},
     "output_type": "display_data"
    }
   ],
   "source": [
    "values = train_df['Pclass'].value_counts()\n",
    "labels = ['Third Class', 'Second Class', 'First Class']\n",
    "explode = (0, 0, 0.08)\n",
    "\n",
    "fig, ax = plt.subplots(figsize = (5, 6), dpi = 100)\n",
    "patches, texts, autotexts = ax.pie(values, labels = labels, autopct = '%1.2f%%', shadow = True,\n",
    "                                   startangle = 90, explode = explode)\n",
    "\n",
    "plt.setp(texts, color = 'grey')\n",
    "plt.setp(autotexts, size = 13, color = 'white')\n",
    "autotexts[2].set_color('black')\n",
    "plt.show()"
   ]
  },
  {
   "cell_type": "markdown",
   "id": "wired-breach",
   "metadata": {
    "papermill": {
     "duration": 0.074364,
     "end_time": "2021-05-19T14:08:03.704338",
     "exception": false,
     "start_time": "2021-05-19T14:08:03.629974",
     "status": "completed"
    },
    "slideshow": {
     "slide_type": "slide"
    },
    "tags": []
   },
   "source": [
    "<p style = \"font-size : 35px; color : #532e1c ; font-family : 'Times New Roman'; border-radius: 5px 5px;\"><strong>Name Column</strong></p><br/>"
   ]
  },
  {
   "cell_type": "code",
   "execution_count": 99,
   "id": "blank-somewhere",
   "metadata": {
    "execution": {
     "iopub.execute_input": "2021-05-19T14:08:03.859190Z",
     "iopub.status.busy": "2021-05-19T14:08:03.858702Z",
     "iopub.status.idle": "2021-05-19T14:08:03.861999Z",
     "shell.execute_reply": "2021-05-19T14:08:03.862375Z"
    },
    "papermill": {
     "duration": 0.08402,
     "end_time": "2021-05-19T14:08:03.862517",
     "exception": false,
     "start_time": "2021-05-19T14:08:03.778497",
     "status": "completed"
    },
    "slideshow": {
     "slide_type": "slide"
    },
    "tags": []
   },
   "outputs": [
    {
     "data": {
      "text/plain": [
       "Vander Planke, Mr. Leo Edmondus                    1\n",
       "Wiklund, Mr. Jakob Alfred                          1\n",
       "Risien, Mr. Samuel Beard                           1\n",
       "Marvin, Mr. Daniel Warner                          1\n",
       "Kelly, Miss. Mary                                  1\n",
       "                                                  ..\n",
       "Larsson, Mr. Bengt Edvin                           1\n",
       "Stanley, Miss. Amy Zillah Elsie                    1\n",
       "Futrelle, Mr. Jacques Heath                        1\n",
       "Goldsmith, Mr. Frank John                          1\n",
       "Goldsmith, Master. Frank John William \"Frankie\"    1\n",
       "Name: Name, Length: 891, dtype: int64"
      ]
     },
     "execution_count": 99,
     "metadata": {},
     "output_type": "execute_result"
    }
   ],
   "source": [
    "train_df.Name.value_counts()"
   ]
  },
  {
   "cell_type": "code",
   "execution_count": 100,
   "id": "otherwise-decline",
   "metadata": {
    "execution": {
     "iopub.execute_input": "2021-05-19T14:08:04.017576Z",
     "iopub.status.busy": "2021-05-19T14:08:04.017123Z",
     "iopub.status.idle": "2021-05-19T14:08:04.020719Z",
     "shell.execute_reply": "2021-05-19T14:08:04.021142Z"
    },
    "papermill": {
     "duration": 0.082248,
     "end_time": "2021-05-19T14:08:04.021269",
     "exception": false,
     "start_time": "2021-05-19T14:08:03.939021",
     "status": "completed"
    },
    "slideshow": {
     "slide_type": "slide"
    },
    "tags": []
   },
   "outputs": [
    {
     "data": {
      "text/plain": [
       "(891, (891, 12))"
      ]
     },
     "execution_count": 100,
     "metadata": {},
     "output_type": "execute_result"
    }
   ],
   "source": [
    "len(train_df.Name.unique()), train_df.shape"
   ]
  },
  {
   "cell_type": "markdown",
   "id": "normal-breast",
   "metadata": {
    "papermill": {
     "duration": 0.075265,
     "end_time": "2021-05-19T14:08:04.173597",
     "exception": false,
     "start_time": "2021-05-19T14:08:04.098332",
     "status": "completed"
    },
    "slideshow": {
     "slide_type": "slide"
    },
    "tags": []
   },
   "source": [
    "<p style = \"font-size : 35px; color : #532e1c ; font-family : 'Times New Roman'; border-radius: 5px 5px;\"><strong>Gender Column</strong></p><br/>"
   ]
  },
  {
   "cell_type": "code",
   "execution_count": 101,
   "id": "naval-helena",
   "metadata": {
    "execution": {
     "iopub.execute_input": "2021-05-19T14:08:04.362959Z",
     "iopub.status.busy": "2021-05-19T14:08:04.362484Z",
     "iopub.status.idle": "2021-05-19T14:08:04.365310Z",
     "shell.execute_reply": "2021-05-19T14:08:04.364950Z"
    },
    "papermill": {
     "duration": 0.084562,
     "end_time": "2021-05-19T14:08:04.365425",
     "exception": false,
     "start_time": "2021-05-19T14:08:04.280863",
     "status": "completed"
    },
    "slideshow": {
     "slide_type": "slide"
    },
    "tags": []
   },
   "outputs": [
    {
     "data": {
      "text/plain": [
       "male      577\n",
       "female    314\n",
       "Name: Sex, dtype: int64"
      ]
     },
     "execution_count": 101,
     "metadata": {},
     "output_type": "execute_result"
    }
   ],
   "source": [
    "train_df.Sex.value_counts()"
   ]
  },
  {
   "cell_type": "code",
   "execution_count": 102,
   "id": "moral-mount",
   "metadata": {
    "execution": {
     "iopub.execute_input": "2021-05-19T14:08:04.520314Z",
     "iopub.status.busy": "2021-05-19T14:08:04.519862Z",
     "iopub.status.idle": "2021-05-19T14:08:04.525904Z",
     "shell.execute_reply": "2021-05-19T14:08:04.526259Z"
    },
    "papermill": {
     "duration": 0.084636,
     "end_time": "2021-05-19T14:08:04.526378",
     "exception": false,
     "start_time": "2021-05-19T14:08:04.441742",
     "status": "completed"
    },
    "slideshow": {
     "slide_type": "slide"
    },
    "tags": []
   },
   "outputs": [
    {
     "data": {
      "text/plain": [
       "Sex     Survived\n",
       "female  0            81\n",
       "        1           233\n",
       "male    0           468\n",
       "        1           109\n",
       "Name: Survived, dtype: int64"
      ]
     },
     "execution_count": 102,
     "metadata": {},
     "output_type": "execute_result"
    }
   ],
   "source": [
    "train_df.groupby(['Sex', 'Survived'])['Survived'].count()"
   ]
  },
  {
   "cell_type": "code",
   "execution_count": 103,
   "id": "third-hawaiian",
   "metadata": {
    "execution": {
     "iopub.execute_input": "2021-05-19T14:08:04.680592Z",
     "iopub.status.busy": "2021-05-19T14:08:04.680157Z",
     "iopub.status.idle": "2021-05-19T14:08:04.801786Z",
     "shell.execute_reply": "2021-05-19T14:08:04.802135Z"
    },
    "papermill": {
     "duration": 0.199724,
     "end_time": "2021-05-19T14:08:04.802266",
     "exception": false,
     "start_time": "2021-05-19T14:08:04.602542",
     "status": "completed"
    },
    "slideshow": {
     "slide_type": "slide"
    },
    "tags": []
   },
   "outputs": [
    {
     "data": {
      "image/png": "[encoded data removed]",
      "text/plain": [
       "<Figure size 1152x504 with 1 Axes>"
      ]
     },
     "metadata": {
      "needs_background": "light"
     },
     "output_type": "display_data"
    }
   ],
   "source": [
    "plt.figure(figsize = (16, 7))\n",
    "\n",
    "sns.countplot('Sex', hue = 'Survived', data = train_df)\n",
    "plt.show()"
   ]
  },
  {
   "cell_type": "code",
   "execution_count": 18,
   "id": "victorian-sunday",
   "metadata": {
    "execution": {
     "iopub.execute_input": "2021-05-19T14:08:04.957938Z",
     "iopub.status.busy": "2021-05-19T14:08:04.957474Z",
     "iopub.status.idle": "2021-05-19T14:08:05.566849Z",
     "shell.execute_reply": "2021-05-19T14:08:05.567369Z"
    },
    "papermill": {
     "duration": 0.688623,
     "end_time": "2021-05-19T14:08:05.567525",
     "exception": false,
     "start_time": "2021-05-19T14:08:04.878902",
     "status": "completed"
    },
    "slideshow": {
     "slide_type": "slide"
    },
    "tags": []
   },
   "outputs": [
    {
     "data": {
      "image/png": "[encoded data removed]",
      "text/plain": [
       "<Figure size 1080x360 with 3 Axes>"
      ]
     },
     "metadata": {
      "needs_background": "light"
     },
     "output_type": "display_data"
    }
   ],
   "source": [
    "sns.catplot(x = 'Sex', y = 'Survived', data = train_df, kind = 'bar', col = 'Pclass')\n",
    "plt.show()"
   ]
  },
  {
   "cell_type": "markdown",
   "id": "extended-summary",
   "metadata": {
    "papermill": {
     "duration": 0.079778,
     "end_time": "2021-05-19T14:08:06.827068",
     "exception": false,
     "start_time": "2021-05-19T14:08:06.747290",
     "status": "completed"
    },
    "slideshow": {
     "slide_type": "slide"
    },
    "tags": []
   },
   "source": [
    "<p style = \"font-size : 35px; color : #532e1c ; font-family : 'Times New Roman'; border-radius: 5px 5px;\"><strong>Age Column</strong></p><br/> "
   ]
  },
  {
   "cell_type": "code",
   "execution_count": 104,
   "id": "charitable-investigation",
   "metadata": {
    "execution": {
     "iopub.execute_input": "2021-05-19T14:08:07.001326Z",
     "iopub.status.busy": "2021-05-19T14:08:07.000866Z",
     "iopub.status.idle": "2021-05-19T14:08:07.201761Z",
     "shell.execute_reply": "2021-05-19T14:08:07.201309Z"
    },
    "papermill": {
     "duration": 0.295487,
     "end_time": "2021-05-19T14:08:07.201868",
     "exception": false,
     "start_time": "2021-05-19T14:08:06.906381",
     "status": "completed"
    },
    "slideshow": {
     "slide_type": "subslide"
    },
    "tags": []
   },
   "outputs": [
    {
     "data": {
      "image/png": "[encoded data removed]",
      "text/plain": [
       "<Figure size 1080x432 with 1 Axes>"
      ]
     },
     "metadata": {
      "needs_background": "light"
     },
     "output_type": "display_data"
    }
   ],
   "source": [
    "plt.figure(figsize = (15, 6))\n",
    "plt.style.use('ggplot')\n",
    "\n",
    "sns.distplot(train_df['Age'])\n",
    "plt.show()"
   ]
  },
  {
   "cell_type": "code",
   "execution_count": 105,
   "id": "northern-offset",
   "metadata": {
    "execution": {
     "iopub.execute_input": "2021-05-19T14:08:07.371299Z",
     "iopub.status.busy": "2021-05-19T14:08:07.370810Z",
     "iopub.status.idle": "2021-05-19T14:08:07.592930Z",
     "shell.execute_reply": "2021-05-19T14:08:07.592448Z"
    },
    "papermill": {
     "duration": 0.3099,
     "end_time": "2021-05-19T14:08:07.593034",
     "exception": false,
     "start_time": "2021-05-19T14:08:07.283134",
     "status": "completed"
    },
    "slideshow": {
     "slide_type": "slide"
    },
    "tags": []
   },
   "outputs": [
    {
     "data": {
      "image/png": "[encoded data removed]",
      "text/plain": [
       "<Figure size 720x360 with 1 Axes>"
      ]
     },
     "metadata": {},
     "output_type": "display_data"
    }
   ],
   "source": [
    "sns.catplot(x = 'Sex', y = 'Age', kind = 'box', data = train_df, height = 5, aspect = 2)\n",
    "plt.show()"
   ]
  },
  {
   "cell_type": "code",
   "execution_count": 23,
   "id": "silver-commitment",
   "metadata": {
    "execution": {
     "iopub.execute_input": "2021-05-19T14:08:07.762989Z",
     "iopub.status.busy": "2021-05-19T14:08:07.762510Z",
     "iopub.status.idle": "2021-05-19T14:08:08.271980Z",
     "shell.execute_reply": "2021-05-19T14:08:08.271484Z"
    },
    "papermill": {
     "duration": 0.598278,
     "end_time": "2021-05-19T14:08:08.272090",
     "exception": false,
     "start_time": "2021-05-19T14:08:07.673812",
     "status": "completed"
    },
    "slideshow": {
     "slide_type": "slide"
    },
    "tags": []
   },
   "outputs": [
    {
     "data": {
      "image/png": "[encoded data removed]",
      "text/plain": [
       "<Figure size 1080x360 with 3 Axes>"
      ]
     },
     "metadata": {},
     "output_type": "display_data"
    }
   ],
   "source": [
    "sns.catplot(x = 'Sex', y = 'Age', kind = 'box', data = train_df, col = 'Pclass')\n",
    "plt.show()"
   ]
  },
  {
   "cell_type": "markdown",
   "id": "confirmed-italy",
   "metadata": {
    "papermill": {
     "duration": 0.080796,
     "end_time": "2021-05-19T14:08:08.435523",
     "exception": false,
     "start_time": "2021-05-19T14:08:08.354727",
     "status": "completed"
    },
    "slideshow": {
     "slide_type": "slide"
    },
    "tags": []
   },
   "source": [
    "<p style = \"font-size : 35px; color : #532e1c ; font-family : 'Times New Roman'; border-radius: 5px 5px;\"><strong>Fare Column</strong></p><br/>"
   ]
  },
  {
   "cell_type": "code",
   "execution_count": 106,
   "id": "rolled-coverage",
   "metadata": {
    "execution": {
     "iopub.execute_input": "2021-05-19T14:08:08.618643Z",
     "iopub.status.busy": "2021-05-19T14:08:08.607416Z",
     "iopub.status.idle": "2021-05-19T14:08:08.854098Z",
     "shell.execute_reply": "2021-05-19T14:08:08.853658Z"
    },
    "papermill": {
     "duration": 0.33511,
     "end_time": "2021-05-19T14:08:08.854203",
     "exception": false,
     "start_time": "2021-05-19T14:08:08.519093",
     "status": "completed"
    },
    "slideshow": {
     "slide_type": "slide"
    },
    "tags": []
   },
   "outputs": [
    {
     "data": {
      "image/png": "[encoded data removed]",
      "text/plain": [
       "<Figure size 1008x432 with 1 Axes>"
      ]
     },
     "metadata": {},
     "output_type": "display_data"
    }
   ],
   "source": [
    "plt.figure(figsize = (14, 6))\n",
    "\n",
    "plt.hist(train_df.Fare, bins = 60, color = 'orange')\n",
    "plt.xlabel('Fare')\n",
    "plt.show()"
   ]
  },
  {
   "cell_type": "code",
   "execution_count": 169,
   "id": "powerful-diesel",
   "metadata": {
    "execution": {
     "iopub.execute_input": "2021-05-19T14:08:09.192273Z",
     "iopub.status.busy": "2021-05-19T14:08:09.190393Z",
     "iopub.status.idle": "2021-05-19T14:08:09.859094Z",
     "shell.execute_reply": "2021-05-19T14:08:09.858623Z"
    },
    "papermill": {
     "duration": 0.756902,
     "end_time": "2021-05-19T14:08:09.859198",
     "exception": false,
     "start_time": "2021-05-19T14:08:09.102296",
     "status": "completed"
    },
    "slideshow": {
     "slide_type": "slide"
    },
    "tags": []
   },
   "outputs": [
    {
     "data": {
      "image/png": "[encoded data removed]",
      "text/plain": [
       "<Figure size 1080x360 with 3 Axes>"
      ]
     },
     "metadata": {},
     "output_type": "display_data"
    }
   ],
   "source": [
    "sns.catplot(x = 'Sex', y = 'Fare', data = train_df, kind = 'box', col = 'Pclass')\n",
    "plt.show()"
   ]
  },
  {
   "cell_type": "markdown",
   "id": "based-specific",
   "metadata": {
    "papermill": {
     "duration": 0.076815,
     "end_time": "2021-05-19T14:08:10.013683",
     "exception": false,
     "start_time": "2021-05-19T14:08:09.936868",
     "status": "completed"
    },
    "slideshow": {
     "slide_type": "slide"
    },
    "tags": []
   },
   "source": [
    "<p style = \"font-size : 35px; color : #532e1c ; font-family : 'Times New Roman'; border-radius: 5px 5px;\"><strong>SibSp Column</strong></p><br/>"
   ]
  },
  {
   "cell_type": "code",
   "execution_count": 108,
   "id": "brazilian-proof",
   "metadata": {
    "execution": {
     "iopub.execute_input": "2021-05-19T14:08:10.174969Z",
     "iopub.status.busy": "2021-05-19T14:08:10.174369Z",
     "iopub.status.idle": "2021-05-19T14:08:10.176899Z",
     "shell.execute_reply": "2021-05-19T14:08:10.177365Z"
    },
    "papermill": {
     "duration": 0.086483,
     "end_time": "2021-05-19T14:08:10.177502",
     "exception": false,
     "start_time": "2021-05-19T14:08:10.091019",
     "status": "completed"
    },
    "slideshow": {
     "slide_type": "slide"
    },
    "tags": []
   },
   "outputs": [
    {
     "data": {
      "text/plain": [
       "0    608\n",
       "1    209\n",
       "2     28\n",
       "4     18\n",
       "3     16\n",
       "8      7\n",
       "5      5\n",
       "Name: SibSp, dtype: int64"
      ]
     },
     "execution_count": 108,
     "metadata": {},
     "output_type": "execute_result"
    }
   ],
   "source": [
    "train_df['SibSp'].value_counts()"
   ]
  },
  {
   "cell_type": "code",
   "execution_count": 109,
   "id": "stuck-contributor",
   "metadata": {
    "execution": {
     "iopub.execute_input": "2021-05-19T14:08:10.415478Z",
     "iopub.status.busy": "2021-05-19T14:08:10.414985Z",
     "iopub.status.idle": "2021-05-19T14:08:10.589368Z",
     "shell.execute_reply": "2021-05-19T14:08:10.588937Z"
    },
    "papermill": {
     "duration": 0.295952,
     "end_time": "2021-05-19T14:08:10.589471",
     "exception": false,
     "start_time": "2021-05-19T14:08:10.293519",
     "status": "completed"
    },
    "slideshow": {
     "slide_type": "subslide"
    },
    "tags": []
   },
   "outputs": [
    {
     "data": {
      "image/png": "[encoded data removed]",
      "text/plain": [
       "<Figure size 1152x360 with 1 Axes>"
      ]
     },
     "metadata": {},
     "output_type": "display_data"
    }
   ],
   "source": [
    "plt.figure(figsize = (16, 5))\n",
    "\n",
    "sns.countplot(x = 'SibSp', data = train_df, hue = 'Survived')\n",
    "plt.show()"
   ]
  },
  {
   "cell_type": "code",
   "execution_count": 111,
   "id": "weird-italy",
   "metadata": {
    "execution": {
     "iopub.execute_input": "2021-05-19T14:08:10.751377Z",
     "iopub.status.busy": "2021-05-19T14:08:10.750773Z",
     "iopub.status.idle": "2021-05-19T14:08:11.087843Z",
     "shell.execute_reply": "2021-05-19T14:08:11.088226Z"
    },
    "papermill": {
     "duration": 0.421161,
     "end_time": "2021-05-19T14:08:11.088352",
     "exception": false,
     "start_time": "2021-05-19T14:08:10.667191",
     "status": "completed"
    },
    "slideshow": {
     "slide_type": "subslide"
    },
    "tags": []
   },
   "outputs": [
    {
     "data": {
      "image/png": "[encoded data removed]",
      "text/plain": [
       "<Figure size 720x360 with 1 Axes>"
      ]
     },
     "metadata": {},
     "output_type": "display_data"
    }
   ],
   "source": [
    "sns.catplot(x = 'SibSp', y = 'Survived', kind = 'bar', data = train_df, height = 5, aspect =2)\n",
    "plt.show()"
   ]
  },
  {
   "cell_type": "code",
   "execution_count": 112,
   "id": "magnetic-laundry",
   "metadata": {
    "execution": {
     "iopub.execute_input": "2021-05-19T14:08:11.263589Z",
     "iopub.status.busy": "2021-05-19T14:08:11.262899Z",
     "iopub.status.idle": "2021-05-19T14:08:11.812454Z",
     "shell.execute_reply": "2021-05-19T14:08:11.812803Z"
    },
    "papermill": {
     "duration": 0.639754,
     "end_time": "2021-05-19T14:08:11.812958",
     "exception": false,
     "start_time": "2021-05-19T14:08:11.173204",
     "status": "completed"
    },
    "slideshow": {
     "slide_type": "subslide"
    },
    "tags": []
   },
   "outputs": [
    {
     "data": {
      "image/png": "[encoded data removed]",
      "text/plain": [
       "<Figure size 934.5x432 with 1 Axes>"
      ]
     },
     "metadata": {},
     "output_type": "display_data"
    }
   ],
   "source": [
    "sns.catplot(x = 'SibSp', y = 'Survived', kind = 'bar', hue = 'Sex', data = train_df, height = 6, aspect = 2)\n",
    "plt.show()"
   ]
  },
  {
   "cell_type": "code",
   "execution_count": 113,
   "id": "appointed-housing",
   "metadata": {
    "execution": {
     "iopub.execute_input": "2021-05-19T14:08:11.991611Z",
     "iopub.status.busy": "2021-05-19T14:08:11.991129Z",
     "iopub.status.idle": "2021-05-19T14:08:12.665522Z",
     "shell.execute_reply": "2021-05-19T14:08:12.665114Z"
    },
    "papermill": {
     "duration": 0.767073,
     "end_time": "2021-05-19T14:08:12.665626",
     "exception": false,
     "start_time": "2021-05-19T14:08:11.898553",
     "status": "completed"
    },
    "slideshow": {
     "slide_type": "subslide"
    },
    "tags": []
   },
   "outputs": [
    {
     "data": {
      "image/png": "[encoded data removed]",
      "text/plain": [
       "<Figure size 720x360 with 2 Axes>"
      ]
     },
     "metadata": {},
     "output_type": "display_data"
    }
   ],
   "source": [
    "sns.catplot(x = 'SibSp',  y = 'Survived', kind = 'bar', col = 'Sex', data = train_df)\n",
    "plt.show()"
   ]
  },
  {
   "cell_type": "code",
   "execution_count": 114,
   "id": "independent-ranch",
   "metadata": {
    "execution": {
     "iopub.execute_input": "2021-05-19T14:08:12.843748Z",
     "iopub.status.busy": "2021-05-19T14:08:12.842459Z",
     "iopub.status.idle": "2021-05-19T14:08:13.546099Z",
     "shell.execute_reply": "2021-05-19T14:08:13.545548Z"
    },
    "papermill": {
     "duration": 0.793747,
     "end_time": "2021-05-19T14:08:13.546200",
     "exception": false,
     "start_time": "2021-05-19T14:08:12.752453",
     "status": "completed"
    },
    "slideshow": {
     "slide_type": "subslide"
    },
    "tags": []
   },
   "outputs": [
    {
     "data": {
      "image/png": "[encoded data removed]",
      "text/plain": [
       "<Figure size 1080x360 with 3 Axes>"
      ]
     },
     "metadata": {},
     "output_type": "display_data"
    }
   ],
   "source": [
    "sns.catplot(x = 'SibSp', y = 'Survived', col = 'Pclass', kind = 'bar', data = train_df)\n",
    "plt.show()"
   ]
  },
  {
   "cell_type": "markdown",
   "id": "superior-corner",
   "metadata": {
    "papermill": {
     "duration": 0.086248,
     "end_time": "2021-05-19T14:08:14.483835",
     "exception": false,
     "start_time": "2021-05-19T14:08:14.397587",
     "status": "completed"
    },
    "slideshow": {
     "slide_type": "slide"
    },
    "tags": []
   },
   "source": [
    "<p style = \"font-size : 35px; color : #532e1c ; font-family : 'Times New Roman'; border-radius: 5px 5px;\"><strong>Parch Column</strong></p><br/>"
   ]
  },
  {
   "cell_type": "code",
   "execution_count": 115,
   "id": "beneficial-distance",
   "metadata": {
    "execution": {
     "iopub.execute_input": "2021-05-19T14:08:14.664702Z",
     "iopub.status.busy": "2021-05-19T14:08:14.664121Z",
     "iopub.status.idle": "2021-05-19T14:08:14.666585Z",
     "shell.execute_reply": "2021-05-19T14:08:14.666975Z"
    },
    "papermill": {
     "duration": 0.094913,
     "end_time": "2021-05-19T14:08:14.667096",
     "exception": false,
     "start_time": "2021-05-19T14:08:14.572183",
     "status": "completed"
    },
    "slideshow": {
     "slide_type": "subslide"
    },
    "tags": []
   },
   "outputs": [
    {
     "data": {
      "text/plain": [
       "0    678\n",
       "1    118\n",
       "2     80\n",
       "3      5\n",
       "5      5\n",
       "4      4\n",
       "6      1\n",
       "Name: Parch, dtype: int64"
      ]
     },
     "execution_count": 115,
     "metadata": {},
     "output_type": "execute_result"
    }
   ],
   "source": [
    "train_df.Parch.value_counts()"
   ]
  },
  {
   "cell_type": "code",
   "execution_count": 116,
   "id": "strange-blake",
   "metadata": {
    "execution": {
     "iopub.execute_input": "2021-05-19T14:08:14.847921Z",
     "iopub.status.busy": "2021-05-19T14:08:14.847267Z",
     "iopub.status.idle": "2021-05-19T14:08:15.322517Z",
     "shell.execute_reply": "2021-05-19T14:08:15.322924Z"
    },
    "papermill": {
     "duration": 0.567021,
     "end_time": "2021-05-19T14:08:15.323053",
     "exception": false,
     "start_time": "2021-05-19T14:08:14.756032",
     "status": "completed"
    },
    "slideshow": {
     "slide_type": "subslide"
    },
    "tags": []
   },
   "outputs": [
    {
     "data": {
      "image/png": "[encoded data removed]",
      "text/plain": [
       "<Figure size 934.5x432 with 1 Axes>"
      ]
     },
     "metadata": {},
     "output_type": "display_data"
    }
   ],
   "source": [
    "sns.catplot(x = 'Parch', y = 'Survived', data = train_df, hue = 'Sex', kind = 'bar', height = 6, aspect = 2)\n",
    "plt.show()"
   ]
  },
  {
   "cell_type": "markdown",
   "id": "familiar-advocacy",
   "metadata": {
    "papermill": {
     "duration": 0.087479,
     "end_time": "2021-05-19T14:08:15.501074",
     "exception": false,
     "start_time": "2021-05-19T14:08:15.413595",
     "status": "completed"
    },
    "slideshow": {
     "slide_type": "slide"
    },
    "tags": []
   },
   "source": [
    "<p style = \"font-size : 35px; color : #532e1c ; font-family : 'Times New Roman'; border-radius: 5px 5px;\"><strong>Ticket Column</strong></p><br/>"
   ]
  },
  {
   "cell_type": "code",
   "execution_count": 117,
   "id": "acting-venture",
   "metadata": {
    "execution": {
     "iopub.execute_input": "2021-05-19T14:08:15.685683Z",
     "iopub.status.busy": "2021-05-19T14:08:15.682848Z",
     "iopub.status.idle": "2021-05-19T14:08:15.688739Z",
     "shell.execute_reply": "2021-05-19T14:08:15.689241Z"
    },
    "papermill": {
     "duration": 0.098836,
     "end_time": "2021-05-19T14:08:15.689404",
     "exception": false,
     "start_time": "2021-05-19T14:08:15.590568",
     "status": "completed"
    },
    "slideshow": {
     "slide_type": "subslide"
    },
    "tags": []
   },
   "outputs": [
    {
     "data": {
      "text/plain": [
       "CA. 2343      7\n",
       "347082        7\n",
       "1601          7\n",
       "3101295       6\n",
       "CA 2144       6\n",
       "             ..\n",
       "21440         1\n",
       "349224        1\n",
       "W./C. 6609    1\n",
       "112058        1\n",
       "341826        1\n",
       "Name: Ticket, Length: 681, dtype: int64"
      ]
     },
     "execution_count": 117,
     "metadata": {},
     "output_type": "execute_result"
    }
   ],
   "source": [
    "train_df.Ticket.value_counts()"
   ]
  },
  {
   "cell_type": "code",
   "execution_count": 118,
   "id": "unauthorized-southwest",
   "metadata": {
    "execution": {
     "iopub.execute_input": "2021-05-19T14:08:15.960680Z",
     "iopub.status.busy": "2021-05-19T14:08:15.959860Z",
     "iopub.status.idle": "2021-05-19T14:08:15.963096Z",
     "shell.execute_reply": "2021-05-19T14:08:15.963551Z"
    },
    "papermill": {
     "duration": 0.139887,
     "end_time": "2021-05-19T14:08:15.963709",
     "exception": false,
     "start_time": "2021-05-19T14:08:15.823822",
     "status": "completed"
    },
    "slideshow": {
     "slide_type": "subslide"
    },
    "tags": []
   },
   "outputs": [
    {
     "data": {
      "text/plain": [
       "681"
      ]
     },
     "execution_count": 118,
     "metadata": {},
     "output_type": "execute_result"
    }
   ],
   "source": [
    "len(train_df.Ticket.unique())"
   ]
  },
  {
   "cell_type": "markdown",
   "id": "exclusive-netscape",
   "metadata": {
    "papermill": {
     "duration": 0.132593,
     "end_time": "2021-05-19T14:08:16.228860",
     "exception": false,
     "start_time": "2021-05-19T14:08:16.096267",
     "status": "completed"
    },
    "slideshow": {
     "slide_type": "slide"
    },
    "tags": []
   },
   "source": [
    "<p style = \"font-size : 35px; color : #532e1c ; font-family : 'Times New Roman'; border-radius: 5px 5px;\"><strong>Embarked Column</strong></p><br/>"
   ]
  },
  {
   "cell_type": "code",
   "execution_count": 119,
   "id": "listed-pocket",
   "metadata": {
    "execution": {
     "iopub.execute_input": "2021-05-19T14:08:16.502417Z",
     "iopub.status.busy": "2021-05-19T14:08:16.501652Z",
     "iopub.status.idle": "2021-05-19T14:08:16.506262Z",
     "shell.execute_reply": "2021-05-19T14:08:16.505647Z"
    },
    "papermill": {
     "duration": 0.143835,
     "end_time": "2021-05-19T14:08:16.506389",
     "exception": false,
     "start_time": "2021-05-19T14:08:16.362554",
     "status": "completed"
    },
    "slideshow": {
     "slide_type": "subslide"
    },
    "tags": []
   },
   "outputs": [
    {
     "data": {
      "text/plain": [
       "S    644\n",
       "C    168\n",
       "Q     77\n",
       "Name: Embarked, dtype: int64"
      ]
     },
     "execution_count": 119,
     "metadata": {},
     "output_type": "execute_result"
    }
   ],
   "source": [
    "train_df['Embarked'].value_counts()"
   ]
  },
  {
   "cell_type": "code",
   "execution_count": 120,
   "id": "given-parameter",
   "metadata": {
    "execution": {
     "iopub.execute_input": "2021-05-19T14:08:16.699174Z",
     "iopub.status.busy": "2021-05-19T14:08:16.698675Z",
     "iopub.status.idle": "2021-05-19T14:08:16.832975Z",
     "shell.execute_reply": "2021-05-19T14:08:16.832317Z"
    },
    "papermill": {
     "duration": 0.231563,
     "end_time": "2021-05-19T14:08:16.833160",
     "exception": false,
     "start_time": "2021-05-19T14:08:16.601597",
     "status": "completed"
    },
    "slideshow": {
     "slide_type": "subslide"
    },
    "tags": []
   },
   "outputs": [
    {
     "data": {
      "image/png": "[encoded data removed]",
      "text/plain": [
       "<Figure size 1008x432 with 1 Axes>"
      ]
     },
     "metadata": {},
     "output_type": "display_data"
    }
   ],
   "source": [
    "plt.figure(figsize = (14, 6))\n",
    "\n",
    "sns.countplot('Embarked', hue = 'Survived', data = train_df)\n",
    "plt.show()"
   ]
  },
  {
   "cell_type": "code",
   "execution_count": 121,
   "id": "welsh-lunch",
   "metadata": {
    "execution": {
     "iopub.execute_input": "2021-05-19T14:08:17.109835Z",
     "iopub.status.busy": "2021-05-19T14:08:17.109022Z",
     "iopub.status.idle": "2021-05-19T14:08:17.491860Z",
     "shell.execute_reply": "2021-05-19T14:08:17.491166Z"
    },
    "papermill": {
     "duration": 0.523038,
     "end_time": "2021-05-19T14:08:17.491999",
     "exception": false,
     "start_time": "2021-05-19T14:08:16.968961",
     "status": "completed"
    },
    "slideshow": {
     "slide_type": "subslide"
    },
    "tags": []
   },
   "outputs": [
    {
     "data": {
      "image/png": "[encoded data removed]",
      "text/plain": [
       "<Figure size 720x360 with 2 Axes>"
      ]
     },
     "metadata": {},
     "output_type": "display_data"
    }
   ],
   "source": [
    "sns.catplot(x = 'Embarked', y = 'Survived', kind = 'bar', data = train_df, col = 'Sex')\n",
    "plt.show()"
   ]
  },
  {
   "cell_type": "markdown",
   "id": "ahead-teacher",
   "metadata": {
    "papermill": {
     "duration": 0.091561,
     "end_time": "2021-05-19T14:08:17.676978",
     "exception": false,
     "start_time": "2021-05-19T14:08:17.585417",
     "status": "completed"
    },
    "slideshow": {
     "slide_type": "slide"
    },
    "tags": []
   },
   "source": [
    "<a id = '3.0'></a>\n",
    "<p style = \"font-size : 30px; color : #532e1c ; font-family : 'Times New Roman';\"><strong>Findings From EDA :-</strong></p>\n",
    "\n",
    "<ul>\n",
    "    <li style = \"color : ; font-size : 28px; font-family : 'Times New Roman';\"><strong>Females Survived more than Males.</strong></li>\n",
    "    <li style = \"color : ; font-size : 28px; font-family : 'Times New Roman';\"><strong>Passengers Travelling in Higher Class Survived More than Passengers travelling in Lower Class.</strong></li>\n",
    "    <li style = \"color : ; font-size : 28px; font-family : 'Times New Roman';\"><strong>Name column is having all unique values so this column is not suitable for prediction, we have to drop it.</strong></li>\n",
    "    <li style = \"color : ; font-size : 28px; font-family : 'Times New Roman';\"><strong>In First Class Females were more than Males, that's why Fare of Females Passengers were high.</strong></li>\n",
    "    <li style = \"color : ; font-size : 28px; font-family : 'Times New Roman';\"><strong>Survival Rate is higher for those who were travelling with siblings or spouses.</strong></li>\n",
    "    <li style = \"color : ; font-size : 28px; font-family : 'Times New Roman';\"><strong>Passengers travelling with parents or children have higher survival rate.</strong></li>\n",
    "    <li style = \"color : ; font-size : 28px; font-family : 'Times New Roman';\"><strong>Ticket column is not useful and does not have an impact on survival.</strong></li>\n",
    "    <li style = \"color : ; font-size : 28px; font-family : 'Times New Roman';\"><strong>Cabin column have a lot of null values , it will be better to drop this column.</strong></li>\n",
    "    <li style = \"color : ; font-size : 28px; font-family : 'Times New Roman';\"><strong>Passengers travelling from Cherbourg port survived more than passengers travelling from other two ports.</strong></li>\n",
    "</ul>"
   ]
  },
  {
   "cell_type": "markdown",
   "id": "polished-spoke",
   "metadata": {
    "papermill": {
     "duration": 0.136998,
     "end_time": "2021-05-19T14:08:17.906660",
     "exception": false,
     "start_time": "2021-05-19T14:08:17.769662",
     "status": "completed"
    },
    "slideshow": {
     "slide_type": "slide"
    },
    "tags": []
   },
   "source": [
    "<p style = \"font-size : 35px; color : #532e1c ; font-family : 'Times New Roman'; border-radius: 5px 5px;\"><strong>Data Preprocessing</strong></p><br/>"
   ]
  },
  {
   "cell_type": "code",
   "execution_count": 122,
   "id": "incredible-orientation",
   "metadata": {
    "execution": {
     "iopub.execute_input": "2021-05-19T14:08:18.180601Z",
     "iopub.status.busy": "2021-05-19T14:08:18.180027Z",
     "iopub.status.idle": "2021-05-19T14:08:18.181997Z",
     "shell.execute_reply": "2021-05-19T14:08:18.181508Z"
    },
    "papermill": {
     "duration": 0.141156,
     "end_time": "2021-05-19T14:08:18.182109",
     "exception": false,
     "start_time": "2021-05-19T14:08:18.040953",
     "status": "completed"
    },
    "slideshow": {
     "slide_type": "subslide"
    },
    "tags": []
   },
   "outputs": [],
   "source": [
    "# dropping useless columns\n",
    "\n",
    "train_df.drop(['PassengerId', 'Name', 'Ticket', 'Cabin'], axis = 1, inplace = True)"
   ]
  },
  {
   "cell_type": "code",
   "execution_count": 123,
   "id": "classical-julian",
   "metadata": {
    "execution": {
     "iopub.execute_input": "2021-05-19T14:08:18.464810Z",
     "iopub.status.busy": "2021-05-19T14:08:18.461226Z",
     "iopub.status.idle": "2021-05-19T14:08:18.468929Z",
     "shell.execute_reply": "2021-05-19T14:08:18.468533Z"
    },
    "papermill": {
     "duration": 0.152173,
     "end_time": "2021-05-19T14:08:18.469039",
     "exception": false,
     "start_time": "2021-05-19T14:08:18.316866",
     "status": "completed"
    },
    "slideshow": {
     "slide_type": "subslide"
    },
    "tags": []
   },
   "outputs": [
    {
     "data": {
      "text/html": [
       "<div>\n",
       "<style scoped>\n",
       "    .dataframe tbody tr th:only-of-type {\n",
       "        vertical-align: middle;\n",
       "    }\n",
       "\n",
       "    .dataframe tbody tr th {\n",
       "        vertical-align: top;\n",
       "    }\n",
       "\n",
       "    .dataframe thead th {\n",
       "        text-align: right;\n",
       "    }\n",
       "</style>\n",
       "<table border=\"1\" class=\"dataframe\">\n",
       "  <thead>\n",
       "    <tr style=\"text-align: right;\">\n",
       "      <th></th>\n",
       "      <th>Survived</th>\n",
       "      <th>Pclass</th>\n",
       "      <th>Sex</th>\n",
       "      <th>Age</th>\n",
       "      <th>SibSp</th>\n",
       "      <th>Parch</th>\n",
       "      <th>Fare</th>\n",
       "      <th>Embarked</th>\n",
       "    </tr>\n",
       "  </thead>\n",
       "  <tbody>\n",
       "    <tr>\n",
       "      <th>0</th>\n",
       "      <td>0</td>\n",
       "      <td>3</td>\n",
       "      <td>male</td>\n",
       "      <td>22.0</td>\n",
       "      <td>1</td>\n",
       "      <td>0</td>\n",
       "      <td>7.2500</td>\n",
       "      <td>S</td>\n",
       "    </tr>\n",
       "    <tr>\n",
       "      <th>1</th>\n",
       "      <td>1</td>\n",
       "      <td>1</td>\n",
       "      <td>female</td>\n",
       "      <td>38.0</td>\n",
       "      <td>1</td>\n",
       "      <td>0</td>\n",
       "      <td>71.2833</td>\n",
       "      <td>C</td>\n",
       "    </tr>\n",
       "    <tr>\n",
       "      <th>2</th>\n",
       "      <td>1</td>\n",
       "      <td>3</td>\n",
       "      <td>female</td>\n",
       "      <td>26.0</td>\n",
       "      <td>0</td>\n",
       "      <td>0</td>\n",
       "      <td>7.9250</td>\n",
       "      <td>S</td>\n",
       "    </tr>\n",
       "    <tr>\n",
       "      <th>3</th>\n",
       "      <td>1</td>\n",
       "      <td>1</td>\n",
       "      <td>female</td>\n",
       "      <td>35.0</td>\n",
       "      <td>1</td>\n",
       "      <td>0</td>\n",
       "      <td>53.1000</td>\n",
       "      <td>S</td>\n",
       "    </tr>\n",
       "    <tr>\n",
       "      <th>4</th>\n",
       "      <td>0</td>\n",
       "      <td>3</td>\n",
       "      <td>male</td>\n",
       "      <td>35.0</td>\n",
       "      <td>0</td>\n",
       "      <td>0</td>\n",
       "      <td>8.0500</td>\n",
       "      <td>S</td>\n",
       "    </tr>\n",
       "  </tbody>\n",
       "</table>\n",
       "</div>"
      ],
      "text/plain": [
       "   Survived  Pclass     Sex   Age  SibSp  Parch     Fare Embarked\n",
       "0         0       3    male  22.0      1      0   7.2500        S\n",
       "1         1       1  female  38.0      1      0  71.2833        C\n",
       "2         1       3  female  26.0      0      0   7.9250        S\n",
       "3         1       1  female  35.0      1      0  53.1000        S\n",
       "4         0       3    male  35.0      0      0   8.0500        S"
      ]
     },
     "execution_count": 123,
     "metadata": {},
     "output_type": "execute_result"
    }
   ],
   "source": [
    "train_df.head()"
   ]
  },
  {
   "cell_type": "code",
   "execution_count": 124,
   "id": "killing-hands",
   "metadata": {
    "execution": {
     "iopub.execute_input": "2021-05-19T14:08:18.663050Z",
     "iopub.status.busy": "2021-05-19T14:08:18.662614Z",
     "iopub.status.idle": "2021-05-19T14:08:18.665092Z",
     "shell.execute_reply": "2021-05-19T14:08:18.665490Z"
    },
    "papermill": {
     "duration": 0.101591,
     "end_time": "2021-05-19T14:08:18.665593",
     "exception": false,
     "start_time": "2021-05-19T14:08:18.564002",
     "status": "completed"
    },
    "slideshow": {
     "slide_type": "subslide"
    },
    "tags": []
   },
   "outputs": [
    {
     "data": {
      "text/plain": [
       "Survived      0\n",
       "Pclass        0\n",
       "Sex           0\n",
       "Age         177\n",
       "SibSp         0\n",
       "Parch         0\n",
       "Fare          0\n",
       "Embarked      2\n",
       "dtype: int64"
      ]
     },
     "execution_count": 124,
     "metadata": {},
     "output_type": "execute_result"
    }
   ],
   "source": [
    "train_df.isna().sum()"
   ]
  },
  {
   "cell_type": "code",
   "execution_count": 125,
   "id": "french-resistance",
   "metadata": {
    "execution": {
     "iopub.execute_input": "2021-05-19T14:08:18.870155Z",
     "iopub.status.busy": "2021-05-19T14:08:18.869679Z",
     "iopub.status.idle": "2021-05-19T14:08:18.876665Z",
     "shell.execute_reply": "2021-05-19T14:08:18.876021Z"
    },
    "papermill": {
     "duration": 0.108189,
     "end_time": "2021-05-19T14:08:18.876837",
     "exception": false,
     "start_time": "2021-05-19T14:08:18.768648",
     "status": "completed"
    },
    "slideshow": {
     "slide_type": "subslide"
    },
    "tags": []
   },
   "outputs": [],
   "source": [
    "# replacing Zero values of \"Fare\" column with mean of column\n",
    "\n",
    "train_df['Fare'] = train_df['Fare'].replace(0, train_df['Fare'].mean())"
   ]
  },
  {
   "cell_type": "code",
   "execution_count": 127,
   "id": "included-dayton",
   "metadata": {
    "execution": {
     "iopub.execute_input": "2021-05-19T14:08:19.154160Z",
     "iopub.status.busy": "2021-05-19T14:08:19.153539Z",
     "iopub.status.idle": "2021-05-19T14:08:19.158789Z",
     "shell.execute_reply": "2021-05-19T14:08:19.158271Z"
    },
    "papermill": {
     "duration": 0.139395,
     "end_time": "2021-05-19T14:08:19.158933",
     "exception": false,
     "start_time": "2021-05-19T14:08:19.019538",
     "status": "completed"
    },
    "slideshow": {
     "slide_type": "subslide"
    },
    "tags": []
   },
   "outputs": [],
   "source": [
    "# filling null values of \"Age\" column with mean value of the column\n",
    "\n",
    "train_df['Age'].fillna(train_df['Age'].mean(), inplace = True)"
   ]
  },
  {
   "cell_type": "code",
   "execution_count": 128,
   "id": "social-least",
   "metadata": {
    "execution": {
     "iopub.execute_input": "2021-05-19T14:08:19.440186Z",
     "iopub.status.busy": "2021-05-19T14:08:19.439725Z",
     "iopub.status.idle": "2021-05-19T14:08:19.441366Z",
     "shell.execute_reply": "2021-05-19T14:08:19.441730Z"
    },
    "papermill": {
     "duration": 0.143508,
     "end_time": "2021-05-19T14:08:19.441853",
     "exception": false,
     "start_time": "2021-05-19T14:08:19.298345",
     "status": "completed"
    },
    "slideshow": {
     "slide_type": "subslide"
    },
    "tags": []
   },
   "outputs": [],
   "source": [
    "# filling null values of \"Embarked\" column with mode value of the column\n",
    "\n",
    "train_df['Embarked'].fillna(train_df['Embarked'].mode()[0], inplace = True)"
   ]
  },
  {
   "cell_type": "code",
   "execution_count": 129,
   "id": "modified-implement",
   "metadata": {
    "execution": {
     "iopub.execute_input": "2021-05-19T14:08:19.631739Z",
     "iopub.status.busy": "2021-05-19T14:08:19.631315Z",
     "iopub.status.idle": "2021-05-19T14:08:19.639022Z",
     "shell.execute_reply": "2021-05-19T14:08:19.638621Z"
    },
    "papermill": {
     "duration": 0.103346,
     "end_time": "2021-05-19T14:08:19.639127",
     "exception": false,
     "start_time": "2021-05-19T14:08:19.535781",
     "status": "completed"
    },
    "slideshow": {
     "slide_type": "subslide"
    },
    "tags": []
   },
   "outputs": [
    {
     "data": {
      "text/plain": [
       "Survived    0\n",
       "Pclass      0\n",
       "Sex         0\n",
       "Age         0\n",
       "SibSp       0\n",
       "Parch       0\n",
       "Fare        0\n",
       "Embarked    0\n",
       "dtype: int64"
      ]
     },
     "execution_count": 129,
     "metadata": {},
     "output_type": "execute_result"
    }
   ],
   "source": [
    "# checking for null values after filling null values\n",
    "\n",
    "train_df.isna().sum()"
   ]
  },
  {
   "cell_type": "code",
   "execution_count": 130,
   "id": "opposed-bolivia",
   "metadata": {
    "execution": {
     "iopub.execute_input": "2021-05-19T14:08:19.838717Z",
     "iopub.status.busy": "2021-05-19T14:08:19.838251Z",
     "iopub.status.idle": "2021-05-19T14:08:19.842184Z",
     "shell.execute_reply": "2021-05-19T14:08:19.841777Z"
    },
    "papermill": {
     "duration": 0.109337,
     "end_time": "2021-05-19T14:08:19.842281",
     "exception": false,
     "start_time": "2021-05-19T14:08:19.732944",
     "status": "completed"
    },
    "slideshow": {
     "slide_type": "subslide"
    },
    "tags": []
   },
   "outputs": [
    {
     "data": {
      "text/html": [
       "<div>\n",
       "<style scoped>\n",
       "    .dataframe tbody tr th:only-of-type {\n",
       "        vertical-align: middle;\n",
       "    }\n",
       "\n",
       "    .dataframe tbody tr th {\n",
       "        vertical-align: top;\n",
       "    }\n",
       "\n",
       "    .dataframe thead th {\n",
       "        text-align: right;\n",
       "    }\n",
       "</style>\n",
       "<table border=\"1\" class=\"dataframe\">\n",
       "  <thead>\n",
       "    <tr style=\"text-align: right;\">\n",
       "      <th></th>\n",
       "      <th>Survived</th>\n",
       "      <th>Pclass</th>\n",
       "      <th>Sex</th>\n",
       "      <th>Age</th>\n",
       "      <th>SibSp</th>\n",
       "      <th>Parch</th>\n",
       "      <th>Fare</th>\n",
       "      <th>Embarked</th>\n",
       "    </tr>\n",
       "  </thead>\n",
       "  <tbody>\n",
       "    <tr>\n",
       "      <th>0</th>\n",
       "      <td>0</td>\n",
       "      <td>3</td>\n",
       "      <td>male</td>\n",
       "      <td>22.0</td>\n",
       "      <td>1</td>\n",
       "      <td>0</td>\n",
       "      <td>7.2500</td>\n",
       "      <td>S</td>\n",
       "    </tr>\n",
       "    <tr>\n",
       "      <th>1</th>\n",
       "      <td>1</td>\n",
       "      <td>1</td>\n",
       "      <td>female</td>\n",
       "      <td>38.0</td>\n",
       "      <td>1</td>\n",
       "      <td>0</td>\n",
       "      <td>71.2833</td>\n",
       "      <td>C</td>\n",
       "    </tr>\n",
       "    <tr>\n",
       "      <th>2</th>\n",
       "      <td>1</td>\n",
       "      <td>3</td>\n",
       "      <td>female</td>\n",
       "      <td>26.0</td>\n",
       "      <td>0</td>\n",
       "      <td>0</td>\n",
       "      <td>7.9250</td>\n",
       "      <td>S</td>\n",
       "    </tr>\n",
       "    <tr>\n",
       "      <th>3</th>\n",
       "      <td>1</td>\n",
       "      <td>1</td>\n",
       "      <td>female</td>\n",
       "      <td>35.0</td>\n",
       "      <td>1</td>\n",
       "      <td>0</td>\n",
       "      <td>53.1000</td>\n",
       "      <td>S</td>\n",
       "    </tr>\n",
       "    <tr>\n",
       "      <th>4</th>\n",
       "      <td>0</td>\n",
       "      <td>3</td>\n",
       "      <td>male</td>\n",
       "      <td>35.0</td>\n",
       "      <td>0</td>\n",
       "      <td>0</td>\n",
       "      <td>8.0500</td>\n",
       "      <td>S</td>\n",
       "    </tr>\n",
       "  </tbody>\n",
       "</table>\n",
       "</div>"
      ],
      "text/plain": [
       "   Survived  Pclass     Sex   Age  SibSp  Parch     Fare Embarked\n",
       "0         0       3    male  22.0      1      0   7.2500        S\n",
       "1         1       1  female  38.0      1      0  71.2833        C\n",
       "2         1       3  female  26.0      0      0   7.9250        S\n",
       "3         1       1  female  35.0      1      0  53.1000        S\n",
       "4         0       3    male  35.0      0      0   8.0500        S"
      ]
     },
     "execution_count": 130,
     "metadata": {},
     "output_type": "execute_result"
    }
   ],
   "source": [
    "train_df.head()"
   ]
  },
  {
   "cell_type": "code",
   "execution_count": 131,
   "id": "coordinate-stretch",
   "metadata": {
    "execution": {
     "iopub.execute_input": "2021-05-19T14:08:20.035372Z",
     "iopub.status.busy": "2021-05-19T14:08:20.034831Z",
     "iopub.status.idle": "2021-05-19T14:08:20.037832Z",
     "shell.execute_reply": "2021-05-19T14:08:20.037398Z"
    },
    "papermill": {
     "duration": 0.102114,
     "end_time": "2021-05-19T14:08:20.037956",
     "exception": false,
     "start_time": "2021-05-19T14:08:19.935842",
     "status": "completed"
    },
    "slideshow": {
     "slide_type": "subslide"
    },
    "tags": []
   },
   "outputs": [],
   "source": [
    "train_df['Sex'] = train_df['Sex'].apply(lambda val: 1 if val == 'male' else 0)"
   ]
  },
  {
   "cell_type": "code",
   "execution_count": 132,
   "id": "forced-thong",
   "metadata": {
    "execution": {
     "iopub.execute_input": "2021-05-19T14:08:20.230040Z",
     "iopub.status.busy": "2021-05-19T14:08:20.229556Z",
     "iopub.status.idle": "2021-05-19T14:08:20.231842Z",
     "shell.execute_reply": "2021-05-19T14:08:20.231489Z"
    },
    "papermill": {
     "duration": 0.100606,
     "end_time": "2021-05-19T14:08:20.231980",
     "exception": false,
     "start_time": "2021-05-19T14:08:20.131374",
     "status": "completed"
    },
    "slideshow": {
     "slide_type": "subslide"
    },
    "tags": []
   },
   "outputs": [],
   "source": [
    "train_df['Embarked'] = train_df['Embarked'].map({'S' : 0, 'C': 1, 'Q': 2})"
   ]
  },
  {
   "cell_type": "code",
   "execution_count": 133,
   "id": "several-dragon",
   "metadata": {
    "execution": {
     "iopub.execute_input": "2021-05-19T14:08:20.428374Z",
     "iopub.status.busy": "2021-05-19T14:08:20.427750Z",
     "iopub.status.idle": "2021-05-19T14:08:20.431280Z",
     "shell.execute_reply": "2021-05-19T14:08:20.430917Z"
    },
    "papermill": {
     "duration": 0.105792,
     "end_time": "2021-05-19T14:08:20.431378",
     "exception": false,
     "start_time": "2021-05-19T14:08:20.325586",
     "status": "completed"
    },
    "slideshow": {
     "slide_type": "subslide"
    },
    "tags": []
   },
   "outputs": [
    {
     "data": {
      "text/html": [
       "<div>\n",
       "<style scoped>\n",
       "    .dataframe tbody tr th:only-of-type {\n",
       "        vertical-align: middle;\n",
       "    }\n",
       "\n",
       "    .dataframe tbody tr th {\n",
       "        vertical-align: top;\n",
       "    }\n",
       "\n",
       "    .dataframe thead th {\n",
       "        text-align: right;\n",
       "    }\n",
       "</style>\n",
       "<table border=\"1\" class=\"dataframe\">\n",
       "  <thead>\n",
       "    <tr style=\"text-align: right;\">\n",
       "      <th></th>\n",
       "      <th>Survived</th>\n",
       "      <th>Pclass</th>\n",
       "      <th>Sex</th>\n",
       "      <th>Age</th>\n",
       "      <th>SibSp</th>\n",
       "      <th>Parch</th>\n",
       "      <th>Fare</th>\n",
       "      <th>Embarked</th>\n",
       "    </tr>\n",
       "  </thead>\n",
       "  <tbody>\n",
       "    <tr>\n",
       "      <th>0</th>\n",
       "      <td>0</td>\n",
       "      <td>3</td>\n",
       "      <td>1</td>\n",
       "      <td>22.0</td>\n",
       "      <td>1</td>\n",
       "      <td>0</td>\n",
       "      <td>7.2500</td>\n",
       "      <td>0</td>\n",
       "    </tr>\n",
       "    <tr>\n",
       "      <th>1</th>\n",
       "      <td>1</td>\n",
       "      <td>1</td>\n",
       "      <td>0</td>\n",
       "      <td>38.0</td>\n",
       "      <td>1</td>\n",
       "      <td>0</td>\n",
       "      <td>71.2833</td>\n",
       "      <td>1</td>\n",
       "    </tr>\n",
       "    <tr>\n",
       "      <th>2</th>\n",
       "      <td>1</td>\n",
       "      <td>3</td>\n",
       "      <td>0</td>\n",
       "      <td>26.0</td>\n",
       "      <td>0</td>\n",
       "      <td>0</td>\n",
       "      <td>7.9250</td>\n",
       "      <td>0</td>\n",
       "    </tr>\n",
       "    <tr>\n",
       "      <th>3</th>\n",
       "      <td>1</td>\n",
       "      <td>1</td>\n",
       "      <td>0</td>\n",
       "      <td>35.0</td>\n",
       "      <td>1</td>\n",
       "      <td>0</td>\n",
       "      <td>53.1000</td>\n",
       "      <td>0</td>\n",
       "    </tr>\n",
       "    <tr>\n",
       "      <th>4</th>\n",
       "      <td>0</td>\n",
       "      <td>3</td>\n",
       "      <td>1</td>\n",
       "      <td>35.0</td>\n",
       "      <td>0</td>\n",
       "      <td>0</td>\n",
       "      <td>8.0500</td>\n",
       "      <td>0</td>\n",
       "    </tr>\n",
       "  </tbody>\n",
       "</table>\n",
       "</div>"
      ],
      "text/plain": [
       "   Survived  Pclass  Sex   Age  SibSp  Parch     Fare  Embarked\n",
       "0         0       3    1  22.0      1      0   7.2500         0\n",
       "1         1       1    0  38.0      1      0  71.2833         1\n",
       "2         1       3    0  26.0      0      0   7.9250         0\n",
       "3         1       1    0  35.0      1      0  53.1000         0\n",
       "4         0       3    1  35.0      0      0   8.0500         0"
      ]
     },
     "execution_count": 133,
     "metadata": {},
     "output_type": "execute_result"
    }
   ],
   "source": [
    "train_df.head()"
   ]
  },
  {
   "cell_type": "code",
   "execution_count": 134,
   "id": "chronic-senator",
   "metadata": {
    "execution": {
     "iopub.execute_input": "2021-05-19T14:08:20.640766Z",
     "iopub.status.busy": "2021-05-19T14:08:20.639039Z",
     "iopub.status.idle": "2021-05-19T14:08:20.664309Z",
     "shell.execute_reply": "2021-05-19T14:08:20.663919Z"
    },
    "papermill": {
     "duration": 0.135244,
     "end_time": "2021-05-19T14:08:20.664415",
     "exception": false,
     "start_time": "2021-05-19T14:08:20.529171",
     "status": "completed"
    },
    "slideshow": {
     "slide_type": "subslide"
    },
    "tags": []
   },
   "outputs": [
    {
     "data": {
      "text/html": [
       "<div>\n",
       "<style scoped>\n",
       "    .dataframe tbody tr th:only-of-type {\n",
       "        vertical-align: middle;\n",
       "    }\n",
       "\n",
       "    .dataframe tbody tr th {\n",
       "        vertical-align: top;\n",
       "    }\n",
       "\n",
       "    .dataframe thead th {\n",
       "        text-align: right;\n",
       "    }\n",
       "</style>\n",
       "<table border=\"1\" class=\"dataframe\">\n",
       "  <thead>\n",
       "    <tr style=\"text-align: right;\">\n",
       "      <th></th>\n",
       "      <th>Survived</th>\n",
       "      <th>Pclass</th>\n",
       "      <th>Sex</th>\n",
       "      <th>Age</th>\n",
       "      <th>SibSp</th>\n",
       "      <th>Parch</th>\n",
       "      <th>Fare</th>\n",
       "      <th>Embarked</th>\n",
       "    </tr>\n",
       "  </thead>\n",
       "  <tbody>\n",
       "    <tr>\n",
       "      <th>count</th>\n",
       "      <td>891.000000</td>\n",
       "      <td>891.000000</td>\n",
       "      <td>891.000000</td>\n",
       "      <td>891.000000</td>\n",
       "      <td>891.000000</td>\n",
       "      <td>891.000000</td>\n",
       "      <td>891.000000</td>\n",
       "      <td>891.000000</td>\n",
       "    </tr>\n",
       "    <tr>\n",
       "      <th>mean</th>\n",
       "      <td>0.383838</td>\n",
       "      <td>2.308642</td>\n",
       "      <td>0.647587</td>\n",
       "      <td>29.699118</td>\n",
       "      <td>0.523008</td>\n",
       "      <td>0.381594</td>\n",
       "      <td>32.746366</td>\n",
       "      <td>0.361392</td>\n",
       "    </tr>\n",
       "    <tr>\n",
       "      <th>std</th>\n",
       "      <td>0.486592</td>\n",
       "      <td>0.836071</td>\n",
       "      <td>0.477990</td>\n",
       "      <td>13.002015</td>\n",
       "      <td>1.102743</td>\n",
       "      <td>0.806057</td>\n",
       "      <td>49.514272</td>\n",
       "      <td>0.635673</td>\n",
       "    </tr>\n",
       "    <tr>\n",
       "      <th>min</th>\n",
       "      <td>0.000000</td>\n",
       "      <td>1.000000</td>\n",
       "      <td>0.000000</td>\n",
       "      <td>0.420000</td>\n",
       "      <td>0.000000</td>\n",
       "      <td>0.000000</td>\n",
       "      <td>4.012500</td>\n",
       "      <td>0.000000</td>\n",
       "    </tr>\n",
       "    <tr>\n",
       "      <th>25%</th>\n",
       "      <td>0.000000</td>\n",
       "      <td>2.000000</td>\n",
       "      <td>0.000000</td>\n",
       "      <td>22.000000</td>\n",
       "      <td>0.000000</td>\n",
       "      <td>0.000000</td>\n",
       "      <td>7.925000</td>\n",
       "      <td>0.000000</td>\n",
       "    </tr>\n",
       "    <tr>\n",
       "      <th>50%</th>\n",
       "      <td>0.000000</td>\n",
       "      <td>3.000000</td>\n",
       "      <td>1.000000</td>\n",
       "      <td>29.699118</td>\n",
       "      <td>0.000000</td>\n",
       "      <td>0.000000</td>\n",
       "      <td>15.100000</td>\n",
       "      <td>0.000000</td>\n",
       "    </tr>\n",
       "    <tr>\n",
       "      <th>75%</th>\n",
       "      <td>1.000000</td>\n",
       "      <td>3.000000</td>\n",
       "      <td>1.000000</td>\n",
       "      <td>35.000000</td>\n",
       "      <td>1.000000</td>\n",
       "      <td>0.000000</td>\n",
       "      <td>32.204208</td>\n",
       "      <td>1.000000</td>\n",
       "    </tr>\n",
       "    <tr>\n",
       "      <th>max</th>\n",
       "      <td>1.000000</td>\n",
       "      <td>3.000000</td>\n",
       "      <td>1.000000</td>\n",
       "      <td>80.000000</td>\n",
       "      <td>8.000000</td>\n",
       "      <td>6.000000</td>\n",
       "      <td>512.329200</td>\n",
       "      <td>2.000000</td>\n",
       "    </tr>\n",
       "  </tbody>\n",
       "</table>\n",
       "</div>"
      ],
      "text/plain": [
       "         Survived      Pclass         Sex         Age       SibSp       Parch  \\\n",
       "count  891.000000  891.000000  891.000000  891.000000  891.000000  891.000000   \n",
       "mean     0.383838    2.308642    0.647587   29.699118    0.523008    0.381594   \n",
       "std      0.486592    0.836071    0.477990   13.002015    1.102743    0.806057   \n",
       "min      0.000000    1.000000    0.000000    0.420000    0.000000    0.000000   \n",
       "25%      0.000000    2.000000    0.000000   22.000000    0.000000    0.000000   \n",
       "50%      0.000000    3.000000    1.000000   29.699118    0.000000    0.000000   \n",
       "75%      1.000000    3.000000    1.000000   35.000000    1.000000    0.000000   \n",
       "max      1.000000    3.000000    1.000000   80.000000    8.000000    6.000000   \n",
       "\n",
       "             Fare    Embarked  \n",
       "count  891.000000  891.000000  \n",
       "mean    32.746366    0.361392  \n",
       "std     49.514272    0.635673  \n",
       "min      4.012500    0.000000  \n",
       "25%      7.925000    0.000000  \n",
       "50%     15.100000    0.000000  \n",
       "75%     32.204208    1.000000  \n",
       "max    512.329200    2.000000  "
      ]
     },
     "execution_count": 134,
     "metadata": {},
     "output_type": "execute_result"
    }
   ],
   "source": [
    "train_df.describe()"
   ]
  },
  {
   "cell_type": "code",
   "execution_count": 135,
   "id": "considerable-wrapping",
   "metadata": {
    "execution": {
     "iopub.execute_input": "2021-05-19T14:08:20.859452Z",
     "iopub.status.busy": "2021-05-19T14:08:20.858851Z",
     "iopub.status.idle": "2021-05-19T14:08:20.862394Z",
     "shell.execute_reply": "2021-05-19T14:08:20.861945Z"
    },
    "papermill": {
     "duration": 0.103584,
     "end_time": "2021-05-19T14:08:20.862506",
     "exception": false,
     "start_time": "2021-05-19T14:08:20.758922",
     "status": "completed"
    },
    "slideshow": {
     "slide_type": "subslide"
    },
    "tags": []
   },
   "outputs": [
    {
     "data": {
      "text/plain": [
       "Survived       0.236772\n",
       "Pclass         0.699015\n",
       "Sex            0.228475\n",
       "Age          169.052400\n",
       "SibSp          1.216043\n",
       "Parch          0.649728\n",
       "Fare        2451.663181\n",
       "Embarked       0.404081\n",
       "dtype: float64"
      ]
     },
     "execution_count": 135,
     "metadata": {},
     "output_type": "execute_result"
    }
   ],
   "source": [
    "train_df.var()"
   ]
  },
  {
   "cell_type": "code",
   "execution_count": 136,
   "id": "minor-audio",
   "metadata": {
    "execution": {
     "iopub.execute_input": "2021-05-19T14:08:21.248518Z",
     "iopub.status.busy": "2021-05-19T14:08:21.247996Z",
     "iopub.status.idle": "2021-05-19T14:08:21.250726Z",
     "shell.execute_reply": "2021-05-19T14:08:21.249803Z"
    },
    "papermill": {
     "duration": 0.102114,
     "end_time": "2021-05-19T14:08:21.250864",
     "exception": false,
     "start_time": "2021-05-19T14:08:21.148750",
     "status": "completed"
    },
    "slideshow": {
     "slide_type": "subslide"
    },
    "tags": []
   },
   "outputs": [],
   "source": [
    "train_df['Age'] = np.log(train_df['Age'])\n",
    "train_df['Fare'] = np.log(train_df['Fare'])"
   ]
  },
  {
   "cell_type": "code",
   "execution_count": 137,
   "id": "naval-milwaukee",
   "metadata": {
    "execution": {
     "iopub.execute_input": "2021-05-19T14:08:21.453576Z",
     "iopub.status.busy": "2021-05-19T14:08:21.453089Z",
     "iopub.status.idle": "2021-05-19T14:08:21.456130Z",
     "shell.execute_reply": "2021-05-19T14:08:21.455646Z"
    },
    "papermill": {
     "duration": 0.109325,
     "end_time": "2021-05-19T14:08:21.456237",
     "exception": false,
     "start_time": "2021-05-19T14:08:21.346912",
     "status": "completed"
    },
    "slideshow": {
     "slide_type": "subslide"
    },
    "tags": []
   },
   "outputs": [
    {
     "data": {
      "text/html": [
       "<div>\n",
       "<style scoped>\n",
       "    .dataframe tbody tr th:only-of-type {\n",
       "        vertical-align: middle;\n",
       "    }\n",
       "\n",
       "    .dataframe tbody tr th {\n",
       "        vertical-align: top;\n",
       "    }\n",
       "\n",
       "    .dataframe thead th {\n",
       "        text-align: right;\n",
       "    }\n",
       "</style>\n",
       "<table border=\"1\" class=\"dataframe\">\n",
       "  <thead>\n",
       "    <tr style=\"text-align: right;\">\n",
       "      <th></th>\n",
       "      <th>Survived</th>\n",
       "      <th>Pclass</th>\n",
       "      <th>Sex</th>\n",
       "      <th>Age</th>\n",
       "      <th>SibSp</th>\n",
       "      <th>Parch</th>\n",
       "      <th>Fare</th>\n",
       "      <th>Embarked</th>\n",
       "    </tr>\n",
       "  </thead>\n",
       "  <tbody>\n",
       "    <tr>\n",
       "      <th>0</th>\n",
       "      <td>0</td>\n",
       "      <td>3</td>\n",
       "      <td>1</td>\n",
       "      <td>3.091042</td>\n",
       "      <td>1</td>\n",
       "      <td>0</td>\n",
       "      <td>1.981001</td>\n",
       "      <td>0</td>\n",
       "    </tr>\n",
       "    <tr>\n",
       "      <th>1</th>\n",
       "      <td>1</td>\n",
       "      <td>1</td>\n",
       "      <td>0</td>\n",
       "      <td>3.637586</td>\n",
       "      <td>1</td>\n",
       "      <td>0</td>\n",
       "      <td>4.266662</td>\n",
       "      <td>1</td>\n",
       "    </tr>\n",
       "    <tr>\n",
       "      <th>2</th>\n",
       "      <td>1</td>\n",
       "      <td>3</td>\n",
       "      <td>0</td>\n",
       "      <td>3.258097</td>\n",
       "      <td>0</td>\n",
       "      <td>0</td>\n",
       "      <td>2.070022</td>\n",
       "      <td>0</td>\n",
       "    </tr>\n",
       "    <tr>\n",
       "      <th>3</th>\n",
       "      <td>1</td>\n",
       "      <td>1</td>\n",
       "      <td>0</td>\n",
       "      <td>3.555348</td>\n",
       "      <td>1</td>\n",
       "      <td>0</td>\n",
       "      <td>3.972177</td>\n",
       "      <td>0</td>\n",
       "    </tr>\n",
       "    <tr>\n",
       "      <th>4</th>\n",
       "      <td>0</td>\n",
       "      <td>3</td>\n",
       "      <td>1</td>\n",
       "      <td>3.555348</td>\n",
       "      <td>0</td>\n",
       "      <td>0</td>\n",
       "      <td>2.085672</td>\n",
       "      <td>0</td>\n",
       "    </tr>\n",
       "  </tbody>\n",
       "</table>\n",
       "</div>"
      ],
      "text/plain": [
       "   Survived  Pclass  Sex       Age  SibSp  Parch      Fare  Embarked\n",
       "0         0       3    1  3.091042      1      0  1.981001         0\n",
       "1         1       1    0  3.637586      1      0  4.266662         1\n",
       "2         1       3    0  3.258097      0      0  2.070022         0\n",
       "3         1       1    0  3.555348      1      0  3.972177         0\n",
       "4         0       3    1  3.555348      0      0  2.085672         0"
      ]
     },
     "execution_count": 137,
     "metadata": {},
     "output_type": "execute_result"
    }
   ],
   "source": [
    "train_df.head()"
   ]
  },
  {
   "cell_type": "code",
   "execution_count": 4,
   "id": "inside-fight",
   "metadata": {
    "execution": {
     "iopub.execute_input": "2021-05-19T14:08:21.846619Z",
     "iopub.status.busy": "2021-05-19T14:08:21.846167Z",
     "iopub.status.idle": "2021-05-19T14:08:21.858729Z",
     "shell.execute_reply": "2021-05-19T14:08:21.859119Z"
    },
    "papermill": {
     "duration": 0.110671,
     "end_time": "2021-05-19T14:08:21.859254",
     "exception": false,
     "start_time": "2021-05-19T14:08:21.748583",
     "status": "completed"
    },
    "slideshow": {
     "slide_type": "subslide"
    },
    "tags": []
   },
   "outputs": [],
   "source": [
    "test_df = pd.read_csv('./inputs/tab/test.csv')"
   ]
  },
  {
   "cell_type": "code",
   "execution_count": 139,
   "id": "bound-survival",
   "metadata": {
    "execution": {
     "iopub.execute_input": "2021-05-19T14:08:22.053289Z",
     "iopub.status.busy": "2021-05-19T14:08:22.052818Z",
     "iopub.status.idle": "2021-05-19T14:08:22.064669Z",
     "shell.execute_reply": "2021-05-19T14:08:22.065108Z"
    },
    "papermill": {
     "duration": 0.110312,
     "end_time": "2021-05-19T14:08:22.065232",
     "exception": false,
     "start_time": "2021-05-19T14:08:21.954920",
     "status": "completed"
    },
    "slideshow": {
     "slide_type": "subslide"
    },
    "tags": []
   },
   "outputs": [
    {
     "data": {
      "text/html": [
       "<div>\n",
       "<style scoped>\n",
       "    .dataframe tbody tr th:only-of-type {\n",
       "        vertical-align: middle;\n",
       "    }\n",
       "\n",
       "    .dataframe tbody tr th {\n",
       "        vertical-align: top;\n",
       "    }\n",
       "\n",
       "    .dataframe thead th {\n",
       "        text-align: right;\n",
       "    }\n",
       "</style>\n",
       "<table border=\"1\" class=\"dataframe\">\n",
       "  <thead>\n",
       "    <tr style=\"text-align: right;\">\n",
       "      <th></th>\n",
       "      <th>PassengerId</th>\n",
       "      <th>Pclass</th>\n",
       "      <th>Name</th>\n",
       "      <th>Sex</th>\n",
       "      <th>Age</th>\n",
       "      <th>SibSp</th>\n",
       "      <th>Parch</th>\n",
       "      <th>Ticket</th>\n",
       "      <th>Fare</th>\n",
       "      <th>Cabin</th>\n",
       "      <th>Embarked</th>\n",
       "    </tr>\n",
       "  </thead>\n",
       "  <tbody>\n",
       "    <tr>\n",
       "      <th>0</th>\n",
       "      <td>892</td>\n",
       "      <td>3</td>\n",
       "      <td>Kelly, Mr. James</td>\n",
       "      <td>male</td>\n",
       "      <td>34.5</td>\n",
       "      <td>0</td>\n",
       "      <td>0</td>\n",
       "      <td>330911</td>\n",
       "      <td>7.8292</td>\n",
       "      <td>NaN</td>\n",
       "      <td>Q</td>\n",
       "    </tr>\n",
       "    <tr>\n",
       "      <th>1</th>\n",
       "      <td>893</td>\n",
       "      <td>3</td>\n",
       "      <td>Wilkes, Mrs. James (Ellen Needs)</td>\n",
       "      <td>female</td>\n",
       "      <td>47.0</td>\n",
       "      <td>1</td>\n",
       "      <td>0</td>\n",
       "      <td>363272</td>\n",
       "      <td>7.0000</td>\n",
       "      <td>NaN</td>\n",
       "      <td>S</td>\n",
       "    </tr>\n",
       "    <tr>\n",
       "      <th>2</th>\n",
       "      <td>894</td>\n",
       "      <td>2</td>\n",
       "      <td>Myles, Mr. Thomas Francis</td>\n",
       "      <td>male</td>\n",
       "      <td>62.0</td>\n",
       "      <td>0</td>\n",
       "      <td>0</td>\n",
       "      <td>240276</td>\n",
       "      <td>9.6875</td>\n",
       "      <td>NaN</td>\n",
       "      <td>Q</td>\n",
       "    </tr>\n",
       "    <tr>\n",
       "      <th>3</th>\n",
       "      <td>895</td>\n",
       "      <td>3</td>\n",
       "      <td>Wirz, Mr. Albert</td>\n",
       "      <td>male</td>\n",
       "      <td>27.0</td>\n",
       "      <td>0</td>\n",
       "      <td>0</td>\n",
       "      <td>315154</td>\n",
       "      <td>8.6625</td>\n",
       "      <td>NaN</td>\n",
       "      <td>S</td>\n",
       "    </tr>\n",
       "    <tr>\n",
       "      <th>4</th>\n",
       "      <td>896</td>\n",
       "      <td>3</td>\n",
       "      <td>Hirvonen, Mrs. Alexander (Helga E Lindqvist)</td>\n",
       "      <td>female</td>\n",
       "      <td>22.0</td>\n",
       "      <td>1</td>\n",
       "      <td>1</td>\n",
       "      <td>3101298</td>\n",
       "      <td>12.2875</td>\n",
       "      <td>NaN</td>\n",
       "      <td>S</td>\n",
       "    </tr>\n",
       "  </tbody>\n",
       "</table>\n",
       "</div>"
      ],
      "text/plain": [
       "   PassengerId  Pclass                                          Name     Sex  \\\n",
       "0          892       3                              Kelly, Mr. James    male   \n",
       "1          893       3              Wilkes, Mrs. James (Ellen Needs)  female   \n",
       "2          894       2                     Myles, Mr. Thomas Francis    male   \n",
       "3          895       3                              Wirz, Mr. Albert    male   \n",
       "4          896       3  Hirvonen, Mrs. Alexander (Helga E Lindqvist)  female   \n",
       "\n",
       "    Age  SibSp  Parch   Ticket     Fare Cabin Embarked  \n",
       "0  34.5      0      0   330911   7.8292   NaN        Q  \n",
       "1  47.0      1      0   363272   7.0000   NaN        S  \n",
       "2  62.0      0      0   240276   9.6875   NaN        Q  \n",
       "3  27.0      0      0   315154   8.6625   NaN        S  \n",
       "4  22.0      1      1  3101298  12.2875   NaN        S  "
      ]
     },
     "execution_count": 139,
     "metadata": {},
     "output_type": "execute_result"
    }
   ],
   "source": [
    "test_df.head()"
   ]
  },
  {
   "cell_type": "code",
   "execution_count": 140,
   "id": "micro-velvet",
   "metadata": {
    "execution": {
     "iopub.execute_input": "2021-05-19T14:08:22.452860Z",
     "iopub.status.busy": "2021-05-19T14:08:22.452437Z",
     "iopub.status.idle": "2021-05-19T14:08:22.458183Z",
     "shell.execute_reply": "2021-05-19T14:08:22.457771Z"
    },
    "papermill": {
     "duration": 0.104201,
     "end_time": "2021-05-19T14:08:22.458288",
     "exception": false,
     "start_time": "2021-05-19T14:08:22.354087",
     "status": "completed"
    },
    "slideshow": {
     "slide_type": "subslide"
    },
    "tags": []
   },
   "outputs": [],
   "source": [
    "# dropping useless columns\n",
    "\n",
    "test_df.drop(['PassengerId', 'Name', 'Ticket', 'Cabin'], axis = 1, inplace = True)\n",
    "\n",
    "# replacing Zero values of \"Fare\" column with mean of column\n",
    "\n",
    "test_df['Fare'] = test_df['Fare'].replace(0, test_df['Fare'].mean())\n",
    "\n",
    "# filling null values of \"Age\" column with mean value of the column\n",
    "\n",
    "test_df['Age'].fillna(test_df['Age'].mean(), inplace = True)\n",
    "\n",
    "# filling null values of \"Embarked\" column with mode value of the column\n",
    "\n",
    "test_df['Embarked'].fillna(test_df['Embarked'].mode()[0], inplace = True)"
   ]
  },
  {
   "cell_type": "code",
   "execution_count": 141,
   "id": "fitted-corporation",
   "metadata": {
    "execution": {
     "iopub.execute_input": "2021-05-19T14:08:22.655972Z",
     "iopub.status.busy": "2021-05-19T14:08:22.655464Z",
     "iopub.status.idle": "2021-05-19T14:08:22.658269Z",
     "shell.execute_reply": "2021-05-19T14:08:22.657866Z"
    },
    "papermill": {
     "duration": 0.104291,
     "end_time": "2021-05-19T14:08:22.658370",
     "exception": false,
     "start_time": "2021-05-19T14:08:22.554079",
     "status": "completed"
    },
    "slideshow": {
     "slide_type": "subslide"
    },
    "tags": []
   },
   "outputs": [],
   "source": [
    "test_df.isna().sum()"
   ]
  },
  {
   "cell_type": "code",
   "execution_count": 145,
   "id": "nervous-nelson",
   "metadata": {
    "execution": {
     "iopub.execute_input": "2021-05-19T14:08:23.460928Z",
     "iopub.status.busy": "2021-05-19T14:08:23.460290Z",
     "iopub.status.idle": "2021-05-19T14:08:23.464053Z",
     "shell.execute_reply": "2021-05-19T14:08:23.464413Z"
    },
    "papermill": {
     "duration": 0.102972,
     "end_time": "2021-05-19T14:08:23.464538",
     "exception": false,
     "start_time": "2021-05-19T14:08:23.361566",
     "status": "completed"
    },
    "slideshow": {
     "slide_type": "subslide"
    },
    "tags": []
   },
   "outputs": [],
   "source": [
    "# filling null values of \"Fare\" column with mean value of the column\n",
    "\n",
    "test_df['Fare'].fillna(test_df['Fare'].mean(), inplace = True)\n",
    "\n",
    "test_df['Sex'] = test_df['Sex'].apply(lambda val: 1 if val == 'male' else 0)\n",
    "\n",
    "test_df['Embarked'] = test_df['Embarked'].map({'S' : 0, 'C': 1, 'Q': 2})\n",
    "\n",
    "test_df.head()"
   ]
  },
  {
   "cell_type": "code",
   "execution_count": 149,
   "id": "weird-lexington",
   "metadata": {
    "execution": {
     "iopub.execute_input": "2021-05-19T14:08:24.283445Z",
     "iopub.status.busy": "2021-05-19T14:08:24.282785Z",
     "iopub.status.idle": "2021-05-19T14:08:24.285085Z",
     "shell.execute_reply": "2021-05-19T14:08:24.284701Z"
    },
    "papermill": {
     "duration": 0.107117,
     "end_time": "2021-05-19T14:08:24.285186",
     "exception": false,
     "start_time": "2021-05-19T14:08:24.178069",
     "status": "completed"
    },
    "slideshow": {
     "slide_type": "subslide"
    },
    "tags": []
   },
   "outputs": [],
   "source": [
    "test_df['Age'] = np.log(test_df['Age'])\n",
    "test_df['Fare'] = np.log(test_df['Fare'])"
   ]
  },
  {
   "cell_type": "code",
   "execution_count": 150,
   "id": "exempt-toyota",
   "metadata": {
    "execution": {
     "iopub.execute_input": "2021-05-19T14:08:24.487582Z",
     "iopub.status.busy": "2021-05-19T14:08:24.485670Z",
     "iopub.status.idle": "2021-05-19T14:08:24.490531Z",
     "shell.execute_reply": "2021-05-19T14:08:24.490868Z"
    },
    "papermill": {
     "duration": 0.10742,
     "end_time": "2021-05-19T14:08:24.491029",
     "exception": false,
     "start_time": "2021-05-19T14:08:24.383609",
     "status": "completed"
    },
    "slideshow": {
     "slide_type": "subslide"
    },
    "tags": []
   },
   "outputs": [
    {
     "data": {
      "text/plain": [
       "Pclass      0.708690\n",
       "Sex         0.231960\n",
       "Age         0.482596\n",
       "SibSp       0.804178\n",
       "Parch       0.963203\n",
       "Fare        0.973274\n",
       "Embarked    0.469932\n",
       "dtype: float64"
      ]
     },
     "execution_count": 150,
     "metadata": {},
     "output_type": "execute_result"
    }
   ],
   "source": [
    "test_df.var()"
   ]
  },
  {
   "cell_type": "code",
   "execution_count": 151,
   "id": "mysterious-convert",
   "metadata": {
    "execution": {
     "iopub.execute_input": "2021-05-19T14:08:24.696985Z",
     "iopub.status.busy": "2021-05-19T14:08:24.696440Z",
     "iopub.status.idle": "2021-05-19T14:08:24.700799Z",
     "shell.execute_reply": "2021-05-19T14:08:24.700398Z"
    },
    "papermill": {
     "duration": 0.111132,
     "end_time": "2021-05-19T14:08:24.700934",
     "exception": false,
     "start_time": "2021-05-19T14:08:24.589802",
     "status": "completed"
    },
    "slideshow": {
     "slide_type": "subslide"
    },
    "tags": []
   },
   "outputs": [
    {
     "data": {
      "text/plain": [
       "Pclass      False\n",
       "Sex         False\n",
       "Age         False\n",
       "SibSp       False\n",
       "Parch       False\n",
       "Fare        False\n",
       "Embarked    False\n",
       "dtype: bool"
      ]
     },
     "execution_count": 151,
     "metadata": {},
     "output_type": "execute_result"
    }
   ],
   "source": [
    "test_df.isna().any()"
   ]
  },
  {
   "cell_type": "code",
   "execution_count": 152,
   "id": "circular-venue",
   "metadata": {
    "execution": {
     "iopub.execute_input": "2021-05-19T14:08:24.901650Z",
     "iopub.status.busy": "2021-05-19T14:08:24.901020Z",
     "iopub.status.idle": "2021-05-19T14:08:24.910365Z",
     "shell.execute_reply": "2021-05-19T14:08:24.910812Z"
    },
    "papermill": {
     "duration": 0.109853,
     "end_time": "2021-05-19T14:08:24.910949",
     "exception": false,
     "start_time": "2021-05-19T14:08:24.801096",
     "status": "completed"
    },
    "slideshow": {
     "slide_type": "subslide"
    },
    "tags": []
   },
   "outputs": [
    {
     "data": {
      "text/html": [
       "<div>\n",
       "<style scoped>\n",
       "    .dataframe tbody tr th:only-of-type {\n",
       "        vertical-align: middle;\n",
       "    }\n",
       "\n",
       "    .dataframe tbody tr th {\n",
       "        vertical-align: top;\n",
       "    }\n",
       "\n",
       "    .dataframe thead th {\n",
       "        text-align: right;\n",
       "    }\n",
       "</style>\n",
       "<table border=\"1\" class=\"dataframe\">\n",
       "  <thead>\n",
       "    <tr style=\"text-align: right;\">\n",
       "      <th></th>\n",
       "      <th>Pclass</th>\n",
       "      <th>Sex</th>\n",
       "      <th>Age</th>\n",
       "      <th>SibSp</th>\n",
       "      <th>Parch</th>\n",
       "      <th>Fare</th>\n",
       "      <th>Embarked</th>\n",
       "    </tr>\n",
       "  </thead>\n",
       "  <tbody>\n",
       "    <tr>\n",
       "      <th>0</th>\n",
       "      <td>3</td>\n",
       "      <td>1</td>\n",
       "      <td>3.540959</td>\n",
       "      <td>0</td>\n",
       "      <td>0</td>\n",
       "      <td>2.057860</td>\n",
       "      <td>2</td>\n",
       "    </tr>\n",
       "    <tr>\n",
       "      <th>1</th>\n",
       "      <td>3</td>\n",
       "      <td>0</td>\n",
       "      <td>3.850148</td>\n",
       "      <td>1</td>\n",
       "      <td>0</td>\n",
       "      <td>1.945910</td>\n",
       "      <td>0</td>\n",
       "    </tr>\n",
       "    <tr>\n",
       "      <th>2</th>\n",
       "      <td>2</td>\n",
       "      <td>1</td>\n",
       "      <td>4.127134</td>\n",
       "      <td>0</td>\n",
       "      <td>0</td>\n",
       "      <td>2.270836</td>\n",
       "      <td>2</td>\n",
       "    </tr>\n",
       "    <tr>\n",
       "      <th>3</th>\n",
       "      <td>3</td>\n",
       "      <td>1</td>\n",
       "      <td>3.295837</td>\n",
       "      <td>0</td>\n",
       "      <td>0</td>\n",
       "      <td>2.159003</td>\n",
       "      <td>0</td>\n",
       "    </tr>\n",
       "    <tr>\n",
       "      <th>4</th>\n",
       "      <td>3</td>\n",
       "      <td>0</td>\n",
       "      <td>3.091042</td>\n",
       "      <td>1</td>\n",
       "      <td>1</td>\n",
       "      <td>2.508582</td>\n",
       "      <td>0</td>\n",
       "    </tr>\n",
       "  </tbody>\n",
       "</table>\n",
       "</div>"
      ],
      "text/plain": [
       "   Pclass  Sex       Age  SibSp  Parch      Fare  Embarked\n",
       "0       3    1  3.540959      0      0  2.057860         2\n",
       "1       3    0  3.850148      1      0  1.945910         0\n",
       "2       2    1  4.127134      0      0  2.270836         2\n",
       "3       3    1  3.295837      0      0  2.159003         0\n",
       "4       3    0  3.091042      1      1  2.508582         0"
      ]
     },
     "execution_count": 152,
     "metadata": {},
     "output_type": "execute_result"
    }
   ],
   "source": [
    "test_df.head()"
   ]
  },
  {
   "cell_type": "code",
   "execution_count": 153,
   "id": "arbitrary-external",
   "metadata": {
    "execution": {
     "iopub.execute_input": "2021-05-19T14:08:25.310340Z",
     "iopub.status.busy": "2021-05-19T14:08:25.309841Z",
     "iopub.status.idle": "2021-05-19T14:08:25.312407Z",
     "shell.execute_reply": "2021-05-19T14:08:25.312021Z"
    },
    "papermill": {
     "duration": 0.106042,
     "end_time": "2021-05-19T14:08:25.312510",
     "exception": false,
     "start_time": "2021-05-19T14:08:25.206468",
     "status": "completed"
    },
    "slideshow": {
     "slide_type": "subslide"
    },
    "tags": []
   },
   "outputs": [],
   "source": [
    "# creating X and y\n",
    "\n",
    "X = train_df.drop('Survived', axis = 1)\n",
    "y = train_df['Survived']"
   ]
  },
  {
   "cell_type": "code",
   "execution_count": 154,
   "id": "ecological-honolulu",
   "metadata": {
    "execution": {
     "iopub.execute_input": "2021-05-19T14:08:25.514022Z",
     "iopub.status.busy": "2021-05-19T14:08:25.513575Z",
     "iopub.status.idle": "2021-05-19T14:08:25.883200Z",
     "shell.execute_reply": "2021-05-19T14:08:25.883570Z"
    },
    "papermill": {
     "duration": 0.471693,
     "end_time": "2021-05-19T14:08:25.883709",
     "exception": false,
     "start_time": "2021-05-19T14:08:25.412016",
     "status": "completed"
    },
    "slideshow": {
     "slide_type": "subslide"
    },
    "tags": []
   },
   "outputs": [],
   "source": [
    "# splitting data intp training and test set\n",
    "\n",
    "from sklearn.model_selection import train_test_split\n",
    "\n",
    "X_train, X_test, y_train, y_test = train_test_split(X, y, test_size = 0.30, random_state = 0)"
   ]
  },
  {
   "cell_type": "markdown",
   "id": "adolescent-township",
   "metadata": {
    "papermill": {
     "duration": 0.099773,
     "end_time": "2021-05-19T14:08:26.084073",
     "exception": false,
     "start_time": "2021-05-19T14:08:25.984300",
     "status": "completed"
    },
    "slideshow": {
     "slide_type": "slide"
    },
    "tags": []
   },
   "source": [
    "<p style = \"font-size : 35px; color : #532e1c ; font-family : 'Times New Roman'; border-radius: 5px 5px;\"><strong>Data Modeling</strong></p><br/>"
   ]
  },
  {
   "cell_type": "markdown",
   "id": "mounted-windows",
   "metadata": {
    "papermill": {
     "duration": 0.099202,
     "end_time": "2021-05-19T14:08:26.283145",
     "exception": false,
     "start_time": "2021-05-19T14:08:26.183943",
     "status": "completed"
    },
    "slideshow": {
     "slide_type": "slide"
    },
    "tags": []
   },
   "source": [
    "<p style = \"font-size : 35px; color : #532e1c ; font-family : 'Times New Roman'; border-radius: 5px 5px;\"><strong>1. Logistic Regression</strong></p><br/>"
   ]
  },
  {
   "cell_type": "code",
   "execution_count": 155,
   "id": "gross-scotland",
   "metadata": {
    "execution": {
     "iopub.execute_input": "2021-05-19T14:08:26.486843Z",
     "iopub.status.busy": "2021-05-19T14:08:26.486406Z",
     "iopub.status.idle": "2021-05-19T14:08:26.616797Z",
     "shell.execute_reply": "2021-05-19T14:08:26.616355Z"
    },
    "papermill": {
     "duration": 0.2332,
     "end_time": "2021-05-19T14:08:26.616918",
     "exception": false,
     "start_time": "2021-05-19T14:08:26.383718",
     "status": "completed"
    },
    "slideshow": {
     "slide_type": "subslide"
    },
    "tags": []
   },
   "outputs": [
    {
     "name": "stdout",
     "output_type": "stream",
     "text": [
      "Training Accuracy of Logistic Regression is 0.8105939004815409\n",
      "Test Accuracy of Logistic Regression is 0.8134328358208955\n",
      "Confusion Matrix :- \n",
      " [[145  23]\n",
      " [ 27  73]]\n",
      "Classofocation Report : -\n",
      "               precision    recall  f1-score   support\n",
      "\n",
      "           0       0.84      0.86      0.85       168\n",
      "           1       0.76      0.73      0.74       100\n",
      "\n",
      "    accuracy                           0.81       268\n",
      "   macro avg       0.80      0.80      0.80       268\n",
      "weighted avg       0.81      0.81      0.81       268\n",
      "\n"
     ]
    }
   ],
   "source": [
    "from sklearn.linear_model import LogisticRegression\n",
    "\n",
    "lr = LogisticRegression()\n",
    "lr.fit(X_train, y_train)\n",
    "\n",
    "# accuracy score, confusion matrix and classification report of logistic regression\n",
    "\n",
    "from sklearn.metrics import accuracy_score, confusion_matrix, classification_report\n",
    "\n",
    "lr_acc = accuracy_score(y_test, lr.predict(X_test))\n",
    "\n",
    "print(f\"Training Accuracy of Logistic Regression is {accuracy_score(y_train, lr.predict(X_train))}\")\n",
    "print(f\"Test Accuracy of Logistic Regression is {lr_acc}\")\n",
    "\n",
    "print(f\"Confusion Matrix :- \\n {confusion_matrix(y_test, lr.predict(X_test))}\")\n",
    "print(f\"Classofocation Report : -\\n {classification_report(y_test, lr.predict(X_test))}\")"
   ]
  },
  {
   "cell_type": "code",
   "execution_count": 156,
   "id": "casual-orientation",
   "metadata": {
    "execution": {
     "iopub.execute_input": "2021-05-19T14:08:26.822702Z",
     "iopub.status.busy": "2021-05-19T14:08:26.822115Z",
     "iopub.status.idle": "2021-05-19T14:08:28.570110Z",
     "shell.execute_reply": "2021-05-19T14:08:28.569687Z"
    },
    "papermill": {
     "duration": 1.853953,
     "end_time": "2021-05-19T14:08:28.570217",
     "exception": false,
     "start_time": "2021-05-19T14:08:26.716264",
     "status": "completed"
    },
    "slideshow": {
     "slide_type": "subslide"
    },
    "tags": []
   },
   "outputs": [
    {
     "name": "stdout",
     "output_type": "stream",
     "text": [
      "Fitting 5 folds for each of 14 candidates, totalling 70 fits\n"
     ]
    },
    {
     "data": {
      "text/plain": [
       "GridSearchCV(cv=5, estimator=LogisticRegression(), n_jobs=-1,\n",
       "             param_grid={'C': [0.001, 0.01, 0.1, 0.005, 0.5, 1, 10],\n",
       "                         'penalty': ['l1', 'l2']},\n",
       "             verbose=1)"
      ]
     },
     "execution_count": 156,
     "metadata": {},
     "output_type": "execute_result"
    }
   ],
   "source": [
    "# hyper parameter tuning of logistic regression\n",
    "\n",
    "from sklearn.model_selection import GridSearchCV\n",
    "\n",
    "grid_param = {\n",
    "    'penalty': ['l1', 'l2'],\n",
    "    'C' : [0.001, 0.01, 0.1, 0.005, 0.5, 1, 10]\n",
    "}\n",
    "\n",
    "grid_search_lr = GridSearchCV(lr, grid_param, cv = 5, n_jobs = -1, verbose = 1)\n",
    "grid_search_lr.fit(X_train, y_train)"
   ]
  },
  {
   "cell_type": "code",
   "execution_count": 157,
   "id": "motivated-control",
   "metadata": {
    "execution": {
     "iopub.execute_input": "2021-05-19T14:08:28.777354Z",
     "iopub.status.busy": "2021-05-19T14:08:28.776665Z",
     "iopub.status.idle": "2021-05-19T14:08:28.780007Z",
     "shell.execute_reply": "2021-05-19T14:08:28.779604Z"
    },
    "papermill": {
     "duration": 0.109751,
     "end_time": "2021-05-19T14:08:28.780116",
     "exception": false,
     "start_time": "2021-05-19T14:08:28.670365",
     "status": "completed"
    },
    "slideshow": {
     "slide_type": "subslide"
    },
    "tags": []
   },
   "outputs": [
    {
     "name": "stdout",
     "output_type": "stream",
     "text": [
      "{'C': 0.1, 'penalty': 'l2'}\n",
      "0.8138451612903227\n"
     ]
    }
   ],
   "source": [
    "# best parameters and best score\n",
    "\n",
    "print(grid_search_lr.best_params_)\n",
    "print(grid_search_lr.best_score_)"
   ]
  },
  {
   "cell_type": "code",
   "execution_count": 158,
   "id": "spiritual-puppy",
   "metadata": {
    "execution": {
     "iopub.execute_input": "2021-05-19T14:08:28.990744Z",
     "iopub.status.busy": "2021-05-19T14:08:28.988940Z",
     "iopub.status.idle": "2021-05-19T14:08:29.002490Z",
     "shell.execute_reply": "2021-05-19T14:08:29.002118Z"
    },
    "papermill": {
     "duration": 0.12053,
     "end_time": "2021-05-19T14:08:29.002595",
     "exception": false,
     "start_time": "2021-05-19T14:08:28.882065",
     "status": "completed"
    },
    "slideshow": {
     "slide_type": "subslide"
    },
    "tags": []
   },
   "outputs": [
    {
     "name": "stdout",
     "output_type": "stream",
     "text": [
      "Training Accuracy of Logistic Regression is 0.8105939004815409\n",
      "Test Accuracy of Logistic Regression is 0.8171641791044776\n",
      "Confusion Matrix :- \n",
      " [[149  19]\n",
      " [ 30  70]]\n",
      "Classofocation Report : -\n",
      "               precision    recall  f1-score   support\n",
      "\n",
      "           0       0.83      0.89      0.86       168\n",
      "           1       0.79      0.70      0.74       100\n",
      "\n",
      "    accuracy                           0.82       268\n",
      "   macro avg       0.81      0.79      0.80       268\n",
      "weighted avg       0.82      0.82      0.81       268\n",
      "\n"
     ]
    }
   ],
   "source": [
    "# best estimator\n",
    "\n",
    "lr = grid_search_lr.best_estimator_\n",
    "\n",
    "# accuracy score, confusion matrix and classification report of logistic regression\n",
    "\n",
    "lr_acc = accuracy_score(y_test, lr.predict(X_test))\n",
    "\n",
    "print(f\"Training Accuracy of Logistic Regression is {accuracy_score(y_train, lr.predict(X_train))}\")\n",
    "print(f\"Test Accuracy of Logistic Regression is {lr_acc}\")\n",
    "\n",
    "print(f\"Confusion Matrix :- \\n {confusion_matrix(y_test, lr.predict(X_test))}\")\n",
    "print(f\"Classofocation Report : -\\n {classification_report(y_test, lr.predict(X_test))}\")"
   ]
  },
  {
   "cell_type": "markdown",
   "id": "parliamentary-constitution",
   "metadata": {
    "papermill": {
     "duration": 0.153113,
     "end_time": "2021-05-19T14:08:41.327013",
     "exception": false,
     "start_time": "2021-05-19T14:08:41.173900",
     "status": "completed"
    },
    "slideshow": {
     "slide_type": "slide"
    },
    "tags": []
   },
   "source": [
    "<p style = \"font-size : 35px; color : #532e1c ; font-family : 'Times New Roman'; border-radius: 5px 5px;\"><strong>2. Random Forest</strong></p><br/>"
   ]
  },
  {
   "cell_type": "code",
   "execution_count": 159,
   "id": "dangerous-price",
   "metadata": {
    "execution": {
     "iopub.execute_input": "2021-05-19T14:08:41.642248Z",
     "iopub.status.busy": "2021-05-19T14:08:41.641568Z",
     "iopub.status.idle": "2021-05-19T14:08:41.971499Z",
     "shell.execute_reply": "2021-05-19T14:08:41.970991Z"
    },
    "papermill": {
     "duration": 0.489435,
     "end_time": "2021-05-19T14:08:41.971628",
     "exception": false,
     "start_time": "2021-05-19T14:08:41.482193",
     "status": "completed"
    },
    "slideshow": {
     "slide_type": "subslide"
    },
    "tags": []
   },
   "outputs": [
    {
     "name": "stdout",
     "output_type": "stream",
     "text": [
      "Training Accuracy of Decision Tree Classifier is 0.9791332263242376\n",
      "Test Accuracy of Decision Tree Classifier is 0.832089552238806 \n",
      "\n",
      "Confusion Matrix :- \n",
      "[[150  18]\n",
      " [ 27  73]]\n",
      "\n",
      "Classification Report :- \n",
      "               precision    recall  f1-score   support\n",
      "\n",
      "           0       0.85      0.89      0.87       168\n",
      "           1       0.80      0.73      0.76       100\n",
      "\n",
      "    accuracy                           0.83       268\n",
      "   macro avg       0.82      0.81      0.82       268\n",
      "weighted avg       0.83      0.83      0.83       268\n",
      "\n"
     ]
    }
   ],
   "source": [
    "from sklearn.ensemble import RandomForestClassifier\n",
    "\n",
    "rd_clf = RandomForestClassifier()\n",
    "rd_clf.fit(X_train, y_train)\n",
    "\n",
    "# accuracy score, confusion matrix and classification report of random forest\n",
    "\n",
    "rd_clf_acc = accuracy_score(y_test, rd_clf.predict(X_test))\n",
    "\n",
    "print(f\"Training Accuracy of Decision Tree Classifier is {accuracy_score(y_train, rd_clf.predict(X_train))}\")\n",
    "print(f\"Test Accuracy of Decision Tree Classifier is {rd_clf_acc} \\n\")\n",
    "\n",
    "print(f\"Confusion Matrix :- \\n{confusion_matrix(y_test, rd_clf.predict(X_test))}\\n\")\n",
    "print(f\"Classification Report :- \\n {classification_report(y_test, rd_clf.predict(X_test))}\")"
   ]
  },
  {
   "cell_type": "markdown",
   "id": "vulnerable-prediction",
   "metadata": {
    "papermill": {
     "duration": 0.097421,
     "end_time": "2021-05-19T14:08:59.699400",
     "exception": false,
     "start_time": "2021-05-19T14:08:59.601979",
     "status": "completed"
    },
    "slideshow": {
     "slide_type": "slide"
    },
    "tags": []
   },
   "source": [
    "<p style = \"font-size : 35px; color : #532e1c ; font-family : 'Times New Roman'; border-radius: 5px 5px;\"><strong>3. Gradient Boosting</strong></p><br/>"
   ]
  },
  {
   "cell_type": "code",
   "execution_count": 160,
   "id": "mounted-smell",
   "metadata": {
    "execution": {
     "iopub.execute_input": "2021-05-19T14:08:59.901067Z",
     "iopub.status.busy": "2021-05-19T14:08:59.900604Z",
     "iopub.status.idle": "2021-05-19T14:08:59.997423Z",
     "shell.execute_reply": "2021-05-19T14:08:59.997079Z"
    },
    "papermill": {
     "duration": 0.199501,
     "end_time": "2021-05-19T14:08:59.997521",
     "exception": false,
     "start_time": "2021-05-19T14:08:59.798020",
     "status": "completed"
    },
    "slideshow": {
     "slide_type": "subslide"
    },
    "tags": []
   },
   "outputs": [
    {
     "name": "stdout",
     "output_type": "stream",
     "text": [
      "Training Accuracy of Decision Tree Classifier is 0.9085072231139647\n",
      "Test Accuracy of Decision Tree Classifier is 0.835820895522388 \n",
      "\n",
      "Confusion Matrix :- \n",
      "[[153  15]\n",
      " [ 29  71]]\n",
      "\n",
      "Classification Report :- \n",
      "               precision    recall  f1-score   support\n",
      "\n",
      "           0       0.84      0.91      0.87       168\n",
      "           1       0.83      0.71      0.76       100\n",
      "\n",
      "    accuracy                           0.84       268\n",
      "   macro avg       0.83      0.81      0.82       268\n",
      "weighted avg       0.84      0.84      0.83       268\n",
      "\n"
     ]
    }
   ],
   "source": [
    "from sklearn.ensemble import GradientBoostingClassifier\n",
    "\n",
    "gb = GradientBoostingClassifier()\n",
    "gb.fit(X_train, y_train)\n",
    "\n",
    "# accuracy score, confusion matrix and classification report of gradient boosting classifier\n",
    "\n",
    "gb_acc = accuracy_score(y_test, gb.predict(X_test))\n",
    "\n",
    "print(f\"Training Accuracy of Decision Tree Classifier is {accuracy_score(y_train, gb.predict(X_train))}\")\n",
    "print(f\"Test Accuracy of Decision Tree Classifier is {gb_acc} \\n\")\n",
    "\n",
    "print(f\"Confusion Matrix :- \\n{confusion_matrix(y_test, gb.predict(X_test))}\\n\")\n",
    "print(f\"Classification Report :- \\n {classification_report(y_test, gb.predict(X_test))}\")"
   ]
  },
  {
   "cell_type": "markdown",
   "id": "sonic-cliff",
   "metadata": {
    "papermill": {
     "duration": 0.097718,
     "end_time": "2021-05-19T14:09:00.193371",
     "exception": false,
     "start_time": "2021-05-19T14:09:00.095653",
     "status": "completed"
    },
    "slideshow": {
     "slide_type": "slide"
    },
    "tags": []
   },
   "source": [
    "<p style = \"font-size : 35px; color : #532e1c ; font-family : 'Times New Roman'; border-radius: 5px 5px;\"><strong>4. Stochastic Gradient Boosting (SGB)</strong></p><br/>"
   ]
  },
  {
   "cell_type": "code",
   "execution_count": 170,
   "id": "stunning-dream",
   "metadata": {
    "execution": {
     "iopub.execute_input": "2021-05-19T14:09:00.399307Z",
     "iopub.status.busy": "2021-05-19T14:09:00.398815Z",
     "iopub.status.idle": "2021-05-19T14:09:00.493810Z",
     "shell.execute_reply": "2021-05-19T14:09:00.493418Z"
    },
    "papermill": {
     "duration": 0.202453,
     "end_time": "2021-05-19T14:09:00.493927",
     "exception": false,
     "start_time": "2021-05-19T14:09:00.291474",
     "status": "completed"
    },
    "slideshow": {
     "slide_type": "subslide"
    },
    "tags": []
   },
   "outputs": [
    {
     "name": "stdout",
     "output_type": "stream",
     "text": [
      "Training Accuracy of Decision Tree Classifier is 0.898876404494382\n",
      "Test Accuracy of Decision Tree Classifier is 0.8544776119402985 \n",
      "\n",
      "Confusion Matrix :- \n",
      "[[156  12]\n",
      " [ 27  73]]\n",
      "\n",
      "Classification Report :- \n",
      "               precision    recall  f1-score   support\n",
      "\n",
      "           0       0.85      0.93      0.89       168\n",
      "           1       0.86      0.73      0.79       100\n",
      "\n",
      "    accuracy                           0.85       268\n",
      "   macro avg       0.86      0.83      0.84       268\n",
      "weighted avg       0.85      0.85      0.85       268\n",
      "\n"
     ]
    }
   ],
   "source": [
    "sgb = GradientBoostingClassifier(subsample = 0.90, max_features = 0.70)\n",
    "sgb.fit(X_train, y_train)\n",
    "\n",
    "# accuracy score, confusion matrix and classification report of stochastic gradient boosting classifier\n",
    "\n",
    "sgb_acc = accuracy_score(y_test, sgb.predict(X_test))\n",
    "\n",
    "print(f\"Training Accuracy of Decision Tree Classifier is {accuracy_score(y_train, sgb.predict(X_train))}\")\n",
    "print(f\"Test Accuracy of Decision Tree Classifier is {sgb_acc} \\n\")\n",
    "\n",
    "print(f\"Confusion Matrix :- \\n{confusion_matrix(y_test, sgb.predict(X_test))}\\n\")\n",
    "print(f\"Classification Report :- \\n {classification_report(y_test, sgb.predict(X_test))}\")"
   ]
  },
  {
   "cell_type": "markdown",
   "id": "intended-karma",
   "metadata": {
    "papermill": {
     "duration": 0.107703,
     "end_time": "2021-05-19T14:09:00.706867",
     "exception": false,
     "start_time": "2021-05-19T14:09:00.599164",
     "status": "completed"
    },
    "slideshow": {
     "slide_type": "slide"
    },
    "tags": []
   },
   "source": [
    "<p style = \"font-size : 35px; color : #532e1c ; font-family : 'Times New Roman'; border-radius: 5px 5px;\"><strong>5. XGboost</strong></p><br/>"
   ]
  },
  {
   "cell_type": "code",
   "execution_count": 162,
   "id": "employed-expansion",
   "metadata": {
    "execution": {
     "iopub.execute_input": "2021-05-19T14:09:00.931572Z",
     "iopub.status.busy": "2021-05-19T14:09:00.931140Z",
     "iopub.status.idle": "2021-05-19T14:09:01.173931Z",
     "shell.execute_reply": "2021-05-19T14:09:01.174459Z"
    },
    "papermill": {
     "duration": 0.361064,
     "end_time": "2021-05-19T14:09:01.174641",
     "exception": false,
     "start_time": "2021-05-19T14:09:00.813577",
     "status": "completed"
    },
    "slideshow": {
     "slide_type": "subslide"
    },
    "tags": []
   },
   "outputs": [
    {
     "name": "stdout",
     "output_type": "stream",
     "text": [
      "[15:55:07] WARNING: C:/Users/Administrator/workspace/xgboost-win64_release_1.4.0/src/learner.cc:1095: Starting in XGBoost 1.3.0, the default evaluation metric used with the objective 'binary:logistic' was changed from 'error' to 'logloss'. Explicitly set eval_metric if you'd like to restore the old behavior.\n",
      "Training Accuracy of Decision Tree Classifier is 0.9454253611556982\n",
      "Test Accuracy of Decision Tree Classifier is 0.8246268656716418 \n",
      "\n",
      "Confusion Matrix :- \n",
      "[[147  21]\n",
      " [ 26  74]]\n",
      "\n",
      "Classification Report :- \n",
      "               precision    recall  f1-score   support\n",
      "\n",
      "           0       0.85      0.88      0.86       168\n",
      "           1       0.78      0.74      0.76       100\n",
      "\n",
      "    accuracy                           0.82       268\n",
      "   macro avg       0.81      0.81      0.81       268\n",
      "weighted avg       0.82      0.82      0.82       268\n",
      "\n"
     ]
    }
   ],
   "source": [
    "from xgboost import XGBClassifier\n",
    "\n",
    "xgb = XGBClassifier(booster = 'gbtree', learning_rate = 0.1, max_depth = 5, n_estimators = 180)\n",
    "xgb.fit(X_train, y_train)\n",
    "\n",
    "# accuracy score, confusion matrix and classification report of xgboost\n",
    "\n",
    "xgb_acc = accuracy_score(y_test, xgb.predict(X_test))\n",
    "\n",
    "print(f\"Training Accuracy of Decision Tree Classifier is {accuracy_score(y_train, xgb.predict(X_train))}\")\n",
    "print(f\"Test Accuracy of Decision Tree Classifier is {xgb_acc} \\n\")\n",
    "\n",
    "print(f\"Confusion Matrix :- \\n{confusion_matrix(y_test, xgb.predict(X_test))}\\n\")\n",
    "print(f\"Classification Report :- \\n {classification_report(y_test, xgb.predict(X_test))}\")"
   ]
  },
  {
   "cell_type": "markdown",
   "id": "cross-tourism",
   "metadata": {
    "papermill": {
     "duration": 0.108607,
     "end_time": "2021-05-19T14:09:06.914940",
     "exception": false,
     "start_time": "2021-05-19T14:09:06.806333",
     "status": "completed"
    },
    "slideshow": {
     "slide_type": "slide"
    },
    "tags": []
   },
   "source": [
    "<p style = \"font-size : 35px; color : #532e1c ; font-family : 'Times New Roman'; border-radius: 5px 5px;\"><strong>Model Comparison</strong></p><br/>"
   ]
  },
  {
   "cell_type": "code",
   "execution_count": 164,
   "id": "certain-accessory",
   "metadata": {
    "execution": {
     "iopub.execute_input": "2021-05-19T14:09:07.140641Z",
     "iopub.status.busy": "2021-05-19T14:09:07.140186Z",
     "iopub.status.idle": "2021-05-19T14:09:07.145890Z",
     "shell.execute_reply": "2021-05-19T14:09:07.145469Z"
    },
    "papermill": {
     "duration": 0.122396,
     "end_time": "2021-05-19T14:09:07.146007",
     "exception": false,
     "start_time": "2021-05-19T14:09:07.023611",
     "status": "completed"
    },
    "slideshow": {
     "slide_type": "subslide"
    },
    "tags": []
   },
   "outputs": [
    {
     "data": {
      "text/html": [
       "<div>\n",
       "<style scoped>\n",
       "    .dataframe tbody tr th:only-of-type {\n",
       "        vertical-align: middle;\n",
       "    }\n",
       "\n",
       "    .dataframe tbody tr th {\n",
       "        vertical-align: top;\n",
       "    }\n",
       "\n",
       "    .dataframe thead th {\n",
       "        text-align: right;\n",
       "    }\n",
       "</style>\n",
       "<table border=\"1\" class=\"dataframe\">\n",
       "  <thead>\n",
       "    <tr style=\"text-align: right;\">\n",
       "      <th></th>\n",
       "      <th>Model</th>\n",
       "      <th>Score</th>\n",
       "    </tr>\n",
       "  </thead>\n",
       "  <tbody>\n",
       "    <tr>\n",
       "      <th>2</th>\n",
       "      <td>Stochastic Gradient Boosting</td>\n",
       "      <td>0.843284</td>\n",
       "    </tr>\n",
       "    <tr>\n",
       "      <th>1</th>\n",
       "      <td>Gradient Boosting Classifier</td>\n",
       "      <td>0.835821</td>\n",
       "    </tr>\n",
       "    <tr>\n",
       "      <th>3</th>\n",
       "      <td>XgBoost</td>\n",
       "      <td>0.824627</td>\n",
       "    </tr>\n",
       "    <tr>\n",
       "      <th>0</th>\n",
       "      <td>Logistic Regression</td>\n",
       "      <td>0.817164</td>\n",
       "    </tr>\n",
       "  </tbody>\n",
       "</table>\n",
       "</div>"
      ],
      "text/plain": [
       "                          Model     Score\n",
       "2  Stochastic Gradient Boosting  0.843284\n",
       "1  Gradient Boosting Classifier  0.835821\n",
       "3                       XgBoost  0.824627\n",
       "0           Logistic Regression  0.817164"
      ]
     },
     "execution_count": 164,
     "metadata": {},
     "output_type": "execute_result"
    }
   ],
   "source": [
    "models = pd.DataFrame({\n",
    "    'Model' : ['Logistic Regression', 'Gradient Boosting Classifier', 'Stochastic Gradient Boosting', 'XgBoost'], \n",
    "    'Score' : [lr_acc,gb_acc, sgb_acc, xgb_acc]\n",
    "})\n",
    "\n",
    "\n",
    "models.sort_values(by = 'Score', ascending = False)"
   ]
  },
  {
   "cell_type": "code",
   "execution_count": 165,
   "id": "optimum-handling",
   "metadata": {
    "execution": {
     "iopub.execute_input": "2021-05-19T14:09:07.379088Z",
     "iopub.status.busy": "2021-05-19T14:09:07.378391Z",
     "iopub.status.idle": "2021-05-19T14:09:07.625087Z",
     "shell.execute_reply": "2021-05-19T14:09:07.624605Z"
    },
    "papermill": {
     "duration": 0.366988,
     "end_time": "2021-05-19T14:09:07.625188",
     "exception": false,
     "start_time": "2021-05-19T14:09:07.258200",
     "status": "completed"
    },
    "slideshow": {
     "slide_type": "subslide"
    },
    "tags": []
   },
   "outputs": [
    {
     "data": {
      "image/png": "[encoded data removed]",
      "text/plain": [
       "<Figure size 1080x720 with 1 Axes>"
      ]
     },
     "metadata": {},
     "output_type": "display_data"
    }
   ],
   "source": [
    "plt.figure(figsize = (15, 10))\n",
    "\n",
    "sns.barplot(x = 'Score', y = 'Model', data = models)\n",
    "plt.show()"
   ]
  },
  {
   "cell_type": "markdown",
   "id": "executive-implement",
   "metadata": {
    "papermill": {
     "duration": 0.166379,
     "end_time": "2021-05-19T14:09:08.207799",
     "exception": false,
     "start_time": "2021-05-19T14:09:08.041420",
     "status": "completed"
    },
    "slideshow": {
     "slide_type": "slide"
    },
    "tags": []
   },
   "source": [
    "<p style = \"font-size : 35px; color : #532e1c ; font-family : 'Times New Roman'; border-radius: 5px 5px;\"><strong>Real Data Model Inference</strong></p><br/>"
   ]
  },
  {
   "cell_type": "code",
   "execution_count": 166,
   "id": "277219f8",
   "metadata": {
    "slideshow": {
     "slide_type": "subslide"
    }
   },
   "outputs": [],
   "source": [
    "pred_class = {0: 'Not Survived', 1: 'Survived'}\n",
    "def predict(test_input, test_target):\n",
    "    final_results = sgb.predict([test_input])\n",
    "    test_input['Age'] = np.exp(test_input['Age'])\n",
    "    test_input['Fare'] = np.exp(test_input['Fare'])\n",
    "    print(f\"Features:\\n{test_input}\\n\\nClassifier prediction: {pred_class[final_results.item()]}\\nActual Target: {pred_class[test_target]}\")"
   ]
  },
  {
   "cell_type": "code",
   "execution_count": 167,
   "id": "5f5011eb",
   "metadata": {
    "slideshow": {
     "slide_type": "subslide"
    }
   },
   "outputs": [
    {
     "name": "stdout",
     "output_type": "stream",
     "text": [
      "Features:\n",
      "Pclass       3.00\n",
      "Sex          1.00\n",
      "Age         22.00\n",
      "SibSp        1.00\n",
      "Parch        0.00\n",
      "Fare         7.25\n",
      "Embarked     0.00\n",
      "Name: 0, dtype: float64\n",
      "\n",
      "Classifier prediction: Not Survived\n",
      "Actual Target: Not Survived\n"
     ]
    }
   ],
   "source": [
    "test_input = X.iloc[0,:]\n",
    "test_target = y.iloc[0]\n",
    "predict(test_input, test_target)"
   ]
  },
  {
   "cell_type": "code",
   "execution_count": 168,
   "id": "9d34da40",
   "metadata": {
    "slideshow": {
     "slide_type": "subslide"
    }
   },
   "outputs": [
    {
     "name": "stdout",
     "output_type": "stream",
     "text": [
      "Features:\n",
      "Pclass       1.0000\n",
      "Sex          0.0000\n",
      "Age         38.0000\n",
      "SibSp        1.0000\n",
      "Parch        0.0000\n",
      "Fare        71.2833\n",
      "Embarked     1.0000\n",
      "Name: 1, dtype: float64\n",
      "\n",
      "Classifier prediction: Survived\n",
      "Actual Target: Survived\n"
     ]
    }
   ],
   "source": [
    "test_input = X.iloc[1,:]\n",
    "test_target = y.iloc[1]\n",
    "predict(test_input, test_target)"
   ]
  },
  {
   "cell_type": "markdown",
   "id": "006866b9",
   "metadata": {
    "slideshow": {
     "slide_type": "slide"
    }
   },
   "source": [
    "<p style = \"font-size : 45px; color : #532e1c ; font-family : 'Times New Roman'; border-radius: 5px 5px;\"><strong>4.5 Approaching a Text (NLP) Problem</strong></p><br/><br/>\n",
    "\n",
    "<img style=\"float: center; height:55%; width:100%\" src = https://i.imgur.com/Ze9z6x5.png>\n",
    "credits: https://aliz.ai/"
   ]
  },
  {
   "cell_type": "markdown",
   "id": "ebdbe034",
   "metadata": {},
   "source": [
    "## 4.2\n",
    "## 4.3\n",
    "## 4.4"
   ]
  },
  {
   "cell_type": "markdown",
   "id": "4ec1df71",
   "metadata": {
    "slideshow": {
     "slide_type": "slide"
    }
   },
   "source": [
    "<p style = \"font-size : 25px; color : #532e1c ; font-family : 'Times New Roman'; border-radius: 5px 5px;\"><strong>4.5 Approaching real life NLP problem</strong></p><br/>\n",
    "\n",
    "<p style = \"font-size : 25px; color : #532e1c ; font-family : 'Times New Roman'; border-radius: 5px 5px;\"><strong>Intro to Twitter Tweets Preprocessing using Python</strong></p>\n",
    "\n",
    "<img style=\"float: center; height:55%; width:100%\" src = https://i.imgur.com/lOldQtx.jpg>\n"
   ]
  },
  {
   "cell_type": "markdown",
   "id": "2b2caa89",
   "metadata": {
    "slideshow": {
     "slide_type": "subslide"
    }
   },
   "source": [
    "<p style = \"font-size : 35px; color : #532e1c ; font-family : 'Times New Roman'; border-radius: 5px 5px;\"><strong>Problem Statment</strong></p><br/>\n",
    "\n",
    "<p style = \"font-size : 26px; color : #00000 ; font-family : 'Times New Roman';\">With all of the tweets circulating every second it is hard to tell whether the sentiment behind a specific tweet will impact a company, or a person's, brand for being viral (positive), or devastate profit because it strikes a negative tone. Capturing sentiment in language is important in these times where decisions and reactions are created and updated in seconds. In order to get the sentiments out of tweets they need to by processed to tweaked in ways so that it could be fed into a algorithm to perform to sentiment inference. So we will take a look at pythonic approach of processing tweets<br/><br/>In this competition, you’re challenged to build a machine learning model that predicts which Tweets are about real disasters and which one’s aren’t.</strong></p>"
   ]
  },
  {
   "cell_type": "code",
   "execution_count": 11,
   "id": "41075983",
   "metadata": {
    "slideshow": {
     "slide_type": "slide"
    }
   },
   "outputs": [],
   "source": [
    "import pandas as pd\n",
    "import matplotlib.pyplot as plt\n",
    "import seaborn as sns\n",
    "import numpy as np\n",
    "from nltk.corpus import stopwords\n",
    "from nltk.util import ngrams\n",
    "from sklearn.feature_extraction.text import CountVectorizer\n",
    "from collections import defaultdict\n",
    "from collections import  Counter\n",
    "plt.style.use('ggplot')\n",
    "stop=set(stopwords.words('english'))\n",
    "import re\n",
    "from nltk.tokenize import word_tokenize\n",
    "import gensim\n",
    "import string\n",
    "from tqdm import tqdm\n"
   ]
  },
  {
   "cell_type": "code",
   "execution_count": 5,
   "id": "7e030a21",
   "metadata": {
    "slideshow": {
     "slide_type": "slide"
    }
   },
   "outputs": [],
   "source": [
    "tweet=pd.read_csv(\"./inputs/nlp/train.csv\")\n",
    "test=pd.read_csv(\"./inputs/nlp/test.csv\")"
   ]
  },
  {
   "cell_type": "code",
   "execution_count": 6,
   "id": "784f9a32",
   "metadata": {
    "slideshow": {
     "slide_type": "slide"
    }
   },
   "outputs": [
    {
     "data": {
      "text/html": [
       "<div>\n",
       "<style scoped>\n",
       "    .dataframe tbody tr th:only-of-type {\n",
       "        vertical-align: middle;\n",
       "    }\n",
       "\n",
       "    .dataframe tbody tr th {\n",
       "        vertical-align: top;\n",
       "    }\n",
       "\n",
       "    .dataframe thead th {\n",
       "        text-align: right;\n",
       "    }\n",
       "</style>\n",
       "<table border=\"1\" class=\"dataframe\">\n",
       "  <thead>\n",
       "    <tr style=\"text-align: right;\">\n",
       "      <th></th>\n",
       "      <th>id</th>\n",
       "      <th>keyword</th>\n",
       "      <th>location</th>\n",
       "      <th>text</th>\n",
       "      <th>target</th>\n",
       "    </tr>\n",
       "  </thead>\n",
       "  <tbody>\n",
       "    <tr>\n",
       "      <th>0</th>\n",
       "      <td>1</td>\n",
       "      <td>NaN</td>\n",
       "      <td>NaN</td>\n",
       "      <td>Our Deeds are the Reason of this #earthquake M...</td>\n",
       "      <td>1</td>\n",
       "    </tr>\n",
       "    <tr>\n",
       "      <th>1</th>\n",
       "      <td>4</td>\n",
       "      <td>NaN</td>\n",
       "      <td>NaN</td>\n",
       "      <td>Forest fire near La Ronge Sask. Canada</td>\n",
       "      <td>1</td>\n",
       "    </tr>\n",
       "    <tr>\n",
       "      <th>2</th>\n",
       "      <td>5</td>\n",
       "      <td>NaN</td>\n",
       "      <td>NaN</td>\n",
       "      <td>All residents asked to 'shelter in place' are ...</td>\n",
       "      <td>1</td>\n",
       "    </tr>\n",
       "  </tbody>\n",
       "</table>\n",
       "</div>"
      ],
      "text/plain": [
       "   id keyword location                                               text  \\\n",
       "0   1     NaN      NaN  Our Deeds are the Reason of this #earthquake M...   \n",
       "1   4     NaN      NaN             Forest fire near La Ronge Sask. Canada   \n",
       "2   5     NaN      NaN  All residents asked to 'shelter in place' are ...   \n",
       "\n",
       "   target  \n",
       "0       1  \n",
       "1       1  \n",
       "2       1  "
      ]
     },
     "execution_count": 6,
     "metadata": {},
     "output_type": "execute_result"
    }
   ],
   "source": [
    "tweet.head(3)"
   ]
  },
  {
   "cell_type": "code",
   "execution_count": 18,
   "id": "927e46dc",
   "metadata": {
    "slideshow": {
     "slide_type": "slide"
    }
   },
   "outputs": [
    {
     "name": "stdout",
     "output_type": "stream",
     "text": [
      "There are 7613 rows and 5 columns in train\n",
      "There are 3263 rows and 4 columns in train\n"
     ]
    }
   ],
   "source": [
    "print('There are {} rows and {} columns in train'.format(tweet.shape[0],tweet.shape[1]))\n",
    "print('There are {} rows and {} columns in train'.format(test.shape[0],test.shape[1]))\n"
   ]
  },
  {
   "cell_type": "markdown",
   "id": "5c3b6dd1",
   "metadata": {
    "slideshow": {
     "slide_type": "slide"
    }
   },
   "source": [
    "#### Class distribution\n",
    "\n",
    "Before we begin with anything else,let's check the class distribution.There are only two classes 0 and 1.\n"
   ]
  },
  {
   "cell_type": "code",
   "execution_count": 19,
   "id": "f369049e",
   "metadata": {
    "slideshow": {
     "slide_type": "subslide"
    }
   },
   "outputs": [
    {
     "name": "stderr",
     "output_type": "stream",
     "text": [
      "D:\\ANACONDA\\lib\\site-packages\\seaborn\\_decorators.py:36: FutureWarning:\n",
      "\n",
      "Pass the following variables as keyword args: x, y. From version 0.12, the only valid positional argument will be `data`, and passing other arguments without an explicit keyword will result in an error or misinterpretation.\n",
      "\n"
     ]
    },
    {
     "data": {
      "text/plain": [
       "Text(0, 0.5, 'samples')"
      ]
     },
     "execution_count": 19,
     "metadata": {},
     "output_type": "execute_result"
    },
    {
     "data": {
      "image/png": "[encoded data removed]",
      "text/plain": [
       "<Figure size 432x288 with 1 Axes>"
      ]
     },
     "metadata": {},
     "output_type": "display_data"
    }
   ],
   "source": [
    "x=tweet.target.value_counts()\n",
    "sns.barplot(x.index,x)\n",
    "plt.gca().set_ylabel('samples')"
   ]
  },
  {
   "cell_type": "markdown",
   "id": "a5dfef16",
   "metadata": {
    "slideshow": {
     "slide_type": "slide"
    }
   },
   "source": [
    "<p style = \"font-size : 35px; color : #532e1c ; font-family : 'Times New Roman'; border-radius: 5px 5px;\"><strong>Exploratory Data Analysis (EDA)</strong></p><br/>"
   ]
  },
  {
   "cell_type": "code",
   "execution_count": 21,
   "id": "e9f68ec8",
   "metadata": {},
   "outputs": [
    {
     "data": {
      "image/png": "[encoded data removed]",
      "text/plain": [
       "<Figure size 720x360 with 2 Axes>"
      ]
     },
     "metadata": {},
     "output_type": "display_data"
    },
    {
     "name": "stdout",
     "output_type": "stream",
     "text": [
      "The distribution of both seems to be almost same.120 t0 140 characters in a tweet are the most common among both.\n"
     ]
    }
   ],
   "source": [
    "#First,we will do very basic analysis,that is character level,word level and sentence level analysis.\n",
    "\n",
    "\n",
    "fig,(ax1,ax2)=plt.subplots(1,2,figsize=(10,5))\n",
    "tweet_len=tweet[tweet['target']==1]['text'].str.len()\n",
    "ax1.hist(tweet_len,color='red')\n",
    "ax1.set_title('disaster tweets')\n",
    "tweet_len=tweet[tweet['target']==0]['text'].str.len()\n",
    "ax2.hist(tweet_len,color='green')\n",
    "ax2.set_title('Not disaster tweets')\n",
    "fig.suptitle('Characters in tweets')\n",
    "plt.show()\n",
    "\n",
    "print(\"The distribution of both seems to be almost same.120 t0 140 characters in a tweet are the most common among both.\")"
   ]
  },
  {
   "cell_type": "code",
   "execution_count": 28,
   "id": "15e192cb",
   "metadata": {},
   "outputs": [
    {
     "data": {
      "image/png": "[encoded data removed]",
      "text/plain": [
       "<Figure size 720x360 with 2 Axes>"
      ]
     },
     "metadata": {},
     "output_type": "display_data"
    },
    {
     "name": "stdout",
     "output_type": "stream",
     "text": [
      "Most of disaster tweets are around between 10 -20 word counts\n",
      "and Non disaster tweet areound 15 to 20\n"
     ]
    }
   ],
   "source": [
    "# Number of words in tweet\n",
    "fig,(ax1,ax2)=plt.subplots(1,2,figsize=(10,5))\n",
    "tweet_len=tweet[tweet['target']==1]['text'].str.split().map(lambda x: len(x))\n",
    "ax1.hist(tweet_len,color='red')\n",
    "ax1.set_title('disaster tweets')\n",
    "tweet_len=tweet[tweet['target']==0]['text'].str.split().map(lambda x: len(x))\n",
    "ax2.hist(tweet_len,color='green')\n",
    "ax2.set_title('Not disaster tweets')\n",
    "fig.suptitle('Words in a tweet')\n",
    "plt.show()\n",
    "\n",
    "print(\"Most of disaster tweets are around between 10 -20 word counts\\nand Non disaster tweet areound 15 to 20\")"
   ]
  },
  {
   "cell_type": "code",
   "execution_count": 23,
   "id": "2ae980eb",
   "metadata": {},
   "outputs": [
    {
     "name": "stderr",
     "output_type": "stream",
     "text": [
      "D:\\ANACONDA\\lib\\site-packages\\seaborn\\distributions.py:2557: FutureWarning:\n",
      "\n",
      "`distplot` is a deprecated function and will be removed in a future version. Please adapt your code to use either `displot` (a figure-level function with similar flexibility) or `histplot` (an axes-level function for histograms).\n",
      "\n",
      "D:\\ANACONDA\\lib\\site-packages\\seaborn\\distributions.py:2557: FutureWarning:\n",
      "\n",
      "`distplot` is a deprecated function and will be removed in a future version. Please adapt your code to use either `displot` (a figure-level function with similar flexibility) or `histplot` (an axes-level function for histograms).\n",
      "\n"
     ]
    },
    {
     "data": {
      "text/plain": [
       "Text(0.5, 0.98, 'Average word length in each tweet')"
      ]
     },
     "execution_count": 23,
     "metadata": {},
     "output_type": "execute_result"
    },
    {
     "data": {
      "image/png": "[encoded data removed]",
      "text/plain": [
       "<Figure size 720x360 with 2 Axes>"
      ]
     },
     "metadata": {},
     "output_type": "display_data"
    }
   ],
   "source": [
    "# Average word length in a tweet\n",
    "\n",
    "fig,(ax1,ax2)=plt.subplots(1,2,figsize=(10,5))\n",
    "word=tweet[tweet['target']==1]['text'].str.split().apply(lambda x : [len(i) for i in x])\n",
    "sns.distplot(word.map(lambda x: np.mean(x)),ax=ax1,color='red')\n",
    "ax1.set_title('disaster')\n",
    "word=tweet[tweet['target']==0]['text'].str.split().apply(lambda x : [len(i) for i in x])\n",
    "sns.distplot(word.map(lambda x: np.mean(x)),ax=ax2,color='green')\n",
    "ax2.set_title('Not disaster')\n",
    "fig.suptitle('Average word length in each tweet')\n",
    "\n",
    "print(\"\")"
   ]
  },
  {
   "cell_type": "markdown",
   "id": "a26f0c7c",
   "metadata": {},
   "source": [
    "<p style = \"font-size : 35px; color : #532e1c ; font-family : 'Times New Roman'; border-radius: 5px 5px;\"><strong>Creating Corpus</strong></p><br/>\n",
    "\n",
    "Corpus - Collection of text\n",
    "To perform further EDA we need corpus "
   ]
  },
  {
   "cell_type": "code",
   "execution_count": 33,
   "id": "7fa39f5c",
   "metadata": {},
   "outputs": [],
   "source": [
    "#creating text corpus based on target\n",
    "#corpus of Disaster vs Non Disaster Tweet\n",
    "\n",
    "def build_corpus(target):\n",
    "    corpus=[]\n",
    "    \n",
    "    for x in tweet[tweet['target']==target]['text'].str.split():\n",
    "        for i in x:\n",
    "            corpus.append(i)\n",
    "    return corpus"
   ]
  },
  {
   "cell_type": "code",
   "execution_count": 35,
   "id": "143d08ef",
   "metadata": {},
   "outputs": [],
   "source": [
    "#creating corpus based of Non Disaster Tweet\n",
    "corpus=build_corpus(0)\n",
    "\n",
    "#build dicr based on NoN disaster tweet\n",
    "dic=defaultdict(int)\n",
    "for word in corpus:\n",
    "    if word in stop:\n",
    "        dic[word]+=1\n",
    "        \n",
    "#choosing top tweets\n",
    "top=sorted(dic.items(), key=lambda x:x[1],reverse=True)[:10] "
   ]
  },
  {
   "cell_type": "code",
   "execution_count": 37,
   "id": "443c251d",
   "metadata": {},
   "outputs": [
    {
     "data": {
      "image/png": "[encoded data removed]",
      "text/plain": [
       "<Figure size 432x288 with 1 Axes>"
      ]
     },
     "metadata": {},
     "output_type": "display_data"
    }
   ],
   "source": [
    "x,y = zip(*top)\n",
    "plt.bar(x, y);"
   ]
  },
  {
   "cell_type": "code",
   "execution_count": 41,
   "id": "f776c8cf",
   "metadata": {},
   "outputs": [
    {
     "data": {
      "image/png": "[encoded data removed]",
      "text/plain": [
       "<Figure size 432x288 with 1 Axes>"
      ]
     },
     "metadata": {},
     "output_type": "display_data"
    },
    {
     "name": "stdout",
     "output_type": "stream",
     "text": [
      "Words like 'the','in','of' dominates, but these words have not much meaning or prediction capabilities\n"
     ]
    }
   ],
   "source": [
    "#creating the same for Diaster Tweet\n",
    "corpus=build_corpus(1)\n",
    "\n",
    "dic=defaultdict(int)\n",
    "for word in corpus:\n",
    "    if word in stop:\n",
    "        dic[word]+=1\n",
    "        \n",
    "top=sorted(dic.items(), key=lambda x:x[1],reverse=True)[:10] \n",
    "    \n",
    "x,y=zip(*top)\n",
    "plt.bar(x,y)\n",
    "plt.show()\n",
    "\n",
    "print(\"Words like 'the','in','of' dominates, but these words have not much meaning or prediction capabilities\")"
   ]
  },
  {
   "cell_type": "code",
   "execution_count": 45,
   "id": "349c8bd4",
   "metadata": {},
   "outputs": [
    {
     "data": {
      "image/png": "[encoded data removed]",
      "text/plain": [
       "<Figure size 720x360 with 1 Axes>"
      ]
     },
     "metadata": {},
     "output_type": "display_data"
    }
   ],
   "source": [
    "#Analysing punctuations for Disaster Tweets\n",
    "\n",
    "plt.figure(figsize=(10,5))\n",
    "corpus=build_corpus(1)\n",
    "\n",
    "dic=defaultdict(int)\n",
    "import string\n",
    "special = string.punctuation\n",
    "for i in (corpus):\n",
    "    if i in special:\n",
    "        dic[i]+=1\n",
    "        \n",
    "x,y=zip(*dic.items())\n",
    "plt.title(\"Analysing punctuations for Disaster Tweets\")\n",
    "plt.bar(x,y,color='orange');\n"
   ]
  },
  {
   "cell_type": "code",
   "execution_count": 44,
   "id": "e954149c",
   "metadata": {},
   "outputs": [
    {
     "data": {
      "image/png": "[encoded data removed]",
      "text/plain": [
       "<Figure size 720x360 with 1 Axes>"
      ]
     },
     "metadata": {},
     "output_type": "display_data"
    }
   ],
   "source": [
    "#Analysing punctuations for Non-Disaster Tweets\n",
    "\n",
    "plt.figure(figsize=(10,5))\n",
    "corpus=build_corpus(0)\n",
    "\n",
    "dic=defaultdict(int)\n",
    "import string\n",
    "special = string.punctuation\n",
    "for i in (corpus):\n",
    "    if i in special:\n",
    "        dic[i]+=1\n",
    "        \n",
    "x,y=zip(*dic.items())\n",
    "plt.title(\"Analysing punctuations for Non-Disaster Tweets\")\n",
    "plt.bar(x,y,color='red');"
   ]
  },
  {
   "cell_type": "code",
   "execution_count": 55,
   "id": "1c946180",
   "metadata": {
    "slideshow": {
     "slide_type": "slide"
    }
   },
   "outputs": [
    {
     "data": {
      "image/png": "[encoded data removed]",
      "text/plain": [
       "<Figure size 432x288 with 1 Axes>"
      ]
     },
     "metadata": {},
     "output_type": "display_data"
    }
   ],
   "source": [
    "complete_corpus = []\n",
    "complete_corpus.extend(build_corpus(0))\n",
    "complete_corpus.extend(build_corpus(1))\n",
    "counter=Counter(corpus)\n",
    "most=counter.most_common()\n",
    "x=[]\n",
    "y=[]\n",
    "for word,count in most[:40]:\n",
    "    if (word not in stop) :\n",
    "        x.append(word)\n",
    "        y.append(count)\n",
    "sns.barplot(x=y,y=x).set_title(\"Complete corpus common words\")\n",
    "plt.show()"
   ]
  },
  {
   "cell_type": "markdown",
   "id": "7f68c536",
   "metadata": {
    "slideshow": {
     "slide_type": "slide"
    }
   },
   "source": [
    "<p style = \"font-size : 35px; color : #532e1c ; font-family : 'Times New Roman'; border-radius: 5px 5px;\"><strong>n-gram Analysis</strong></p><br/>\n",
    "\n",
    "We can perform Bigram and Trigram analysis on this data to understand two and three word combinations"
   ]
  },
  {
   "cell_type": "code",
   "execution_count": 171,
   "id": "94e5b1c0",
   "metadata": {
    "slideshow": {
     "slide_type": "subslide"
    }
   },
   "outputs": [],
   "source": [
    "def get_top_tweet_bigrams(corpus, gram=2, n=None):\n",
    "    vec = CountVectorizer(ngram_range=(gram, gram)).fit(corpus)\n",
    "    bag_of_words = vec.transform(corpus)\n",
    "    sum_words = bag_of_words.sum(axis=0) \n",
    "    words_freq = [(word, sum_words[0, idx]) for word, idx in vec.vocabulary_.items()]\n",
    "    words_freq =sorted(words_freq, key = lambda x: x[1], reverse=True)\n",
    "    return words_freq[:n]"
   ]
  },
  {
   "cell_type": "code",
   "execution_count": 172,
   "id": "ad2b33c9",
   "metadata": {
    "slideshow": {
     "slide_type": "slide"
    }
   },
   "outputs": [
    {
     "data": {
      "image/png": "[encoded data removed]",
      "text/plain": [
       "<Figure size 720x360 with 1 Axes>"
      ]
     },
     "metadata": {},
     "output_type": "display_data"
    }
   ],
   "source": [
    "plt.figure(figsize=(10,5))\n",
    "top_tweet_bigrams=get_top_tweet_bigrams(tweet['text'], gram=2)[:10]\n",
    "x,y=map(list,zip(*top_tweet_bigrams))\n",
    "sns.barplot(x=y,y=x).set_title(\"Common Bigram Count\")\n",
    "plt.show()"
   ]
  },
  {
   "cell_type": "code",
   "execution_count": 173,
   "id": "ddcd245e",
   "metadata": {
    "slideshow": {
     "slide_type": "slide"
    }
   },
   "outputs": [
    {
     "data": {
      "image/png": "[encoded data removed]",
      "text/plain": [
       "<Figure size 720x360 with 1 Axes>"
      ]
     },
     "metadata": {},
     "output_type": "display_data"
    }
   ],
   "source": [
    "plt.figure(figsize=(10,5))\n",
    "top_tweet_trigrams=get_top_tweet_bigrams(tweet['text'], gram=3)[:10]\n",
    "x,y=map(list,zip(*top_tweet_trigrams))\n",
    "sns.barplot(x=y,y=x).set_title(\"Common Trigram Count\")\n",
    "plt.show()"
   ]
  },
  {
   "cell_type": "markdown",
   "id": "7c7f5e82",
   "metadata": {
    "slideshow": {
     "slide_type": "slide"
    }
   },
   "source": [
    "### The above bigrams and trigrams clear shows there is a lot of noise in the data. So we need to clean our data"
   ]
  },
  {
   "cell_type": "markdown",
   "id": "4199317e",
   "metadata": {
    "slideshow": {
     "slide_type": "slide"
    }
   },
   "source": [
    "<p style = \"font-size : 35px; color : #532e1c ; font-family : 'Times New Roman'; \"><strong>Data Cleaning</strong></p>\n",
    "\n",
    "Raw twitter data contains a lot of noise like stopwords, irrelavant punctuations, emojis ..etc which could kill its prediction capabilities whil vectroizing them. So lets clean it"
   ]
  },
  {
   "cell_type": "code",
   "execution_count": 71,
   "id": "d91d7534",
   "metadata": {
    "slideshow": {
     "slide_type": "slide"
    }
   },
   "outputs": [
    {
     "data": {
      "text/plain": [
       "(10876, 5)"
      ]
     },
     "execution_count": 71,
     "metadata": {},
     "output_type": "execute_result"
    }
   ],
   "source": [
    "df=pd.concat([tweet,test])\n",
    "df.shape"
   ]
  },
  {
   "cell_type": "markdown",
   "id": "22b2f525",
   "metadata": {
    "slideshow": {
     "slide_type": "slide"
    }
   },
   "source": [
    "<p style = \"font-size : 35px; color : #532e1c ; font-family : 'Times New Roman'; \"><strong>Removing URL</strong></p>"
   ]
  },
  {
   "cell_type": "code",
   "execution_count": 72,
   "id": "3ab272e6",
   "metadata": {
    "slideshow": {
     "slide_type": "subslide"
    }
   },
   "outputs": [
    {
     "data": {
      "text/plain": [
       "'please find the titanic project at '"
      ]
     },
     "execution_count": 72,
     "metadata": {},
     "output_type": "execute_result"
    }
   ],
   "source": [
    "#remove URL\n",
    "def remove_URL(text):\n",
    "    url = re.compile(r'https?://\\S+|www\\.\\S+')\n",
    "    return url.sub(r'',text)\n",
    "\n",
    "sample_URL = \"please find the titanic project at https://www.kaggle.com/c/titanic/overview\"\n",
    "remove_URL(sample_URL)"
   ]
  },
  {
   "cell_type": "code",
   "execution_count": 73,
   "id": "1a77ce09",
   "metadata": {
    "slideshow": {
     "slide_type": "subslide"
    }
   },
   "outputs": [],
   "source": [
    "#Apply the cleaning process\n",
    "df['text']=df['text'].apply(lambda x : remove_URL(x))"
   ]
  },
  {
   "cell_type": "code",
   "execution_count": 75,
   "id": "0df25952",
   "metadata": {
    "slideshow": {
     "slide_type": "subslide"
    }
   },
   "outputs": [
    {
     "data": {
      "text/html": [
       "<div>\n",
       "<style scoped>\n",
       "    .dataframe tbody tr th:only-of-type {\n",
       "        vertical-align: middle;\n",
       "    }\n",
       "\n",
       "    .dataframe tbody tr th {\n",
       "        vertical-align: top;\n",
       "    }\n",
       "\n",
       "    .dataframe thead th {\n",
       "        text-align: right;\n",
       "    }\n",
       "</style>\n",
       "<table border=\"1\" class=\"dataframe\">\n",
       "  <thead>\n",
       "    <tr style=\"text-align: right;\">\n",
       "      <th></th>\n",
       "      <th>text</th>\n",
       "      <th>target</th>\n",
       "    </tr>\n",
       "  </thead>\n",
       "  <tbody>\n",
       "    <tr>\n",
       "      <th>0</th>\n",
       "      <td>Our Deeds are the Reason of this #earthquake M...</td>\n",
       "      <td>1.0</td>\n",
       "    </tr>\n",
       "    <tr>\n",
       "      <th>1</th>\n",
       "      <td>Forest fire near La Ronge Sask. Canada</td>\n",
       "      <td>1.0</td>\n",
       "    </tr>\n",
       "    <tr>\n",
       "      <th>2</th>\n",
       "      <td>All residents asked to 'shelter in place' are ...</td>\n",
       "      <td>1.0</td>\n",
       "    </tr>\n",
       "    <tr>\n",
       "      <th>3</th>\n",
       "      <td>13,000 people receive #wildfires evacuation or...</td>\n",
       "      <td>1.0</td>\n",
       "    </tr>\n",
       "    <tr>\n",
       "      <th>4</th>\n",
       "      <td>Just got sent this photo from Ruby #Alaska as ...</td>\n",
       "      <td>1.0</td>\n",
       "    </tr>\n",
       "  </tbody>\n",
       "</table>\n",
       "</div>"
      ],
      "text/plain": [
       "                                                text  target\n",
       "0  Our Deeds are the Reason of this #earthquake M...     1.0\n",
       "1             Forest fire near La Ronge Sask. Canada     1.0\n",
       "2  All residents asked to 'shelter in place' are ...     1.0\n",
       "3  13,000 people receive #wildfires evacuation or...     1.0\n",
       "4  Just got sent this photo from Ruby #Alaska as ...     1.0"
      ]
     },
     "execution_count": 75,
     "metadata": {},
     "output_type": "execute_result"
    }
   ],
   "source": [
    "df[['text','target']].head()"
   ]
  },
  {
   "cell_type": "markdown",
   "id": "3d530aa8",
   "metadata": {
    "slideshow": {
     "slide_type": "slide"
    }
   },
   "source": [
    "<p style = \"font-size : 35px; color : #532e1c ; font-family : 'Times New Roman'; \"><strong>Removing HTML</strong></p>"
   ]
  },
  {
   "cell_type": "code",
   "execution_count": 76,
   "id": "90cb2b2b",
   "metadata": {
    "slideshow": {
     "slide_type": "subslide"
    }
   },
   "outputs": [],
   "source": [
    "#remove html\n",
    "def remove_html(text):\n",
    "    html=re.compile(r'<.*?>')\n",
    "    return html.sub(r'',text)"
   ]
  },
  {
   "cell_type": "code",
   "execution_count": 77,
   "id": "a2188b79",
   "metadata": {
    "slideshow": {
     "slide_type": "subslide"
    }
   },
   "outputs": [
    {
     "name": "stdout",
     "output_type": "stream",
     "text": [
      "\n",
      "\n",
      "\n",
      "Welcome to HTML\n",
      "kaggle\n",
      "test paragraph\n",
      "\n",
      "\n",
      "\n"
     ]
    }
   ],
   "source": [
    "sample_HTML = '''\n",
    "<html>\n",
    "<div>\n",
    "<h1>Welcome to HTML</h>\n",
    "<a href=\"https://www.kaggle.com/c/titanic/overview\">kaggle</a>\n",
    "<p>test paragraph</p>\n",
    "</div>\n",
    "</html>\n",
    "'''\n",
    "print(remove_html(sample_HTML))"
   ]
  },
  {
   "cell_type": "code",
   "execution_count": 78,
   "id": "c9ef8c65",
   "metadata": {
    "slideshow": {
     "slide_type": "subslide"
    }
   },
   "outputs": [
    {
     "data": {
      "text/html": [
       "<div>\n",
       "<style scoped>\n",
       "    .dataframe tbody tr th:only-of-type {\n",
       "        vertical-align: middle;\n",
       "    }\n",
       "\n",
       "    .dataframe tbody tr th {\n",
       "        vertical-align: top;\n",
       "    }\n",
       "\n",
       "    .dataframe thead th {\n",
       "        text-align: right;\n",
       "    }\n",
       "</style>\n",
       "<table border=\"1\" class=\"dataframe\">\n",
       "  <thead>\n",
       "    <tr style=\"text-align: right;\">\n",
       "      <th></th>\n",
       "      <th>text</th>\n",
       "      <th>target</th>\n",
       "    </tr>\n",
       "  </thead>\n",
       "  <tbody>\n",
       "    <tr>\n",
       "      <th>0</th>\n",
       "      <td>Our Deeds are the Reason of this #earthquake M...</td>\n",
       "      <td>1.0</td>\n",
       "    </tr>\n",
       "    <tr>\n",
       "      <th>1</th>\n",
       "      <td>Forest fire near La Ronge Sask. Canada</td>\n",
       "      <td>1.0</td>\n",
       "    </tr>\n",
       "    <tr>\n",
       "      <th>2</th>\n",
       "      <td>All residents asked to 'shelter in place' are ...</td>\n",
       "      <td>1.0</td>\n",
       "    </tr>\n",
       "    <tr>\n",
       "      <th>3</th>\n",
       "      <td>13,000 people receive #wildfires evacuation or...</td>\n",
       "      <td>1.0</td>\n",
       "    </tr>\n",
       "    <tr>\n",
       "      <th>4</th>\n",
       "      <td>Just got sent this photo from Ruby #Alaska as ...</td>\n",
       "      <td>1.0</td>\n",
       "    </tr>\n",
       "  </tbody>\n",
       "</table>\n",
       "</div>"
      ],
      "text/plain": [
       "                                                text  target\n",
       "0  Our Deeds are the Reason of this #earthquake M...     1.0\n",
       "1             Forest fire near La Ronge Sask. Canada     1.0\n",
       "2  All residents asked to 'shelter in place' are ...     1.0\n",
       "3  13,000 people receive #wildfires evacuation or...     1.0\n",
       "4  Just got sent this photo from Ruby #Alaska as ...     1.0"
      ]
     },
     "execution_count": 78,
     "metadata": {},
     "output_type": "execute_result"
    }
   ],
   "source": [
    "df['text']=df['text'].apply(lambda x : remove_html(x))\n",
    "df[['text','target']].head()"
   ]
  },
  {
   "cell_type": "markdown",
   "id": "e7e0769b",
   "metadata": {
    "slideshow": {
     "slide_type": "slide"
    }
   },
   "source": [
    "<p style = \"font-size : 35px; color : #532e1c ; font-family : 'Times New Roman'; \"><strong>Removing Emojis 😔</strong></p>\n",
    "\n",
    "Emoji's have great prediction capabilities but they need to be encoded to some numeric problem, Lets just remove it for simplicity sake"
   ]
  },
  {
   "cell_type": "code",
   "execution_count": 79,
   "id": "5a4ebe7d",
   "metadata": {
    "slideshow": {
     "slide_type": "subslide"
    }
   },
   "outputs": [],
   "source": [
    "def remove_emoji(text):\n",
    "    emoji_pattern = re.compile(\"[\"\n",
    "                           u\"\\U0001F600-\\U0001F64F\"  # emoticons\n",
    "                           u\"\\U0001F300-\\U0001F5FF\"  # symbols & pictographs\n",
    "                           u\"\\U0001F680-\\U0001F6FF\"  # transport & map symbols\n",
    "                           u\"\\U0001F1E0-\\U0001F1FF\"  # flags (iOS)\n",
    "                           u\"\\U00002702-\\U000027B0\"\n",
    "                           u\"\\U000024C2-\\U0001F251\"\n",
    "                           \"]+\", flags=re.UNICODE)\n",
    "    return emoji_pattern.sub(r'', text)\n"
   ]
  },
  {
   "cell_type": "code",
   "execution_count": 80,
   "id": "8eaf1eb0",
   "metadata": {
    "slideshow": {
     "slide_type": "subslide"
    }
   },
   "outputs": [
    {
     "data": {
      "text/plain": [
       "'its flooding i am scared '"
      ]
     },
     "execution_count": 80,
     "metadata": {},
     "output_type": "execute_result"
    }
   ],
   "source": [
    "\n",
    "remove_emoji(\"its flooding i am scared 😔😔\")"
   ]
  },
  {
   "cell_type": "code",
   "execution_count": 82,
   "id": "a6f0d4cb",
   "metadata": {
    "slideshow": {
     "slide_type": "subslide"
    }
   },
   "outputs": [
    {
     "data": {
      "text/html": [
       "<div>\n",
       "<style scoped>\n",
       "    .dataframe tbody tr th:only-of-type {\n",
       "        vertical-align: middle;\n",
       "    }\n",
       "\n",
       "    .dataframe tbody tr th {\n",
       "        vertical-align: top;\n",
       "    }\n",
       "\n",
       "    .dataframe thead th {\n",
       "        text-align: right;\n",
       "    }\n",
       "</style>\n",
       "<table border=\"1\" class=\"dataframe\">\n",
       "  <thead>\n",
       "    <tr style=\"text-align: right;\">\n",
       "      <th></th>\n",
       "      <th>text</th>\n",
       "      <th>target</th>\n",
       "    </tr>\n",
       "  </thead>\n",
       "  <tbody>\n",
       "    <tr>\n",
       "      <th>0</th>\n",
       "      <td>Our Deeds are the Reason of this #earthquake M...</td>\n",
       "      <td>1.0</td>\n",
       "    </tr>\n",
       "    <tr>\n",
       "      <th>1</th>\n",
       "      <td>Forest fire near La Ronge Sask. Canada</td>\n",
       "      <td>1.0</td>\n",
       "    </tr>\n",
       "    <tr>\n",
       "      <th>2</th>\n",
       "      <td>All residents asked to 'shelter in place' are ...</td>\n",
       "      <td>1.0</td>\n",
       "    </tr>\n",
       "    <tr>\n",
       "      <th>3</th>\n",
       "      <td>13,000 people receive #wildfires evacuation or...</td>\n",
       "      <td>1.0</td>\n",
       "    </tr>\n",
       "    <tr>\n",
       "      <th>4</th>\n",
       "      <td>Just got sent this photo from Ruby #Alaska as ...</td>\n",
       "      <td>1.0</td>\n",
       "    </tr>\n",
       "  </tbody>\n",
       "</table>\n",
       "</div>"
      ],
      "text/plain": [
       "                                                text  target\n",
       "0  Our Deeds are the Reason of this #earthquake M...     1.0\n",
       "1             Forest fire near La Ronge Sask. Canada     1.0\n",
       "2  All residents asked to 'shelter in place' are ...     1.0\n",
       "3  13,000 people receive #wildfires evacuation or...     1.0\n",
       "4  Just got sent this photo from Ruby #Alaska as ...     1.0"
      ]
     },
     "execution_count": 82,
     "metadata": {},
     "output_type": "execute_result"
    }
   ],
   "source": [
    "df['text']=df['text'].apply(lambda x: remove_emoji(x))\n",
    "df[['text','target']].head()"
   ]
  },
  {
   "cell_type": "markdown",
   "id": "82c2b58a",
   "metadata": {
    "slideshow": {
     "slide_type": "slide"
    }
   },
   "source": [
    "<p style = \"font-size : 35px; color : #532e1c ; font-family : 'Times New Roman'; \"><strong>Removing punctuations</strong></p>\n",
    "\n",
    "Just like emojis punctuation also posses some kind of meaning like :) :( ..etc ,\n",
    "But its hard to encode such punctation to numeric formats when vectorizing text. So we can remove it"
   ]
  },
  {
   "cell_type": "code",
   "execution_count": 84,
   "id": "4eec6b24",
   "metadata": {
    "slideshow": {
     "slide_type": "subslide"
    }
   },
   "outputs": [
    {
     "name": "stdout",
     "output_type": "stream",
     "text": [
      "There are earthquakes\n"
     ]
    }
   ],
   "source": [
    "def remove_punct(text):\n",
    "    table=str.maketrans('','',string.punctuation)\n",
    "    return text.translate(table)\n",
    "\n",
    "example=\"There are #earthquakes\"\n",
    "print(remove_punct(example))"
   ]
  },
  {
   "cell_type": "code",
   "execution_count": 85,
   "id": "3df59cc1",
   "metadata": {
    "slideshow": {
     "slide_type": "subslide"
    }
   },
   "outputs": [
    {
     "data": {
      "text/html": [
       "<div>\n",
       "<style scoped>\n",
       "    .dataframe tbody tr th:only-of-type {\n",
       "        vertical-align: middle;\n",
       "    }\n",
       "\n",
       "    .dataframe tbody tr th {\n",
       "        vertical-align: top;\n",
       "    }\n",
       "\n",
       "    .dataframe thead th {\n",
       "        text-align: right;\n",
       "    }\n",
       "</style>\n",
       "<table border=\"1\" class=\"dataframe\">\n",
       "  <thead>\n",
       "    <tr style=\"text-align: right;\">\n",
       "      <th></th>\n",
       "      <th>text</th>\n",
       "      <th>target</th>\n",
       "    </tr>\n",
       "  </thead>\n",
       "  <tbody>\n",
       "    <tr>\n",
       "      <th>0</th>\n",
       "      <td>Our Deeds are the Reason of this earthquake Ma...</td>\n",
       "      <td>1.0</td>\n",
       "    </tr>\n",
       "    <tr>\n",
       "      <th>1</th>\n",
       "      <td>Forest fire near La Ronge Sask Canada</td>\n",
       "      <td>1.0</td>\n",
       "    </tr>\n",
       "    <tr>\n",
       "      <th>2</th>\n",
       "      <td>All residents asked to shelter in place are be...</td>\n",
       "      <td>1.0</td>\n",
       "    </tr>\n",
       "    <tr>\n",
       "      <th>3</th>\n",
       "      <td>13000 people receive wildfires evacuation orde...</td>\n",
       "      <td>1.0</td>\n",
       "    </tr>\n",
       "    <tr>\n",
       "      <th>4</th>\n",
       "      <td>Just got sent this photo from Ruby Alaska as s...</td>\n",
       "      <td>1.0</td>\n",
       "    </tr>\n",
       "  </tbody>\n",
       "</table>\n",
       "</div>"
      ],
      "text/plain": [
       "                                                text  target\n",
       "0  Our Deeds are the Reason of this earthquake Ma...     1.0\n",
       "1              Forest fire near La Ronge Sask Canada     1.0\n",
       "2  All residents asked to shelter in place are be...     1.0\n",
       "3  13000 people receive wildfires evacuation orde...     1.0\n",
       "4  Just got sent this photo from Ruby Alaska as s...     1.0"
      ]
     },
     "execution_count": 85,
     "metadata": {},
     "output_type": "execute_result"
    }
   ],
   "source": [
    "df['text']=df['text'].apply(lambda x : remove_punct(x))\n",
    "df[['text','target']].head()"
   ]
  },
  {
   "cell_type": "code",
   "execution_count": null,
   "id": "21b49443",
   "metadata": {},
   "outputs": [],
   "source": []
  }
 ],
 "metadata": {
  "celltoolbar": "Slideshow",
  "interpreter": {
   "hash": "eea1ea0ecaf1b6c9c37bdc3c13e4a6538d638c8bc02013b9db3c15d084051188"
  },
  "kernelspec": {
   "display_name": "spark_env",
   "language": "python",
   "name": "spark_env"
  },
  "language_info": {
   "codemirror_mode": {
    "name": "ipython",
    "version": 3
   },
   "file_extension": ".py",
   "mimetype": "text/x-python",
   "name": "python",
   "nbconvert_exporter": "python",
   "pygments_lexer": "ipython3",
   "version": "3.8.3"
  },
  "papermill": {
   "default_parameters": {},
   "duration": 81.080472,
   "end_time": "2021-05-19T14:09:09.666398",
   "environment_variables": {},
   "exception": null,
   "input_path": "__notebook__.ipynb",
   "output_path": "__notebook__.ipynb",
   "parameters": {},
   "start_time": "2021-05-19T14:07:48.585926",
   "version": "2.3.3"
  }
 },
 "nbformat": 4,
 "nbformat_minor": 5
}
