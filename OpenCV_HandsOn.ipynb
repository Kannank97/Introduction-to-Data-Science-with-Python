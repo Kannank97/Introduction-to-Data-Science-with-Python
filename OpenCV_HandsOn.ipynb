{
 "cells": [
  {
   "cell_type": "markdown",
   "id": "29a9e7f9",
   "metadata": {
    "slideshow": {
     "slide_type": "slide"
    }
   },
   "source": [
    "# OpenCV\n",
    "\n",
    "An opensource library which is supported by multiple platforms including Linux, Windows, Android and MacOS. \n",
    "It supports a wide variety of programming languages such as C++, Python, Java etc.\n",
    "<br>\n",
    "OpenCV-Python is the Python API for OpenCV, combining the best qualities of the OpenCV C++ API and the Python language."
   ]
  },
  {
   "cell_type": "markdown",
   "id": "7c9026ab",
   "metadata": {
    "slideshow": {
     "slide_type": "slide"
    }
   },
   "source": [
    "## Installing OpenCV-Python"
   ]
  },
  {
   "cell_type": "markdown",
   "id": "075a1dd5",
   "metadata": {
    "slideshow": {
     "slide_type": "slide"
    }
   },
   "source": [
    "### Pre-requisites\n",
    "\n",
    "1. Python 3.x\n",
    "2. Pip "
   ]
  },
  {
   "cell_type": "markdown",
   "id": "07abb1c1",
   "metadata": {
    "slideshow": {
     "slide_type": "subslide"
    }
   },
   "source": [
    "To make sure that the Python version you currently have in your system is 3.x, run the below command on your systems terminal or command Prompt\n",
    "\n",
    "```powershell\n",
    "$ python3 --version\n",
    "Python 3.9.1\n",
    "```\n",
    "\n",
    "Or you can confirm the same by executing the below cell\n",
    "\n"
   ]
  },
  {
   "cell_type": "code",
   "execution_count": null,
   "id": "acfe8e85",
   "metadata": {},
   "outputs": [],
   "source": [
    "!python"
   ]
  },
  {
   "cell_type": "code",
   "execution_count": null,
   "id": "4323dd68",
   "metadata": {},
   "outputs": [],
   "source": []
  }
 ],
 "metadata": {
  "celltoolbar": "Slideshow",
  "kernelspec": {
   "display_name": "Python 3 (ipykernel)",
   "language": "python",
   "name": "python3"
  },
  "language_info": {
   "codemirror_mode": {
    "name": "ipython",
    "version": 3
   },
   "file_extension": ".py",
   "mimetype": "text/x-python",
   "name": "python",
   "nbconvert_exporter": "python",
   "pygments_lexer": "ipython3",
   "version": "3.9.1"
  }
 },
 "nbformat": 4,
 "nbformat_minor": 5
}
